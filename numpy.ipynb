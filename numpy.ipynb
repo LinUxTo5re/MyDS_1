{
 "cells": [
  {
   "cell_type": "code",
   "execution_count": 1,
   "id": "canadian-ambassador",
   "metadata": {},
   "outputs": [],
   "source": [
    "import numpy as np"
   ]
  },
  {
   "cell_type": "code",
   "execution_count": 2,
   "id": "improving-title",
   "metadata": {},
   "outputs": [
    {
     "data": {
      "text/plain": [
       "array([2, 4, 3, 4])"
      ]
     },
     "execution_count": 2,
     "metadata": {},
     "output_type": "execute_result"
    }
   ],
   "source": [
    "np.array([2,4,3,4])"
   ]
  },
  {
   "cell_type": "code",
   "execution_count": 3,
   "id": "meaning-professional",
   "metadata": {},
   "outputs": [
    {
     "data": {
      "text/plain": [
       "array([0., 0., 0.])"
      ]
     },
     "execution_count": 3,
     "metadata": {},
     "output_type": "execute_result"
    }
   ],
   "source": [
    "np.zeros(3)"
   ]
  },
  {
   "cell_type": "code",
   "execution_count": 4,
   "id": "designing-chosen",
   "metadata": {},
   "outputs": [
    {
     "ename": "AttributeError",
     "evalue": "module 'numpy' has no attribute 'zerow'",
     "output_type": "error",
     "traceback": [
      "\u001b[0;31m---------------------------------------------------------------------------\u001b[0m",
      "\u001b[0;31mAttributeError\u001b[0m                            Traceback (most recent call last)",
      "\u001b[0;32m<ipython-input-4-33eb686ce50a>\u001b[0m in \u001b[0;36m<module>\u001b[0;34m\u001b[0m\n\u001b[0;32m----> 1\u001b[0;31m \u001b[0mnp\u001b[0m\u001b[0;34m.\u001b[0m\u001b[0mzerow\u001b[0m\u001b[0;34m(\u001b[0m\u001b[0;36m3\u001b[0m\u001b[0;34m,\u001b[0m\u001b[0;36m3\u001b[0m\u001b[0;34m)\u001b[0m\u001b[0;34m\u001b[0m\u001b[0;34m\u001b[0m\u001b[0m\n\u001b[0m",
      "\u001b[0;32m/usr/lib/python3/dist-packages/numpy/__init__.py\u001b[0m in \u001b[0;36m__getattr__\u001b[0;34m(attr)\u001b[0m\n\u001b[1;32m    212\u001b[0m                 \u001b[0;32mreturn\u001b[0m \u001b[0mTester\u001b[0m\u001b[0;34m\u001b[0m\u001b[0;34m\u001b[0m\u001b[0m\n\u001b[1;32m    213\u001b[0m             \u001b[0;32melse\u001b[0m\u001b[0;34m:\u001b[0m\u001b[0;34m\u001b[0m\u001b[0;34m\u001b[0m\u001b[0m\n\u001b[0;32m--> 214\u001b[0;31m                 raise AttributeError(\"module {!r} has no attribute \"\n\u001b[0m\u001b[1;32m    215\u001b[0m                                      \"{!r}\".format(__name__, attr))\n\u001b[1;32m    216\u001b[0m \u001b[0;34m\u001b[0m\u001b[0m\n",
      "\u001b[0;31mAttributeError\u001b[0m: module 'numpy' has no attribute 'zerow'"
     ]
    }
   ],
   "source": [
    "np.zerow(3,3)"
   ]
  },
  {
   "cell_type": "code",
   "execution_count": 5,
   "id": "geographic-things",
   "metadata": {},
   "outputs": [
    {
     "ename": "TypeError",
     "evalue": "Cannot interpret '3' as a data type",
     "output_type": "error",
     "traceback": [
      "\u001b[0;31m---------------------------------------------------------------------------\u001b[0m",
      "\u001b[0;31mTypeError\u001b[0m                                 Traceback (most recent call last)",
      "\u001b[0;32m<ipython-input-5-a1af5744063d>\u001b[0m in \u001b[0;36m<module>\u001b[0;34m\u001b[0m\n\u001b[0;32m----> 1\u001b[0;31m \u001b[0mnp\u001b[0m\u001b[0;34m.\u001b[0m\u001b[0mzeros\u001b[0m\u001b[0;34m(\u001b[0m\u001b[0;36m3\u001b[0m\u001b[0;34m,\u001b[0m\u001b[0;36m3\u001b[0m\u001b[0;34m)\u001b[0m\u001b[0;34m\u001b[0m\u001b[0;34m\u001b[0m\u001b[0m\n\u001b[0m",
      "\u001b[0;31mTypeError\u001b[0m: Cannot interpret '3' as a data type"
     ]
    }
   ],
   "source": [
    "np.zeros(3,3)"
   ]
  },
  {
   "cell_type": "code",
   "execution_count": 6,
   "id": "random-silly",
   "metadata": {},
   "outputs": [
    {
     "data": {
      "text/plain": [
       "array([[0., 0., 0.],\n",
       "       [0., 0., 0.],\n",
       "       [0., 0., 0.]])"
      ]
     },
     "execution_count": 6,
     "metadata": {},
     "output_type": "execute_result"
    }
   ],
   "source": [
    "np.zeros((3,3))"
   ]
  },
  {
   "cell_type": "code",
   "execution_count": 7,
   "id": "public-sessions",
   "metadata": {},
   "outputs": [
    {
     "data": {
      "text/plain": [
       "array([[1.]])"
      ]
     },
     "execution_count": 7,
     "metadata": {},
     "output_type": "execute_result"
    }
   ],
   "source": [
    "np.ones((1,1))"
   ]
  },
  {
   "cell_type": "code",
   "execution_count": 8,
   "id": "dental-catch",
   "metadata": {},
   "outputs": [
    {
     "data": {
      "text/plain": [
       "array([[1., 1., 1., 1.],\n",
       "       [1., 1., 1., 1.],\n",
       "       [1., 1., 1., 1.]])"
      ]
     },
     "execution_count": 8,
     "metadata": {},
     "output_type": "execute_result"
    }
   ],
   "source": [
    "np.ones((3,4))"
   ]
  },
  {
   "cell_type": "code",
   "execution_count": 9,
   "id": "growing-large",
   "metadata": {},
   "outputs": [
    {
     "data": {
      "text/plain": [
       "array([ 2.        ,  2.42105263,  2.84210526,  3.26315789,  3.68421053,\n",
       "        4.10526316,  4.52631579,  4.94736842,  5.36842105,  5.78947368,\n",
       "        6.21052632,  6.63157895,  7.05263158,  7.47368421,  7.89473684,\n",
       "        8.31578947,  8.73684211,  9.15789474,  9.57894737, 10.        ])"
      ]
     },
     "execution_count": 9,
     "metadata": {},
     "output_type": "execute_result"
    }
   ],
   "source": [
    "np.linspace(2,10,20)"
   ]
  },
  {
   "cell_type": "code",
   "execution_count": 10,
   "id": "fossil-optimum",
   "metadata": {},
   "outputs": [
    {
     "data": {
      "text/plain": [
       "array([0.84992462, 0.7414909 , 0.67021589, 0.37575433])"
      ]
     },
     "execution_count": 10,
     "metadata": {},
     "output_type": "execute_result"
    }
   ],
   "source": [
    "np.random.random(4)"
   ]
  },
  {
   "cell_type": "code",
   "execution_count": 11,
   "id": "future-wallpaper",
   "metadata": {},
   "outputs": [
    {
     "data": {
      "text/plain": [
       "array([0.94199885, 0.40870655, 0.3575301 , 0.72518426, 0.88538514])"
      ]
     },
     "execution_count": 11,
     "metadata": {},
     "output_type": "execute_result"
    }
   ],
   "source": [
    "np.random.rand(5)"
   ]
  },
  {
   "cell_type": "markdown",
   "id": "final-conspiracy",
   "metadata": {},
   "source": [
    "# Numpy 2021"
   ]
  },
  {
   "cell_type": "code",
   "execution_count": 12,
   "id": "alone-christianity",
   "metadata": {},
   "outputs": [],
   "source": [
    "a=np.array([1,2,3,4])"
   ]
  },
  {
   "cell_type": "code",
   "execution_count": 13,
   "id": "equipped-loading",
   "metadata": {},
   "outputs": [
    {
     "data": {
      "text/plain": [
       "numpy.ndarray"
      ]
     },
     "execution_count": 13,
     "metadata": {},
     "output_type": "execute_result"
    }
   ],
   "source": [
    "type(a)"
   ]
  },
  {
   "cell_type": "code",
   "execution_count": 14,
   "id": "fewer-killer",
   "metadata": {},
   "outputs": [
    {
     "ename": "NameError",
     "evalue": "name 'dtype' is not defined",
     "output_type": "error",
     "traceback": [
      "\u001b[0;31m---------------------------------------------------------------------------\u001b[0m",
      "\u001b[0;31mNameError\u001b[0m                                 Traceback (most recent call last)",
      "\u001b[0;32m<ipython-input-14-417b5e91ea4a>\u001b[0m in \u001b[0;36m<module>\u001b[0;34m\u001b[0m\n\u001b[0;32m----> 1\u001b[0;31m \u001b[0mdtype\u001b[0m\u001b[0;34m(\u001b[0m\u001b[0ma\u001b[0m\u001b[0;34m)\u001b[0m\u001b[0;34m\u001b[0m\u001b[0;34m\u001b[0m\u001b[0m\n\u001b[0m",
      "\u001b[0;31mNameError\u001b[0m: name 'dtype' is not defined"
     ]
    }
   ],
   "source": [
    "dtype(a)"
   ]
  },
  {
   "cell_type": "code",
   "execution_count": 15,
   "id": "raised-chase",
   "metadata": {},
   "outputs": [
    {
     "data": {
      "text/plain": [
       "dtype('int64')"
      ]
     },
     "execution_count": 15,
     "metadata": {},
     "output_type": "execute_result"
    }
   ],
   "source": [
    "a.dtype"
   ]
  },
  {
   "cell_type": "code",
   "execution_count": 16,
   "id": "whole-effect",
   "metadata": {},
   "outputs": [
    {
     "ename": "TypeError",
     "evalue": "'tuple' object is not callable",
     "output_type": "error",
     "traceback": [
      "\u001b[0;31m---------------------------------------------------------------------------\u001b[0m",
      "\u001b[0;31mTypeError\u001b[0m                                 Traceback (most recent call last)",
      "\u001b[0;32m<ipython-input-16-2955bfce3442>\u001b[0m in \u001b[0;36m<module>\u001b[0;34m\u001b[0m\n\u001b[0;32m----> 1\u001b[0;31m \u001b[0ma\u001b[0m\u001b[0;34m.\u001b[0m\u001b[0mshape\u001b[0m\u001b[0;34m(\u001b[0m\u001b[0;34m)\u001b[0m\u001b[0;34m\u001b[0m\u001b[0;34m\u001b[0m\u001b[0m\n\u001b[0m",
      "\u001b[0;31mTypeError\u001b[0m: 'tuple' object is not callable"
     ]
    }
   ],
   "source": [
    "a.shape()"
   ]
  },
  {
   "cell_type": "code",
   "execution_count": 17,
   "id": "advised-faculty",
   "metadata": {},
   "outputs": [
    {
     "data": {
      "text/plain": [
       "(4,)"
      ]
     },
     "execution_count": 17,
     "metadata": {},
     "output_type": "execute_result"
    }
   ],
   "source": [
    "a.shape"
   ]
  },
  {
   "cell_type": "code",
   "execution_count": 18,
   "id": "revolutionary-graph",
   "metadata": {},
   "outputs": [
    {
     "data": {
      "text/plain": [
       "dtype('int64')"
      ]
     },
     "execution_count": 18,
     "metadata": {},
     "output_type": "execute_result"
    }
   ],
   "source": [
    "a.dtype"
   ]
  },
  {
   "cell_type": "code",
   "execution_count": 19,
   "id": "anonymous-russell",
   "metadata": {},
   "outputs": [
    {
     "data": {
      "text/plain": [
       "4"
      ]
     },
     "execution_count": 19,
     "metadata": {},
     "output_type": "execute_result"
    }
   ],
   "source": [
    "a.size"
   ]
  },
  {
   "cell_type": "code",
   "execution_count": 20,
   "id": "signal-manchester",
   "metadata": {},
   "outputs": [
    {
     "data": {
      "text/plain": [
       "array([1, 2, 3, 4])"
      ]
     },
     "execution_count": 20,
     "metadata": {},
     "output_type": "execute_result"
    }
   ],
   "source": [
    "a"
   ]
  },
  {
   "cell_type": "code",
   "execution_count": 21,
   "id": "framed-implement",
   "metadata": {},
   "outputs": [
    {
     "data": {
      "text/plain": [
       "1"
      ]
     },
     "execution_count": 21,
     "metadata": {},
     "output_type": "execute_result"
    }
   ],
   "source": [
    "a.ndim"
   ]
  },
  {
   "cell_type": "code",
   "execution_count": 22,
   "id": "closing-trauma",
   "metadata": {},
   "outputs": [
    {
     "data": {
      "text/plain": [
       "8"
      ]
     },
     "execution_count": 22,
     "metadata": {},
     "output_type": "execute_result"
    }
   ],
   "source": [
    "a.itemsize"
   ]
  },
  {
   "cell_type": "code",
   "execution_count": 23,
   "id": "optimum-portland",
   "metadata": {},
   "outputs": [],
   "source": [
    "l1=[[2,4,3,5],[4,5,3,2]]"
   ]
  },
  {
   "cell_type": "code",
   "execution_count": 24,
   "id": "martial-integral",
   "metadata": {},
   "outputs": [
    {
     "data": {
      "text/plain": [
       "[[2, 4, 3, 5], [4, 5, 3, 2]]"
      ]
     },
     "execution_count": 24,
     "metadata": {},
     "output_type": "execute_result"
    }
   ],
   "source": [
    "l1\n"
   ]
  },
  {
   "cell_type": "code",
   "execution_count": 25,
   "id": "trying-button",
   "metadata": {},
   "outputs": [
    {
     "data": {
      "text/plain": [
       "list"
      ]
     },
     "execution_count": 25,
     "metadata": {},
     "output_type": "execute_result"
    }
   ],
   "source": [
    "type(l1)"
   ]
  },
  {
   "cell_type": "code",
   "execution_count": 26,
   "id": "turkish-belize",
   "metadata": {},
   "outputs": [],
   "source": [
    "l2=np.array(l1)"
   ]
  },
  {
   "cell_type": "code",
   "execution_count": 27,
   "id": "preceding-greenhouse",
   "metadata": {},
   "outputs": [
    {
     "data": {
      "text/plain": [
       "array([[2, 4, 3, 5],\n",
       "       [4, 5, 3, 2]])"
      ]
     },
     "execution_count": 27,
     "metadata": {},
     "output_type": "execute_result"
    }
   ],
   "source": [
    "l2"
   ]
  },
  {
   "cell_type": "code",
   "execution_count": 28,
   "id": "tired-premises",
   "metadata": {},
   "outputs": [
    {
     "data": {
      "text/plain": [
       "2"
      ]
     },
     "execution_count": 28,
     "metadata": {},
     "output_type": "execute_result"
    }
   ],
   "source": [
    "l2.ndim"
   ]
  },
  {
   "cell_type": "code",
   "execution_count": 29,
   "id": "unknown-illness",
   "metadata": {},
   "outputs": [
    {
     "data": {
      "text/plain": [
       "(2, 4)"
      ]
     },
     "execution_count": 29,
     "metadata": {},
     "output_type": "execute_result"
    }
   ],
   "source": [
    "l2.shape"
   ]
  },
  {
   "cell_type": "code",
   "execution_count": 30,
   "id": "wrapped-mountain",
   "metadata": {},
   "outputs": [
    {
     "data": {
      "text/plain": [
       "8"
      ]
     },
     "execution_count": 30,
     "metadata": {},
     "output_type": "execute_result"
    }
   ],
   "source": [
    "l2.size"
   ]
  },
  {
   "cell_type": "code",
   "execution_count": 31,
   "id": "suitable-demonstration",
   "metadata": {},
   "outputs": [
    {
     "data": {
      "text/plain": [
       "8"
      ]
     },
     "execution_count": 31,
     "metadata": {},
     "output_type": "execute_result"
    }
   ],
   "source": [
    "l2.itemsize"
   ]
  },
  {
   "cell_type": "code",
   "execution_count": 32,
   "id": "deluxe-latter",
   "metadata": {},
   "outputs": [
    {
     "data": {
      "text/plain": [
       "dtype('int64')"
      ]
     },
     "execution_count": 32,
     "metadata": {},
     "output_type": "execute_result"
    }
   ],
   "source": [
    "l2.dtype"
   ]
  },
  {
   "cell_type": "code",
   "execution_count": 33,
   "id": "prescribed-electron",
   "metadata": {},
   "outputs": [
    {
     "data": {
      "text/plain": [
       "'int64'"
      ]
     },
     "execution_count": 33,
     "metadata": {},
     "output_type": "execute_result"
    }
   ],
   "source": [
    "l2.dtype.name"
   ]
  },
  {
   "cell_type": "code",
   "execution_count": 34,
   "id": "possible-major",
   "metadata": {},
   "outputs": [
    {
     "data": {
      "text/plain": [
       "dtype('int64')"
      ]
     },
     "execution_count": 34,
     "metadata": {},
     "output_type": "execute_result"
    }
   ],
   "source": [
    "l2.dtype"
   ]
  },
  {
   "cell_type": "code",
   "execution_count": 35,
   "id": "sudden-concord",
   "metadata": {},
   "outputs": [
    {
     "ename": "NameError",
     "evalue": "name 'int32' is not defined",
     "output_type": "error",
     "traceback": [
      "\u001b[0;31m---------------------------------------------------------------------------\u001b[0m",
      "\u001b[0;31mNameError\u001b[0m                                 Traceback (most recent call last)",
      "\u001b[0;32m<ipython-input-35-6eb82beb4c71>\u001b[0m in \u001b[0;36m<module>\u001b[0;34m\u001b[0m\n\u001b[0;32m----> 1\u001b[0;31m \u001b[0mb\u001b[0m\u001b[0;34m=\u001b[0m\u001b[0mnp\u001b[0m\u001b[0;34m.\u001b[0m\u001b[0marray\u001b[0m\u001b[0;34m(\u001b[0m\u001b[0ma\u001b[0m\u001b[0;34m,\u001b[0m\u001b[0mdtype\u001b[0m\u001b[0;34m=\u001b[0m\u001b[0mint32\u001b[0m\u001b[0;34m)\u001b[0m\u001b[0;34m\u001b[0m\u001b[0;34m\u001b[0m\u001b[0m\n\u001b[0m",
      "\u001b[0;31mNameError\u001b[0m: name 'int32' is not defined"
     ]
    }
   ],
   "source": [
    "b=np.array(a,dtype=int32)"
   ]
  },
  {
   "cell_type": "code",
   "execution_count": 36,
   "id": "following-championship",
   "metadata": {},
   "outputs": [],
   "source": [
    "b=np.array(a,dtype='int32')"
   ]
  },
  {
   "cell_type": "code",
   "execution_count": 37,
   "id": "previous-convert",
   "metadata": {},
   "outputs": [
    {
     "data": {
      "text/plain": [
       "'int32'"
      ]
     },
     "execution_count": 37,
     "metadata": {},
     "output_type": "execute_result"
    }
   ],
   "source": [
    "b.dtype.name"
   ]
  },
  {
   "cell_type": "code",
   "execution_count": 38,
   "id": "analyzed-indication",
   "metadata": {},
   "outputs": [
    {
     "data": {
      "text/plain": [
       "array([1, 2, 3, 4], dtype=int32)"
      ]
     },
     "execution_count": 38,
     "metadata": {},
     "output_type": "execute_result"
    }
   ],
   "source": [
    "b"
   ]
  },
  {
   "cell_type": "code",
   "execution_count": 39,
   "id": "exciting-symposium",
   "metadata": {},
   "outputs": [
    {
     "data": {
      "text/plain": [
       "array([1, 2, 3, 4])"
      ]
     },
     "execution_count": 39,
     "metadata": {},
     "output_type": "execute_result"
    }
   ],
   "source": [
    "a"
   ]
  },
  {
   "cell_type": "code",
   "execution_count": 40,
   "id": "flexible-particle",
   "metadata": {},
   "outputs": [
    {
     "data": {
      "text/plain": [
       "array([[2, 4, 3, 5],\n",
       "       [4, 5, 3, 2]])"
      ]
     },
     "execution_count": 40,
     "metadata": {},
     "output_type": "execute_result"
    }
   ],
   "source": [
    "l2"
   ]
  },
  {
   "cell_type": "code",
   "execution_count": 41,
   "id": "dried-iraqi",
   "metadata": {},
   "outputs": [
    {
     "data": {
      "text/plain": [
       "dtype('int64')"
      ]
     },
     "execution_count": 41,
     "metadata": {},
     "output_type": "execute_result"
    }
   ],
   "source": [
    "l2.dtype"
   ]
  },
  {
   "cell_type": "code",
   "execution_count": 42,
   "id": "tough-congress",
   "metadata": {},
   "outputs": [],
   "source": [
    "l2=np.array(l1,dtype='float32')"
   ]
  },
  {
   "cell_type": "code",
   "execution_count": 43,
   "id": "measured-richardson",
   "metadata": {},
   "outputs": [
    {
     "data": {
      "text/plain": [
       "array([[2., 4., 3., 5.],\n",
       "       [4., 5., 3., 2.]], dtype=float32)"
      ]
     },
     "execution_count": 43,
     "metadata": {},
     "output_type": "execute_result"
    }
   ],
   "source": [
    "l2"
   ]
  },
  {
   "cell_type": "code",
   "execution_count": 44,
   "id": "medium-encyclopedia",
   "metadata": {},
   "outputs": [],
   "source": [
    "l2=np.array(l1,dtype='int32')"
   ]
  },
  {
   "cell_type": "code",
   "execution_count": 45,
   "id": "prompt-purse",
   "metadata": {},
   "outputs": [
    {
     "data": {
      "text/plain": [
       "array([[2, 4, 3, 5],\n",
       "       [4, 5, 3, 2]], dtype=int32)"
      ]
     },
     "execution_count": 45,
     "metadata": {},
     "output_type": "execute_result"
    }
   ],
   "source": [
    "l2"
   ]
  },
  {
   "cell_type": "code",
   "execution_count": 46,
   "id": "danish-virgin",
   "metadata": {},
   "outputs": [],
   "source": [
    "l2=np.array(a,dtype='complex')"
   ]
  },
  {
   "cell_type": "code",
   "execution_count": 47,
   "id": "handed-century",
   "metadata": {},
   "outputs": [
    {
     "data": {
      "text/plain": [
       "array([1.+0.j, 2.+0.j, 3.+0.j, 4.+0.j])"
      ]
     },
     "execution_count": 47,
     "metadata": {},
     "output_type": "execute_result"
    }
   ],
   "source": [
    "l2"
   ]
  },
  {
   "cell_type": "code",
   "execution_count": 48,
   "id": "fuzzy-archive",
   "metadata": {},
   "outputs": [
    {
     "data": {
      "text/plain": [
       "'complex128'"
      ]
     },
     "execution_count": 48,
     "metadata": {},
     "output_type": "execute_result"
    }
   ],
   "source": [
    "l2.dtype.name"
   ]
  },
  {
   "cell_type": "code",
   "execution_count": 49,
   "id": "short-sheep",
   "metadata": {},
   "outputs": [],
   "source": [
    "l2=np.array(a,dtype='complex64')"
   ]
  },
  {
   "cell_type": "code",
   "execution_count": 50,
   "id": "fatty-sentence",
   "metadata": {},
   "outputs": [
    {
     "data": {
      "text/plain": [
       "array([1.+0.j, 2.+0.j, 3.+0.j, 4.+0.j], dtype=complex64)"
      ]
     },
     "execution_count": 50,
     "metadata": {},
     "output_type": "execute_result"
    }
   ],
   "source": [
    "l2"
   ]
  },
  {
   "cell_type": "code",
   "execution_count": 51,
   "id": "centered-healthcare",
   "metadata": {},
   "outputs": [],
   "source": [
    "zero=np.zeros((2,3))"
   ]
  },
  {
   "cell_type": "code",
   "execution_count": 52,
   "id": "behind-receptor",
   "metadata": {},
   "outputs": [
    {
     "data": {
      "text/plain": [
       "array([[0., 0., 0.],\n",
       "       [0., 0., 0.]])"
      ]
     },
     "execution_count": 52,
     "metadata": {},
     "output_type": "execute_result"
    }
   ],
   "source": [
    "zero"
   ]
  },
  {
   "cell_type": "code",
   "execution_count": 53,
   "id": "liable-austria",
   "metadata": {},
   "outputs": [
    {
     "ename": "AttributeError",
     "evalue": "'numpy.ndarray' object has no attribute 'type'",
     "output_type": "error",
     "traceback": [
      "\u001b[0;31m---------------------------------------------------------------------------\u001b[0m",
      "\u001b[0;31mAttributeError\u001b[0m                            Traceback (most recent call last)",
      "\u001b[0;32m<ipython-input-53-ee2f3eaabe2b>\u001b[0m in \u001b[0;36m<module>\u001b[0;34m\u001b[0m\n\u001b[0;32m----> 1\u001b[0;31m \u001b[0mzero\u001b[0m\u001b[0;34m.\u001b[0m\u001b[0mtype\u001b[0m\u001b[0;34m\u001b[0m\u001b[0;34m\u001b[0m\u001b[0m\n\u001b[0m",
      "\u001b[0;31mAttributeError\u001b[0m: 'numpy.ndarray' object has no attribute 'type'"
     ]
    }
   ],
   "source": [
    "zero.type"
   ]
  },
  {
   "cell_type": "code",
   "execution_count": 54,
   "id": "endless-toddler",
   "metadata": {},
   "outputs": [
    {
     "data": {
      "text/plain": [
       "dtype('float64')"
      ]
     },
     "execution_count": 54,
     "metadata": {},
     "output_type": "execute_result"
    }
   ],
   "source": [
    "zero.dtype"
   ]
  },
  {
   "cell_type": "code",
   "execution_count": 56,
   "id": "bearing-oliver",
   "metadata": {},
   "outputs": [
    {
     "ename": "AttributeError",
     "evalue": "attribute 'name' of 'numpy.dtype' objects is not writable",
     "output_type": "error",
     "traceback": [
      "\u001b[0;31m---------------------------------------------------------------------------\u001b[0m",
      "\u001b[0;31mAttributeError\u001b[0m                            Traceback (most recent call last)",
      "\u001b[0;32m<ipython-input-56-f32d1557a611>\u001b[0m in \u001b[0;36m<module>\u001b[0;34m\u001b[0m\n\u001b[0;32m----> 1\u001b[0;31m \u001b[0mzero\u001b[0m\u001b[0;34m.\u001b[0m\u001b[0mdtype\u001b[0m\u001b[0;34m.\u001b[0m\u001b[0mname\u001b[0m\u001b[0;34m=\u001b[0m\u001b[0;34m'int32'\u001b[0m\u001b[0;34m\u001b[0m\u001b[0;34m\u001b[0m\u001b[0m\n\u001b[0m",
      "\u001b[0;31mAttributeError\u001b[0m: attribute 'name' of 'numpy.dtype' objects is not writable"
     ]
    }
   ],
   "source": [
    "zero.dtype.name='int32'"
   ]
  },
  {
   "cell_type": "code",
   "execution_count": 57,
   "id": "boxed-carpet",
   "metadata": {},
   "outputs": [],
   "source": [
    "zero.dtype='int32'"
   ]
  },
  {
   "cell_type": "code",
   "execution_count": 58,
   "id": "placed-values",
   "metadata": {},
   "outputs": [
    {
     "data": {
      "text/plain": [
       "array([[0, 0, 0, 0, 0, 0],\n",
       "       [0, 0, 0, 0, 0, 0]], dtype=int32)"
      ]
     },
     "execution_count": 58,
     "metadata": {},
     "output_type": "execute_result"
    }
   ],
   "source": [
    "zero"
   ]
  },
  {
   "cell_type": "code",
   "execution_count": 59,
   "id": "sticky-companion",
   "metadata": {},
   "outputs": [
    {
     "data": {
      "text/plain": [
       "(2, 6)"
      ]
     },
     "execution_count": 59,
     "metadata": {},
     "output_type": "execute_result"
    }
   ],
   "source": [
    "zero.shape"
   ]
  },
  {
   "cell_type": "code",
   "execution_count": 60,
   "id": "future-eugene",
   "metadata": {},
   "outputs": [
    {
     "data": {
      "text/plain": [
       "2"
      ]
     },
     "execution_count": 60,
     "metadata": {},
     "output_type": "execute_result"
    }
   ],
   "source": [
    "zero.ndim"
   ]
  },
  {
   "cell_type": "code",
   "execution_count": 61,
   "id": "hearing-study",
   "metadata": {},
   "outputs": [
    {
     "data": {
      "text/plain": [
       "12"
      ]
     },
     "execution_count": 61,
     "metadata": {},
     "output_type": "execute_result"
    }
   ],
   "source": [
    "zero.size"
   ]
  },
  {
   "cell_type": "code",
   "execution_count": 62,
   "id": "informal-official",
   "metadata": {},
   "outputs": [
    {
     "data": {
      "text/plain": [
       "4"
      ]
     },
     "execution_count": 62,
     "metadata": {},
     "output_type": "execute_result"
    }
   ],
   "source": [
    "zero.itemsize"
   ]
  },
  {
   "cell_type": "code",
   "execution_count": 63,
   "id": "essential-coverage",
   "metadata": {},
   "outputs": [
    {
     "ename": "SyntaxError",
     "evalue": "invalid syntax (<ipython-input-63-ee3a7ed07b7f>, line 1)",
     "output_type": "error",
     "traceback": [
      "\u001b[0;36m  File \u001b[0;32m\"<ipython-input-63-ee3a7ed07b7f>\"\u001b[0;36m, line \u001b[0;32m1\u001b[0m\n\u001b[0;31m    one=np.ones((4,3,dtype='int32'))\u001b[0m\n\u001b[0m                          ^\u001b[0m\n\u001b[0;31mSyntaxError\u001b[0m\u001b[0;31m:\u001b[0m invalid syntax\n"
     ]
    }
   ],
   "source": [
    "one=np.ones((4,3,dtype='int32'))"
   ]
  },
  {
   "cell_type": "code",
   "execution_count": 64,
   "id": "antique-prophet",
   "metadata": {},
   "outputs": [
    {
     "ename": "SyntaxError",
     "evalue": "invalid syntax (<ipython-input-64-7ed8d2f0b11d>, line 1)",
     "output_type": "error",
     "traceback": [
      "\u001b[0;36m  File \u001b[0;32m\"<ipython-input-64-7ed8d2f0b11d>\"\u001b[0;36m, line \u001b[0;32m1\u001b[0m\n\u001b[0;31m    one=np.ones(((4,3),dtype='int32'))\u001b[0m\n\u001b[0m                            ^\u001b[0m\n\u001b[0;31mSyntaxError\u001b[0m\u001b[0;31m:\u001b[0m invalid syntax\n"
     ]
    }
   ],
   "source": [
    "one=np.ones(((4,3),dtype='int32'))"
   ]
  },
  {
   "cell_type": "code",
   "execution_count": 65,
   "id": "crude-elements",
   "metadata": {},
   "outputs": [
    {
     "ename": "TypeError",
     "evalue": "ones() got multiple values for argument 'dtype'",
     "output_type": "error",
     "traceback": [
      "\u001b[0;31m---------------------------------------------------------------------------\u001b[0m",
      "\u001b[0;31mTypeError\u001b[0m                                 Traceback (most recent call last)",
      "\u001b[0;32m<ipython-input-65-da1375395cb8>\u001b[0m in \u001b[0;36m<module>\u001b[0;34m\u001b[0m\n\u001b[0;32m----> 1\u001b[0;31m \u001b[0mone\u001b[0m\u001b[0;34m=\u001b[0m\u001b[0mnp\u001b[0m\u001b[0;34m.\u001b[0m\u001b[0mones\u001b[0m\u001b[0;34m(\u001b[0m\u001b[0;36m4\u001b[0m\u001b[0;34m,\u001b[0m\u001b[0;36m3\u001b[0m\u001b[0;34m,\u001b[0m\u001b[0mdtype\u001b[0m\u001b[0;34m=\u001b[0m\u001b[0;34m'int32'\u001b[0m\u001b[0;34m)\u001b[0m\u001b[0;34m\u001b[0m\u001b[0;34m\u001b[0m\u001b[0m\n\u001b[0m",
      "\u001b[0;31mTypeError\u001b[0m: ones() got multiple values for argument 'dtype'"
     ]
    }
   ],
   "source": [
    "one=np.ones(4,3,dtype='int32')"
   ]
  },
  {
   "cell_type": "code",
   "execution_count": 66,
   "id": "pharmaceutical-murder",
   "metadata": {},
   "outputs": [],
   "source": [
    "one=np.ones((4,3),dtype='int64')"
   ]
  },
  {
   "cell_type": "code",
   "execution_count": 67,
   "id": "pressed-destiny",
   "metadata": {},
   "outputs": [
    {
     "data": {
      "text/plain": [
       "array([[1, 1, 1],\n",
       "       [1, 1, 1],\n",
       "       [1, 1, 1],\n",
       "       [1, 1, 1]])"
      ]
     },
     "execution_count": 67,
     "metadata": {},
     "output_type": "execute_result"
    }
   ],
   "source": [
    "one"
   ]
  },
  {
   "cell_type": "code",
   "execution_count": 68,
   "id": "organizational-salem",
   "metadata": {},
   "outputs": [
    {
     "data": {
      "text/plain": [
       "'int64'"
      ]
     },
     "execution_count": 68,
     "metadata": {},
     "output_type": "execute_result"
    }
   ],
   "source": [
    "one.dtype.name"
   ]
  },
  {
   "cell_type": "code",
   "execution_count": 69,
   "id": "compliant-instruction",
   "metadata": {},
   "outputs": [
    {
     "data": {
      "text/plain": [
       "array([0, 1, 2, 3, 4, 5, 6, 7, 8, 9])"
      ]
     },
     "execution_count": 69,
     "metadata": {},
     "output_type": "execute_result"
    }
   ],
   "source": [
    "np.arange(0,10)"
   ]
  },
  {
   "cell_type": "code",
   "execution_count": 70,
   "id": "directed-nelson",
   "metadata": {},
   "outputs": [
    {
     "data": {
      "text/plain": [
       "array([0, 2, 4, 6, 8])"
      ]
     },
     "execution_count": 70,
     "metadata": {},
     "output_type": "execute_result"
    }
   ],
   "source": [
    "np.arange(0,10,2)"
   ]
  },
  {
   "cell_type": "code",
   "execution_count": 71,
   "id": "radio-festival",
   "metadata": {},
   "outputs": [
    {
     "data": {
      "text/plain": [
       "array([12.        , 12.88888889, 13.77777778, 14.66666667, 15.55555556,\n",
       "       16.44444444, 17.33333333, 18.22222222, 19.11111111, 20.        ])"
      ]
     },
     "execution_count": 71,
     "metadata": {},
     "output_type": "execute_result"
    }
   ],
   "source": [
    "np.linspace(12,20,10)"
   ]
  },
  {
   "cell_type": "code",
   "execution_count": 72,
   "id": "noble-speaker",
   "metadata": {},
   "outputs": [
    {
     "data": {
      "text/plain": [
       "array([[12.        , 12.88888889, 13.77777778, 14.66666667, 15.55555556],\n",
       "       [16.44444444, 17.33333333, 18.22222222, 19.11111111, 20.        ]])"
      ]
     },
     "execution_count": 72,
     "metadata": {},
     "output_type": "execute_result"
    }
   ],
   "source": [
    "np.linspace(12,20,10).reshape(2,5)"
   ]
  },
  {
   "cell_type": "code",
   "execution_count": 73,
   "id": "usual-shirt",
   "metadata": {},
   "outputs": [
    {
     "data": {
      "text/plain": [
       "array([[12.        , 12.88888889],\n",
       "       [13.77777778, 14.66666667],\n",
       "       [15.55555556, 16.44444444],\n",
       "       [17.33333333, 18.22222222],\n",
       "       [19.11111111, 20.        ]])"
      ]
     },
     "execution_count": 73,
     "metadata": {},
     "output_type": "execute_result"
    }
   ],
   "source": [
    "np.linspace(12,20,10).reshape(5,2)"
   ]
  },
  {
   "cell_type": "code",
   "execution_count": 74,
   "id": "minimal-bible",
   "metadata": {},
   "outputs": [
    {
     "data": {
      "text/plain": [
       "array([ 3. ,  6.5, 10. , 13.5, 17. , 20.5, 24. , 27.5])"
      ]
     },
     "execution_count": 74,
     "metadata": {},
     "output_type": "execute_result"
    }
   ],
   "source": [
    "np.arange(3,30,3.5)"
   ]
  },
  {
   "cell_type": "code",
   "execution_count": 75,
   "id": "lesser-working",
   "metadata": {},
   "outputs": [
    {
     "data": {
      "text/plain": [
       "array([[ 3. ,  6.5, 10. , 13.5],\n",
       "       [17. , 20.5, 24. , 27.5]])"
      ]
     },
     "execution_count": 75,
     "metadata": {},
     "output_type": "execute_result"
    }
   ],
   "source": [
    "np.arange(3,30,3.5).reshape(2,4)"
   ]
  },
  {
   "cell_type": "code",
   "execution_count": 76,
   "id": "better-companion",
   "metadata": {},
   "outputs": [
    {
     "data": {
      "text/plain": [
       "8"
      ]
     },
     "execution_count": 76,
     "metadata": {},
     "output_type": "execute_result"
    }
   ],
   "source": [
    "(np.arange(3,30,3.5).reshape(2,4)).size"
   ]
  },
  {
   "cell_type": "code",
   "execution_count": 77,
   "id": "acquired-assumption",
   "metadata": {},
   "outputs": [
    {
     "data": {
      "text/plain": [
       "2"
      ]
     },
     "execution_count": 77,
     "metadata": {},
     "output_type": "execute_result"
    }
   ],
   "source": [
    "(np.arange(3,30,3.5).reshape(2,4)).ndim"
   ]
  },
  {
   "cell_type": "code",
   "execution_count": 78,
   "id": "unknown-omega",
   "metadata": {},
   "outputs": [
    {
     "data": {
      "text/plain": [
       "(2, 4)"
      ]
     },
     "execution_count": 78,
     "metadata": {},
     "output_type": "execute_result"
    }
   ],
   "source": [
    "(np.arange(3,30,3.5).reshape(2,4)).shape"
   ]
  },
  {
   "cell_type": "code",
   "execution_count": 79,
   "id": "floppy-flight",
   "metadata": {},
   "outputs": [
    {
     "data": {
      "text/plain": [
       "\u001b[0;31mType:\u001b[0m        module\n",
       "\u001b[0;31mString form:\u001b[0m <module 'numpy.random' from '/usr/lib/python3/dist-packages/numpy/random/__init__.py'>\n",
       "\u001b[0;31mFile:\u001b[0m        /usr/lib/python3/dist-packages/numpy/random/__init__.py\n",
       "\u001b[0;31mDocstring:\u001b[0m  \n",
       "========================\n",
       "Random Number Generation\n",
       "========================\n",
       "\n",
       "Use ``default_rng()`` to create a `Generator` and call its methods.\n",
       "\n",
       "=============== =========================================================\n",
       "Generator\n",
       "--------------- ---------------------------------------------------------\n",
       "Generator       Class implementing all of the random number distributions\n",
       "default_rng     Default constructor for ``Generator``\n",
       "=============== =========================================================\n",
       "\n",
       "============================================= ===\n",
       "BitGenerator Streams that work with Generator\n",
       "--------------------------------------------- ---\n",
       "MT19937\n",
       "PCG64\n",
       "Philox\n",
       "SFC64\n",
       "============================================= ===\n",
       "\n",
       "============================================= ===\n",
       "Getting entropy to initialize a BitGenerator\n",
       "--------------------------------------------- ---\n",
       "SeedSequence\n",
       "============================================= ===\n",
       "\n",
       "\n",
       "Legacy\n",
       "------\n",
       "\n",
       "For backwards compatibility with previous versions of numpy before 1.17, the\n",
       "various aliases to the global `RandomState` methods are left alone and do not\n",
       "use the new `Generator` API.\n",
       "\n",
       "==================== =========================================================\n",
       "Utility functions\n",
       "-------------------- ---------------------------------------------------------\n",
       "random               Uniformly distributed floats over ``[0, 1)``\n",
       "bytes                Uniformly distributed random bytes.\n",
       "permutation          Randomly permute a sequence / generate a random sequence.\n",
       "shuffle              Randomly permute a sequence in place.\n",
       "choice               Random sample from 1-D array.\n",
       "==================== =========================================================\n",
       "\n",
       "==================== =========================================================\n",
       "Compatibility\n",
       "functions - removed\n",
       "in the new API\n",
       "-------------------- ---------------------------------------------------------\n",
       "rand                 Uniformly distributed values.\n",
       "randn                Normally distributed values.\n",
       "ranf                 Uniformly distributed floating point numbers.\n",
       "random_integers      Uniformly distributed integers in a given range.\n",
       "                     (deprecated, use ``integers(..., closed=True)`` instead)\n",
       "random_sample        Alias for `random_sample`\n",
       "randint              Uniformly distributed integers in a given range\n",
       "seed                 Seed the legacy random number generator.\n",
       "==================== =========================================================\n",
       "\n",
       "==================== =========================================================\n",
       "Univariate\n",
       "distributions\n",
       "-------------------- ---------------------------------------------------------\n",
       "beta                 Beta distribution over ``[0, 1]``.\n",
       "binomial             Binomial distribution.\n",
       "chisquare            :math:`\\chi^2` distribution.\n",
       "exponential          Exponential distribution.\n",
       "f                    F (Fisher-Snedecor) distribution.\n",
       "gamma                Gamma distribution.\n",
       "geometric            Geometric distribution.\n",
       "gumbel               Gumbel distribution.\n",
       "hypergeometric       Hypergeometric distribution.\n",
       "laplace              Laplace distribution.\n",
       "logistic             Logistic distribution.\n",
       "lognormal            Log-normal distribution.\n",
       "logseries            Logarithmic series distribution.\n",
       "negative_binomial    Negative binomial distribution.\n",
       "noncentral_chisquare Non-central chi-square distribution.\n",
       "noncentral_f         Non-central F distribution.\n",
       "normal               Normal / Gaussian distribution.\n",
       "pareto               Pareto distribution.\n",
       "poisson              Poisson distribution.\n",
       "power                Power distribution.\n",
       "rayleigh             Rayleigh distribution.\n",
       "triangular           Triangular distribution.\n",
       "uniform              Uniform distribution.\n",
       "vonmises             Von Mises circular distribution.\n",
       "wald                 Wald (inverse Gaussian) distribution.\n",
       "weibull              Weibull distribution.\n",
       "zipf                 Zipf's distribution over ranked data.\n",
       "==================== =========================================================\n",
       "\n",
       "==================== ==========================================================\n",
       "Multivariate\n",
       "distributions\n",
       "-------------------- ----------------------------------------------------------\n",
       "dirichlet            Multivariate generalization of Beta distribution.\n",
       "multinomial          Multivariate generalization of the binomial distribution.\n",
       "multivariate_normal  Multivariate generalization of the normal distribution.\n",
       "==================== ==========================================================\n",
       "\n",
       "==================== =========================================================\n",
       "Standard\n",
       "distributions\n",
       "-------------------- ---------------------------------------------------------\n",
       "standard_cauchy      Standard Cauchy-Lorentz distribution.\n",
       "standard_exponential Standard exponential distribution.\n",
       "standard_gamma       Standard Gamma distribution.\n",
       "standard_normal      Standard normal distribution.\n",
       "standard_t           Standard Student's t-distribution.\n",
       "==================== =========================================================\n",
       "\n",
       "==================== =========================================================\n",
       "Internal functions\n",
       "-------------------- ---------------------------------------------------------\n",
       "get_state            Get tuple representing internal state of generator.\n",
       "set_state            Set state of generator.\n",
       "==================== =========================================================\n"
      ]
     },
     "metadata": {},
     "output_type": "display_data"
    }
   ],
   "source": [
    "np.random?"
   ]
  },
  {
   "cell_type": "code",
   "execution_count": 80,
   "id": "lasting-familiar",
   "metadata": {},
   "outputs": [
    {
     "ename": "AttributeError",
     "evalue": "module 'numpy' has no attribute 'rand'",
     "output_type": "error",
     "traceback": [
      "\u001b[0;31m---------------------------------------------------------------------------\u001b[0m",
      "\u001b[0;31mAttributeError\u001b[0m                            Traceback (most recent call last)",
      "\u001b[0;32m<ipython-input-80-975c84b84ce6>\u001b[0m in \u001b[0;36m<module>\u001b[0;34m\u001b[0m\n\u001b[0;32m----> 1\u001b[0;31m \u001b[0mnp\u001b[0m\u001b[0;34m.\u001b[0m\u001b[0mrand\u001b[0m\u001b[0;34m\u001b[0m\u001b[0;34m\u001b[0m\u001b[0m\n\u001b[0m",
      "\u001b[0;32m/usr/lib/python3/dist-packages/numpy/__init__.py\u001b[0m in \u001b[0;36m__getattr__\u001b[0;34m(attr)\u001b[0m\n\u001b[1;32m    212\u001b[0m                 \u001b[0;32mreturn\u001b[0m \u001b[0mTester\u001b[0m\u001b[0;34m\u001b[0m\u001b[0;34m\u001b[0m\u001b[0m\n\u001b[1;32m    213\u001b[0m             \u001b[0;32melse\u001b[0m\u001b[0;34m:\u001b[0m\u001b[0;34m\u001b[0m\u001b[0;34m\u001b[0m\u001b[0m\n\u001b[0;32m--> 214\u001b[0;31m                 raise AttributeError(\"module {!r} has no attribute \"\n\u001b[0m\u001b[1;32m    215\u001b[0m                                      \"{!r}\".format(__name__, attr))\n\u001b[1;32m    216\u001b[0m \u001b[0;34m\u001b[0m\u001b[0m\n",
      "\u001b[0;31mAttributeError\u001b[0m: module 'numpy' has no attribute 'rand'"
     ]
    }
   ],
   "source": [
    "np.rand"
   ]
  },
  {
   "cell_type": "code",
   "execution_count": 81,
   "id": "irish-notice",
   "metadata": {},
   "outputs": [
    {
     "ename": "ValueError",
     "evalue": "p < 0, p > 1 or p is NaN",
     "output_type": "error",
     "traceback": [
      "\u001b[0;31m---------------------------------------------------------------------------\u001b[0m",
      "\u001b[0;31mValueError\u001b[0m                                Traceback (most recent call last)",
      "\u001b[0;32m<ipython-input-81-5e15af986898>\u001b[0m in \u001b[0;36m<module>\u001b[0;34m\u001b[0m\n\u001b[0;32m----> 1\u001b[0;31m \u001b[0mnp\u001b[0m\u001b[0;34m.\u001b[0m\u001b[0mrandom\u001b[0m\u001b[0;34m.\u001b[0m\u001b[0mbinomial\u001b[0m\u001b[0;34m(\u001b[0m\u001b[0;36m2\u001b[0m\u001b[0;34m,\u001b[0m\u001b[0;36m3\u001b[0m\u001b[0;34m)\u001b[0m\u001b[0;34m\u001b[0m\u001b[0;34m\u001b[0m\u001b[0m\n\u001b[0m",
      "\u001b[0;32mmtrand.pyx\u001b[0m in \u001b[0;36mnumpy.random.mtrand.RandomState.binomial\u001b[0;34m()\u001b[0m\n",
      "\u001b[0;32m_common.pyx\u001b[0m in \u001b[0;36mnumpy.random._common.check_constraint\u001b[0;34m()\u001b[0m\n",
      "\u001b[0;31mValueError\u001b[0m: p < 0, p > 1 or p is NaN"
     ]
    }
   ],
   "source": [
    "np.random.binomial(2,3)"
   ]
  },
  {
   "cell_type": "code",
   "execution_count": 82,
   "id": "embedded-rabbit",
   "metadata": {},
   "outputs": [
    {
     "ename": "TypeError",
     "evalue": "binomial() takes at least 2 positional arguments (1 given)",
     "output_type": "error",
     "traceback": [
      "\u001b[0;31m---------------------------------------------------------------------------\u001b[0m",
      "\u001b[0;31mTypeError\u001b[0m                                 Traceback (most recent call last)",
      "\u001b[0;32m<ipython-input-82-f27114a99328>\u001b[0m in \u001b[0;36m<module>\u001b[0;34m\u001b[0m\n\u001b[0;32m----> 1\u001b[0;31m \u001b[0mnp\u001b[0m\u001b[0;34m.\u001b[0m\u001b[0mrandom\u001b[0m\u001b[0;34m.\u001b[0m\u001b[0mbinomial\u001b[0m\u001b[0;34m(\u001b[0m\u001b[0;36m0.3\u001b[0m\u001b[0;34m)\u001b[0m\u001b[0;34m\u001b[0m\u001b[0;34m\u001b[0m\u001b[0m\n\u001b[0m",
      "\u001b[0;32mmtrand.pyx\u001b[0m in \u001b[0;36mnumpy.random.mtrand.RandomState.binomial\u001b[0;34m()\u001b[0m\n",
      "\u001b[0;31mTypeError\u001b[0m: binomial() takes at least 2 positional arguments (1 given)"
     ]
    }
   ],
   "source": [
    "np.random.binomial(0.3)"
   ]
  },
  {
   "cell_type": "code",
   "execution_count": 83,
   "id": "alert-express",
   "metadata": {},
   "outputs": [
    {
     "data": {
      "text/plain": [
       "0"
      ]
     },
     "execution_count": 83,
     "metadata": {},
     "output_type": "execute_result"
    }
   ],
   "source": [
    "np.random.binomial(0.3,0.4)"
   ]
  },
  {
   "cell_type": "code",
   "execution_count": 84,
   "id": "incorporate-hampton",
   "metadata": {},
   "outputs": [
    {
     "ename": "TypeError",
     "evalue": "'tuple' object cannot be interpreted as an integer",
     "output_type": "error",
     "traceback": [
      "\u001b[0;31m---------------------------------------------------------------------------\u001b[0m",
      "\u001b[0;31mTypeError\u001b[0m                                 Traceback (most recent call last)",
      "\u001b[0;32m<ipython-input-84-687ccb495358>\u001b[0m in \u001b[0;36m<module>\u001b[0;34m\u001b[0m\n\u001b[0;32m----> 1\u001b[0;31m \u001b[0mnp\u001b[0m\u001b[0;34m.\u001b[0m\u001b[0mrandom\u001b[0m\u001b[0;34m.\u001b[0m\u001b[0mrandn\u001b[0m\u001b[0;34m(\u001b[0m\u001b[0;34m(\u001b[0m\u001b[0;36m4\u001b[0m\u001b[0;34m,\u001b[0m\u001b[0;36m3\u001b[0m\u001b[0;34m)\u001b[0m\u001b[0;34m)\u001b[0m\u001b[0;34m\u001b[0m\u001b[0;34m\u001b[0m\u001b[0m\n\u001b[0m",
      "\u001b[0;32mmtrand.pyx\u001b[0m in \u001b[0;36mnumpy.random.mtrand.RandomState.randn\u001b[0;34m()\u001b[0m\n",
      "\u001b[0;32mmtrand.pyx\u001b[0m in \u001b[0;36mnumpy.random.mtrand.RandomState.standard_normal\u001b[0;34m()\u001b[0m\n",
      "\u001b[0;32m_common.pyx\u001b[0m in \u001b[0;36mnumpy.random._common.cont\u001b[0;34m()\u001b[0m\n",
      "\u001b[0;31mTypeError\u001b[0m: 'tuple' object cannot be interpreted as an integer"
     ]
    }
   ],
   "source": [
    "np.random.randn((4,3))"
   ]
  },
  {
   "cell_type": "code",
   "execution_count": 85,
   "id": "complex-tuning",
   "metadata": {},
   "outputs": [
    {
     "ename": "TypeError",
     "evalue": "'list' object cannot be interpreted as an integer",
     "output_type": "error",
     "traceback": [
      "\u001b[0;31m---------------------------------------------------------------------------\u001b[0m",
      "\u001b[0;31mTypeError\u001b[0m                                 Traceback (most recent call last)",
      "\u001b[0;32m<ipython-input-85-3fa6cbddfdd9>\u001b[0m in \u001b[0;36m<module>\u001b[0;34m\u001b[0m\n\u001b[0;32m----> 1\u001b[0;31m \u001b[0mnp\u001b[0m\u001b[0;34m.\u001b[0m\u001b[0mrandom\u001b[0m\u001b[0;34m.\u001b[0m\u001b[0mrandn\u001b[0m\u001b[0;34m(\u001b[0m\u001b[0;34m[\u001b[0m\u001b[0;36m4\u001b[0m\u001b[0;34m,\u001b[0m\u001b[0;36m3\u001b[0m\u001b[0;34m]\u001b[0m\u001b[0;34m)\u001b[0m\u001b[0;34m\u001b[0m\u001b[0;34m\u001b[0m\u001b[0m\n\u001b[0m",
      "\u001b[0;32mmtrand.pyx\u001b[0m in \u001b[0;36mnumpy.random.mtrand.RandomState.randn\u001b[0;34m()\u001b[0m\n",
      "\u001b[0;32mmtrand.pyx\u001b[0m in \u001b[0;36mnumpy.random.mtrand.RandomState.standard_normal\u001b[0;34m()\u001b[0m\n",
      "\u001b[0;32m_common.pyx\u001b[0m in \u001b[0;36mnumpy.random._common.cont\u001b[0;34m()\u001b[0m\n",
      "\u001b[0;31mTypeError\u001b[0m: 'list' object cannot be interpreted as an integer"
     ]
    }
   ],
   "source": [
    "np.random.randn([4,3])"
   ]
  },
  {
   "cell_type": "code",
   "execution_count": 86,
   "id": "theoretical-copying",
   "metadata": {},
   "outputs": [
    {
     "data": {
      "text/plain": [
       "array([-0.05018839, -0.58031728,  0.50427009])"
      ]
     },
     "execution_count": 86,
     "metadata": {},
     "output_type": "execute_result"
    }
   ],
   "source": [
    "np.random.randn(3)"
   ]
  },
  {
   "cell_type": "code",
   "execution_count": 87,
   "id": "driving-detective",
   "metadata": {},
   "outputs": [
    {
     "name": "stdout",
     "output_type": "stream",
     "text": [
      "Object `np.random.ranint` not found.\n"
     ]
    }
   ],
   "source": [
    "np.random.ranint?"
   ]
  },
  {
   "cell_type": "code",
   "execution_count": 88,
   "id": "medium-aurora",
   "metadata": {},
   "outputs": [
    {
     "data": {
      "text/plain": [
       "\u001b[0;31mDocstring:\u001b[0m\n",
       "randint(low, high=None, size=None, dtype=int)\n",
       "\n",
       "Return random integers from `low` (inclusive) to `high` (exclusive).\n",
       "\n",
       "Return random integers from the \"discrete uniform\" distribution of\n",
       "the specified dtype in the \"half-open\" interval [`low`, `high`). If\n",
       "`high` is None (the default), then results are from [0, `low`).\n",
       "\n",
       ".. note::\n",
       "    New code should use the ``integers`` method of a ``default_rng()``\n",
       "    instance instead; please see the :ref:`random-quick-start`.\n",
       "\n",
       "Parameters\n",
       "----------\n",
       "low : int or array-like of ints\n",
       "    Lowest (signed) integers to be drawn from the distribution (unless\n",
       "    ``high=None``, in which case this parameter is one above the\n",
       "    *highest* such integer).\n",
       "high : int or array-like of ints, optional\n",
       "    If provided, one above the largest (signed) integer to be drawn\n",
       "    from the distribution (see above for behavior if ``high=None``).\n",
       "    If array-like, must contain integer values\n",
       "size : int or tuple of ints, optional\n",
       "    Output shape.  If the given shape is, e.g., ``(m, n, k)``, then\n",
       "    ``m * n * k`` samples are drawn.  Default is None, in which case a\n",
       "    single value is returned.\n",
       "dtype : dtype, optional\n",
       "    Desired dtype of the result. Byteorder must be native.\n",
       "    The default value is int.\n",
       "\n",
       "    .. versionadded:: 1.11.0\n",
       "\n",
       "Returns\n",
       "-------\n",
       "out : int or ndarray of ints\n",
       "    `size`-shaped array of random integers from the appropriate\n",
       "    distribution, or a single such random int if `size` not provided.\n",
       "\n",
       "See Also\n",
       "--------\n",
       "random_integers : similar to `randint`, only for the closed\n",
       "    interval [`low`, `high`], and 1 is the lowest value if `high` is\n",
       "    omitted.\n",
       "Generator.integers: which should be used for new code.\n",
       "\n",
       "Examples\n",
       "--------\n",
       ">>> np.random.randint(2, size=10)\n",
       "array([1, 0, 0, 0, 1, 1, 0, 0, 1, 0]) # random\n",
       ">>> np.random.randint(1, size=10)\n",
       "array([0, 0, 0, 0, 0, 0, 0, 0, 0, 0])\n",
       "\n",
       "Generate a 2 x 4 array of ints between 0 and 4, inclusive:\n",
       "\n",
       ">>> np.random.randint(5, size=(2, 4))\n",
       "array([[4, 0, 2, 1], # random\n",
       "       [3, 2, 2, 0]])\n",
       "\n",
       "Generate a 1 x 3 array with 3 different upper bounds\n",
       "\n",
       ">>> np.random.randint(1, [3, 5, 10])\n",
       "array([2, 2, 9]) # random\n",
       "\n",
       "Generate a 1 by 3 array with 3 different lower bounds\n",
       "\n",
       ">>> np.random.randint([1, 5, 7], 10)\n",
       "array([9, 8, 7]) # random\n",
       "\n",
       "Generate a 2 by 4 array using broadcasting with dtype of uint8\n",
       "\n",
       ">>> np.random.randint([1, 3, 5, 7], [[10], [20]], dtype=np.uint8)\n",
       "array([[ 8,  6,  9,  7], # random\n",
       "       [ 1, 16,  9, 12]], dtype=uint8)\n",
       "\u001b[0;31mType:\u001b[0m      builtin_function_or_method\n"
      ]
     },
     "metadata": {},
     "output_type": "display_data"
    }
   ],
   "source": [
    "np.random.randint?"
   ]
  },
  {
   "cell_type": "code",
   "execution_count": 89,
   "id": "sudden-organizer",
   "metadata": {},
   "outputs": [
    {
     "data": {
      "text/plain": [
       "array([0, 2, 1, 1, 0, 0, 2, 1, 1, 2])"
      ]
     },
     "execution_count": 89,
     "metadata": {},
     "output_type": "execute_result"
    }
   ],
   "source": [
    "np.random.randint(3,size=10)"
   ]
  },
  {
   "cell_type": "code",
   "execution_count": 90,
   "id": "commercial-violence",
   "metadata": {},
   "outputs": [
    {
     "data": {
      "text/plain": [
       "array([3, 2, 3, 1, 1, 1, 2, 2, 0, 3])"
      ]
     },
     "execution_count": 90,
     "metadata": {},
     "output_type": "execute_result"
    }
   ],
   "source": [
    "np.random.randint(5,size=10)"
   ]
  },
  {
   "cell_type": "code",
   "execution_count": 91,
   "id": "outstanding-exclusive",
   "metadata": {},
   "outputs": [
    {
     "data": {
      "text/plain": [
       "array([4, 1, 1, 0, 3, 2, 1, 1, 0, 1])"
      ]
     },
     "execution_count": 91,
     "metadata": {},
     "output_type": "execute_result"
    }
   ],
   "source": [
    "np.random.randint(5,size=10)\n"
   ]
  },
  {
   "cell_type": "code",
   "execution_count": 92,
   "id": "beautiful-survivor",
   "metadata": {},
   "outputs": [
    {
     "data": {
      "text/plain": [
       "array([2, 1, 3, 2, 2, 2, 4, 2, 0, 0])"
      ]
     },
     "execution_count": 92,
     "metadata": {},
     "output_type": "execute_result"
    }
   ],
   "source": [
    "np.random.randint(5,size=10)"
   ]
  },
  {
   "cell_type": "code",
   "execution_count": 93,
   "id": "collect-manufacturer",
   "metadata": {},
   "outputs": [
    {
     "data": {
      "text/plain": [
       "array([[0, 0, 1],\n",
       "       [2, 0, 0],\n",
       "       [2, 0, 3]])"
      ]
     },
     "execution_count": 93,
     "metadata": {},
     "output_type": "execute_result"
    }
   ],
   "source": [
    "np.random.randint(5,size=(3,3))"
   ]
  },
  {
   "cell_type": "code",
   "execution_count": 94,
   "id": "mexican-aquarium",
   "metadata": {},
   "outputs": [
    {
     "data": {
      "text/plain": [
       "array([[0.05584057, 0.25579341, 0.4205322 ],\n",
       "       [0.67523579, 0.20015438, 0.93265315],\n",
       "       [0.68731347, 0.65645917, 0.51391451]])"
      ]
     },
     "execution_count": 94,
     "metadata": {},
     "output_type": "execute_result"
    }
   ],
   "source": [
    "np.random.random((3,3))"
   ]
  },
  {
   "cell_type": "code",
   "execution_count": 95,
   "id": "aboriginal-brighton",
   "metadata": {},
   "outputs": [
    {
     "ename": "TypeError",
     "evalue": "random() got an unexpected keyword argument 'dtype'",
     "output_type": "error",
     "traceback": [
      "\u001b[0;31m---------------------------------------------------------------------------\u001b[0m",
      "\u001b[0;31mTypeError\u001b[0m                                 Traceback (most recent call last)",
      "\u001b[0;32m<ipython-input-95-ffea4ba69b77>\u001b[0m in \u001b[0;36m<module>\u001b[0;34m\u001b[0m\n\u001b[0;32m----> 1\u001b[0;31m \u001b[0mnp\u001b[0m\u001b[0;34m.\u001b[0m\u001b[0mrandom\u001b[0m\u001b[0;34m.\u001b[0m\u001b[0mrandom\u001b[0m\u001b[0;34m(\u001b[0m\u001b[0;34m(\u001b[0m\u001b[0;36m3\u001b[0m\u001b[0;34m,\u001b[0m\u001b[0;36m3\u001b[0m\u001b[0;34m)\u001b[0m\u001b[0;34m,\u001b[0m\u001b[0mdtype\u001b[0m\u001b[0;34m=\u001b[0m\u001b[0;34m'int32'\u001b[0m\u001b[0;34m)\u001b[0m\u001b[0;34m\u001b[0m\u001b[0;34m\u001b[0m\u001b[0m\n\u001b[0m",
      "\u001b[0;32mmtrand.pyx\u001b[0m in \u001b[0;36mnumpy.random.mtrand.RandomState.random\u001b[0;34m()\u001b[0m\n",
      "\u001b[0;31mTypeError\u001b[0m: random() got an unexpected keyword argument 'dtype'"
     ]
    }
   ],
   "source": [
    "np.random.random((3,3),dtype='int32')"
   ]
  },
  {
   "cell_type": "code",
   "execution_count": 96,
   "id": "brilliant-understanding",
   "metadata": {},
   "outputs": [
    {
     "data": {
      "text/plain": [
       "\u001b[0;31mDocstring:\u001b[0m\n",
       "random(size=None)\n",
       "\n",
       "Return random floats in the half-open interval [0.0, 1.0). Alias for\n",
       "`random_sample` to ease forward-porting to the new random API.\n",
       "\u001b[0;31mType:\u001b[0m      builtin_function_or_method\n"
      ]
     },
     "metadata": {},
     "output_type": "display_data"
    }
   ],
   "source": [
    "np.random.random?"
   ]
  },
  {
   "cell_type": "code",
   "execution_count": 97,
   "id": "possible-strategy",
   "metadata": {},
   "outputs": [
    {
     "data": {
      "text/plain": [
       "array([1, 2, 3, 4])"
      ]
     },
     "execution_count": 97,
     "metadata": {},
     "output_type": "execute_result"
    }
   ],
   "source": [
    "a"
   ]
  },
  {
   "cell_type": "code",
   "execution_count": 98,
   "id": "hybrid-infection",
   "metadata": {},
   "outputs": [
    {
     "data": {
      "text/plain": [
       "array([1.        , 1.41421356, 1.73205081, 2.        ])"
      ]
     },
     "execution_count": 98,
     "metadata": {},
     "output_type": "execute_result"
    }
   ],
   "source": [
    "np.sqrt(a)"
   ]
  },
  {
   "cell_type": "code",
   "execution_count": 99,
   "id": "fleet-actor",
   "metadata": {},
   "outputs": [
    {
     "data": {
      "text/plain": [
       "array([ 0.84147098,  0.90929743,  0.14112001, -0.7568025 ])"
      ]
     },
     "execution_count": 99,
     "metadata": {},
     "output_type": "execute_result"
    }
   ],
   "source": [
    "np.sin(a)"
   ]
  },
  {
   "cell_type": "code",
   "execution_count": 100,
   "id": "romance-agent",
   "metadata": {},
   "outputs": [
    {
     "data": {
      "text/plain": [
       "array([ 0.54030231, -0.41614684, -0.9899925 , -0.65364362])"
      ]
     },
     "execution_count": 100,
     "metadata": {},
     "output_type": "execute_result"
    }
   ],
   "source": [
    "np.cos(a)"
   ]
  },
  {
   "cell_type": "code",
   "execution_count": 101,
   "id": "nominated-guard",
   "metadata": {},
   "outputs": [
    {
     "data": {
      "text/plain": [
       "array([1, 2, 3, 4])"
      ]
     },
     "execution_count": 101,
     "metadata": {},
     "output_type": "execute_result"
    }
   ],
   "source": [
    "a"
   ]
  },
  {
   "cell_type": "code",
   "execution_count": 102,
   "id": "useful-certificate",
   "metadata": {},
   "outputs": [
    {
     "data": {
      "text/plain": [
       "array([3, 4, 5, 6])"
      ]
     },
     "execution_count": 102,
     "metadata": {},
     "output_type": "execute_result"
    }
   ],
   "source": [
    "a+2"
   ]
  },
  {
   "cell_type": "code",
   "execution_count": 103,
   "id": "framed-northeast",
   "metadata": {},
   "outputs": [
    {
     "data": {
      "text/plain": [
       "array([1, 2, 3, 4])"
      ]
     },
     "execution_count": 103,
     "metadata": {},
     "output_type": "execute_result"
    }
   ],
   "source": [
    "a"
   ]
  },
  {
   "cell_type": "code",
   "execution_count": 104,
   "id": "surgical-swiss",
   "metadata": {},
   "outputs": [
    {
     "data": {
      "text/plain": [
       "array([0.66666667, 1.33333333, 2.        , 2.66666667])"
      ]
     },
     "execution_count": 104,
     "metadata": {},
     "output_type": "execute_result"
    }
   ],
   "source": [
    "a/1.5"
   ]
  },
  {
   "cell_type": "code",
   "execution_count": 105,
   "id": "nuclear-round",
   "metadata": {},
   "outputs": [
    {
     "name": "stderr",
     "output_type": "stream",
     "text": [
      "<>:1: SyntaxWarning: 'int' object is not callable; perhaps you missed a comma?\n",
      "<>:1: SyntaxWarning: 'int' object is not callable; perhaps you missed a comma?\n",
      "<ipython-input-105-40ada5a0622f>:1: SyntaxWarning: 'int' object is not callable; perhaps you missed a comma?\n",
      "  1(\"\")\n"
     ]
    },
    {
     "ename": "TypeError",
     "evalue": "'int' object is not callable",
     "output_type": "error",
     "traceback": [
      "\u001b[0;31m---------------------------------------------------------------------------\u001b[0m",
      "\u001b[0;31mTypeError\u001b[0m                                 Traceback (most recent call last)",
      "\u001b[0;32m<ipython-input-105-40ada5a0622f>\u001b[0m in \u001b[0;36m<module>\u001b[0;34m\u001b[0m\n\u001b[0;32m----> 1\u001b[0;31m \u001b[0;36m1\u001b[0m\u001b[0;34m(\u001b[0m\u001b[0;34m\"\"\u001b[0m\u001b[0;34m)\u001b[0m\u001b[0;34m\u001b[0m\u001b[0;34m\u001b[0m\u001b[0m\n\u001b[0m",
      "\u001b[0;31mTypeError\u001b[0m: 'int' object is not callable"
     ]
    }
   ],
   "source": [
    ";1"
   ]
  },
  {
   "cell_type": "code",
   "execution_count": 106,
   "id": "according-still",
   "metadata": {},
   "outputs": [
    {
     "data": {
      "text/plain": [
       "[[2, 4, 3, 5], [4, 5, 3, 2]]"
      ]
     },
     "execution_count": 106,
     "metadata": {},
     "output_type": "execute_result"
    }
   ],
   "source": [
    "l1"
   ]
  },
  {
   "cell_type": "code",
   "execution_count": 107,
   "id": "disturbed-headset",
   "metadata": {},
   "outputs": [
    {
     "data": {
      "text/plain": [
       "list"
      ]
     },
     "execution_count": 107,
     "metadata": {},
     "output_type": "execute_result"
    }
   ],
   "source": [
    "type(l1)"
   ]
  },
  {
   "cell_type": "code",
   "execution_count": 108,
   "id": "correct-savings",
   "metadata": {},
   "outputs": [
    {
     "data": {
      "text/plain": [
       "array([1.+0.j, 2.+0.j, 3.+0.j, 4.+0.j], dtype=complex64)"
      ]
     },
     "execution_count": 108,
     "metadata": {},
     "output_type": "execute_result"
    }
   ],
   "source": [
    "l2"
   ]
  },
  {
   "cell_type": "code",
   "execution_count": 109,
   "id": "differential-explorer",
   "metadata": {},
   "outputs": [
    {
     "name": "stderr",
     "output_type": "stream",
     "text": [
      "<ipython-input-109-be52af8fce74>:1: ComplexWarning: Casting complex values to real discards the imaginary part\n",
      "  l2=np.array(l2,dtype='int32')\n"
     ]
    }
   ],
   "source": [
    "l2=np.array(l2,dtype='int32')"
   ]
  },
  {
   "cell_type": "code",
   "execution_count": 110,
   "id": "surprising-officer",
   "metadata": {},
   "outputs": [
    {
     "data": {
      "text/plain": [
       "array([1, 2, 3, 4], dtype=int32)"
      ]
     },
     "execution_count": 110,
     "metadata": {},
     "output_type": "execute_result"
    }
   ],
   "source": [
    "l2"
   ]
  },
  {
   "cell_type": "code",
   "execution_count": 111,
   "id": "geographic-swimming",
   "metadata": {},
   "outputs": [
    {
     "data": {
      "text/plain": [
       "array([2, 4, 6, 8])"
      ]
     },
     "execution_count": 111,
     "metadata": {},
     "output_type": "execute_result"
    }
   ],
   "source": [
    "a+l2"
   ]
  },
  {
   "cell_type": "code",
   "execution_count": 112,
   "id": "manual-riverside",
   "metadata": {},
   "outputs": [
    {
     "data": {
      "text/plain": [
       "array([ 1,  4,  9, 16])"
      ]
     },
     "execution_count": 112,
     "metadata": {},
     "output_type": "execute_result"
    }
   ],
   "source": [
    "a*l2"
   ]
  },
  {
   "cell_type": "code",
   "execution_count": 113,
   "id": "wrapped-rehabilitation",
   "metadata": {},
   "outputs": [
    {
     "ename": "TypeError",
     "evalue": "array() takes from 1 to 2 positional arguments but 3 were given",
     "output_type": "error",
     "traceback": [
      "\u001b[0;31m---------------------------------------------------------------------------\u001b[0m",
      "\u001b[0;31mTypeError\u001b[0m                                 Traceback (most recent call last)",
      "\u001b[0;32m<ipython-input-113-3cf332d20dea>\u001b[0m in \u001b[0;36m<module>\u001b[0;34m\u001b[0m\n\u001b[0;32m----> 1\u001b[0;31m \u001b[0ma\u001b[0m\u001b[0;34m=\u001b[0m\u001b[0mnp\u001b[0m\u001b[0;34m.\u001b[0m\u001b[0marray\u001b[0m\u001b[0;34m(\u001b[0m\u001b[0;34m[\u001b[0m\u001b[0;36m0\u001b[0m\u001b[0;34m,\u001b[0m\u001b[0;36m1\u001b[0m\u001b[0;34m,\u001b[0m\u001b[0;36m2\u001b[0m\u001b[0;34m]\u001b[0m\u001b[0;34m,\u001b[0m\u001b[0;34m[\u001b[0m\u001b[0;36m3\u001b[0m\u001b[0;34m,\u001b[0m\u001b[0;36m4\u001b[0m\u001b[0;34m,\u001b[0m\u001b[0;36m6\u001b[0m\u001b[0;34m]\u001b[0m\u001b[0;34m,\u001b[0m\u001b[0;34m[\u001b[0m\u001b[0;36m6\u001b[0m\u001b[0;34m,\u001b[0m\u001b[0;36m7\u001b[0m\u001b[0;34m,\u001b[0m\u001b[0;36m8\u001b[0m\u001b[0;34m]\u001b[0m\u001b[0;34m)\u001b[0m\u001b[0;34m;\u001b[0m\u001b[0mb\u001b[0m\u001b[0;34m=\u001b[0m\u001b[0mnp\u001b[0m\u001b[0;34m.\u001b[0m\u001b[0mones\u001b[0m\u001b[0;34m(\u001b[0m\u001b[0;34m(\u001b[0m\u001b[0;36m3\u001b[0m\u001b[0;34m,\u001b[0m\u001b[0;36m3\u001b[0m\u001b[0;34m)\u001b[0m\u001b[0;34m)\u001b[0m\u001b[0;34m\u001b[0m\u001b[0;34m\u001b[0m\u001b[0m\n\u001b[0m",
      "\u001b[0;31mTypeError\u001b[0m: array() takes from 1 to 2 positional arguments but 3 were given"
     ]
    }
   ],
   "source": [
    "np.random.randint(5,size=10)"
   ]
  },
  {
   "cell_type": "code",
   "execution_count": 114,
   "id": "solid-arrangement",
   "metadata": {},
   "outputs": [
    {
     "ename": "TypeError",
     "evalue": "array() takes from 1 to 2 positional arguments but 3 were given",
     "output_type": "error",
     "traceback": [
      "\u001b[0;31m---------------------------------------------------------------------------\u001b[0m",
      "\u001b[0;31mTypeError\u001b[0m                                 Traceback (most recent call last)",
      "\u001b[0;32m<ipython-input-114-affbe5056188>\u001b[0m in \u001b[0;36m<module>\u001b[0;34m\u001b[0m\n\u001b[0;32m----> 1\u001b[0;31m \u001b[0ma\u001b[0m\u001b[0;34m=\u001b[0m\u001b[0mnp\u001b[0m\u001b[0;34m.\u001b[0m\u001b[0marray\u001b[0m\u001b[0;34m(\u001b[0m\u001b[0;34m[\u001b[0m\u001b[0;36m0\u001b[0m\u001b[0;34m,\u001b[0m\u001b[0;36m1\u001b[0m\u001b[0;34m,\u001b[0m\u001b[0;36m2\u001b[0m\u001b[0;34m]\u001b[0m\u001b[0;34m,\u001b[0m\u001b[0;34m[\u001b[0m\u001b[0;36m3\u001b[0m\u001b[0;34m,\u001b[0m\u001b[0;36m4\u001b[0m\u001b[0;34m,\u001b[0m\u001b[0;36m5\u001b[0m\u001b[0;34m]\u001b[0m\u001b[0;34m,\u001b[0m\u001b[0;34m[\u001b[0m\u001b[0;36m6\u001b[0m\u001b[0;34m,\u001b[0m\u001b[0;36m7\u001b[0m\u001b[0;34m,\u001b[0m\u001b[0;36m8\u001b[0m\u001b[0;34m]\u001b[0m\u001b[0;34m)\u001b[0m\u001b[0;34m\u001b[0m\u001b[0;34m\u001b[0m\u001b[0m\n\u001b[0m",
      "\u001b[0;31mTypeError\u001b[0m: array() takes from 1 to 2 positional arguments but 3 were given"
     ]
    }
   ],
   "source": [
    "a=np.array([0,1,2],[3,4,5],[6,7,8])"
   ]
  },
  {
   "cell_type": "code",
   "execution_count": 115,
   "id": "directed-thumb",
   "metadata": {},
   "outputs": [],
   "source": [
    "a=np.array([[0,1,2],[3,4,5],[6,7,8]])"
   ]
  },
  {
   "cell_type": "code",
   "execution_count": 116,
   "id": "sticky-emperor",
   "metadata": {},
   "outputs": [
    {
     "data": {
      "text/plain": [
       "array([[0, 1, 2],\n",
       "       [3, 4, 5],\n",
       "       [6, 7, 8]])"
      ]
     },
     "execution_count": 116,
     "metadata": {},
     "output_type": "execute_result"
    }
   ],
   "source": [
    "a\n"
   ]
  },
  {
   "cell_type": "code",
   "execution_count": 117,
   "id": "under-allah",
   "metadata": {},
   "outputs": [
    {
     "data": {
      "text/plain": [
       "2"
      ]
     },
     "execution_count": 117,
     "metadata": {},
     "output_type": "execute_result"
    }
   ],
   "source": [
    "a.ndim"
   ]
  },
  {
   "cell_type": "code",
   "execution_count": 118,
   "id": "induced-dryer",
   "metadata": {},
   "outputs": [
    {
     "data": {
      "text/plain": [
       "(3, 3)"
      ]
     },
     "execution_count": 118,
     "metadata": {},
     "output_type": "execute_result"
    }
   ],
   "source": [
    "a.shape"
   ]
  },
  {
   "cell_type": "code",
   "execution_count": 119,
   "id": "indian-russell",
   "metadata": {},
   "outputs": [
    {
     "data": {
      "text/plain": [
       "dtype('int64')"
      ]
     },
     "execution_count": 119,
     "metadata": {},
     "output_type": "execute_result"
    }
   ],
   "source": [
    "a.dtype"
   ]
  },
  {
   "cell_type": "code",
   "execution_count": 120,
   "id": "statutory-pride",
   "metadata": {},
   "outputs": [
    {
     "data": {
      "text/plain": [
       "8"
      ]
     },
     "execution_count": 120,
     "metadata": {},
     "output_type": "execute_result"
    }
   ],
   "source": [
    "a.itemsize\n"
   ]
  },
  {
   "cell_type": "code",
   "execution_count": 121,
   "id": "eleven-robinson",
   "metadata": {},
   "outputs": [
    {
     "data": {
      "text/plain": [
       "9"
      ]
     },
     "execution_count": 121,
     "metadata": {},
     "output_type": "execute_result"
    }
   ],
   "source": [
    "a.size"
   ]
  },
  {
   "cell_type": "code",
   "execution_count": 122,
   "id": "reliable-warning",
   "metadata": {},
   "outputs": [],
   "source": [
    "b=np.ones((3,3))"
   ]
  },
  {
   "cell_type": "code",
   "execution_count": 123,
   "id": "arbitrary-louisiana",
   "metadata": {},
   "outputs": [
    {
     "data": {
      "text/plain": [
       "array([[1., 1., 1.],\n",
       "       [1., 1., 1.],\n",
       "       [1., 1., 1.]])"
      ]
     },
     "execution_count": 123,
     "metadata": {},
     "output_type": "execute_result"
    }
   ],
   "source": [
    "b"
   ]
  },
  {
   "cell_type": "code",
   "execution_count": 124,
   "id": "middle-insured",
   "metadata": {},
   "outputs": [
    {
     "data": {
      "text/plain": [
       "array([[ 3.,  3.,  3.],\n",
       "       [12., 12., 12.],\n",
       "       [21., 21., 21.]])"
      ]
     },
     "execution_count": 124,
     "metadata": {},
     "output_type": "execute_result"
    }
   ],
   "source": [
    "np.dot(a,b)"
   ]
  },
  {
   "cell_type": "code",
   "execution_count": 125,
   "id": "alleged-anger",
   "metadata": {},
   "outputs": [
    {
     "data": {
      "text/plain": [
       "array([[ 3.,  3.,  3.],\n",
       "       [12., 12., 12.],\n",
       "       [21., 21., 21.]])"
      ]
     },
     "execution_count": 125,
     "metadata": {},
     "output_type": "execute_result"
    }
   ],
   "source": [
    "a.dot(b)"
   ]
  },
  {
   "cell_type": "code",
   "execution_count": 126,
   "id": "deluxe-nowhere",
   "metadata": {},
   "outputs": [],
   "source": [
    "c=a.dot(b)*2"
   ]
  },
  {
   "cell_type": "code",
   "execution_count": 127,
   "id": "comfortable-avenue",
   "metadata": {},
   "outputs": [
    {
     "data": {
      "text/plain": [
       "array([[ 6.,  6.,  6.],\n",
       "       [24., 24., 24.],\n",
       "       [42., 42., 42.]])"
      ]
     },
     "execution_count": 127,
     "metadata": {},
     "output_type": "execute_result"
    }
   ],
   "source": [
    "c"
   ]
  },
  {
   "cell_type": "code",
   "execution_count": 128,
   "id": "informed-waterproof",
   "metadata": {},
   "outputs": [],
   "source": [
    " c+=2"
   ]
  },
  {
   "cell_type": "code",
   "execution_count": 129,
   "id": "electric-factory",
   "metadata": {},
   "outputs": [
    {
     "data": {
      "text/plain": [
       "array([[ 8.,  8.,  8.],\n",
       "       [26., 26., 26.],\n",
       "       [44., 44., 44.]])"
      ]
     },
     "execution_count": 129,
     "metadata": {},
     "output_type": "execute_result"
    }
   ],
   "source": [
    "c"
   ]
  },
  {
   "cell_type": "code",
   "execution_count": 130,
   "id": "contained-cornell",
   "metadata": {},
   "outputs": [
    {
     "data": {
      "text/plain": [
       "8"
      ]
     },
     "execution_count": 130,
     "metadata": {},
     "output_type": "execute_result"
    }
   ],
   "source": [
    "c.itemsize"
   ]
  },
  {
   "cell_type": "code",
   "execution_count": 131,
   "id": "subjective-sullivan",
   "metadata": {},
   "outputs": [
    {
     "data": {
      "text/plain": [
       "9"
      ]
     },
     "execution_count": 131,
     "metadata": {},
     "output_type": "execute_result"
    }
   ],
   "source": [
    "c.size"
   ]
  },
  {
   "cell_type": "code",
   "execution_count": 132,
   "id": "alive-tower",
   "metadata": {},
   "outputs": [
    {
     "ename": "AttributeError",
     "evalue": "'list' object has no attribute 'dot'",
     "output_type": "error",
     "traceback": [
      "\u001b[0;31m---------------------------------------------------------------------------\u001b[0m",
      "\u001b[0;31mAttributeError\u001b[0m                            Traceback (most recent call last)",
      "\u001b[0;32m<ipython-input-132-4c29dfe376dc>\u001b[0m in \u001b[0;36m<module>\u001b[0;34m\u001b[0m\n\u001b[0;32m----> 1\u001b[0;31m \u001b[0;34m(\u001b[0m\u001b[0;34m[\u001b[0m\u001b[0;36m1\u001b[0m\u001b[0;34m,\u001b[0m\u001b[0;36m2\u001b[0m\u001b[0;34m,\u001b[0m\u001b[0;36m3\u001b[0m\u001b[0;34m]\u001b[0m\u001b[0;34m)\u001b[0m\u001b[0;34m.\u001b[0m\u001b[0mdot\u001b[0m\u001b[0;34m(\u001b[0m\u001b[0;34m[\u001b[0m\u001b[0;36m4\u001b[0m\u001b[0;34m,\u001b[0m\u001b[0;36m5\u001b[0m\u001b[0;34m,\u001b[0m\u001b[0;36m3\u001b[0m\u001b[0;34m]\u001b[0m\u001b[0;34m)\u001b[0m\u001b[0;34m\u001b[0m\u001b[0;34m\u001b[0m\u001b[0m\n\u001b[0m",
      "\u001b[0;31mAttributeError\u001b[0m: 'list' object has no attribute 'dot'"
     ]
    }
   ],
   "source": [
    "([1,2,3]).dot([4,5,3])"
   ]
  },
  {
   "cell_type": "code",
   "execution_count": 133,
   "id": "discrete-moment",
   "metadata": {},
   "outputs": [],
   "source": [
    "x=np.array([1,2,3])"
   ]
  },
  {
   "cell_type": "code",
   "execution_count": 134,
   "id": "external-coast",
   "metadata": {},
   "outputs": [],
   "source": [
    "y=np.array([5,3,5])"
   ]
  },
  {
   "cell_type": "code",
   "execution_count": 135,
   "id": "professional-master",
   "metadata": {},
   "outputs": [
    {
     "data": {
      "text/plain": [
       "26"
      ]
     },
     "execution_count": 135,
     "metadata": {},
     "output_type": "execute_result"
    }
   ],
   "source": [
    "x.dot(y)"
   ]
  },
  {
   "cell_type": "code",
   "execution_count": 136,
   "id": "wireless-commercial",
   "metadata": {},
   "outputs": [
    {
     "data": {
      "text/plain": [
       "array([[0, 1, 2],\n",
       "       [3, 4, 5],\n",
       "       [6, 7, 8]])"
      ]
     },
     "execution_count": 136,
     "metadata": {},
     "output_type": "execute_result"
    }
   ],
   "source": [
    "a"
   ]
  },
  {
   "cell_type": "code",
   "execution_count": 137,
   "id": "overall-washer",
   "metadata": {},
   "outputs": [
    {
     "data": {
      "text/plain": [
       "36"
      ]
     },
     "execution_count": 137,
     "metadata": {},
     "output_type": "execute_result"
    }
   ],
   "source": [
    "a.sum()"
   ]
  },
  {
   "cell_type": "code",
   "execution_count": 138,
   "id": "moved-correspondence",
   "metadata": {},
   "outputs": [
    {
     "data": {
      "text/plain": [
       "array([ 9, 12, 15])"
      ]
     },
     "execution_count": 138,
     "metadata": {},
     "output_type": "execute_result"
    }
   ],
   "source": [
    "sum(a)"
   ]
  },
  {
   "cell_type": "code",
   "execution_count": 139,
   "id": "outer-lodging",
   "metadata": {},
   "outputs": [
    {
     "ename": "TypeError",
     "evalue": "'axis' is an invalid keyword argument for sum()",
     "output_type": "error",
     "traceback": [
      "\u001b[0;31m---------------------------------------------------------------------------\u001b[0m",
      "\u001b[0;31mTypeError\u001b[0m                                 Traceback (most recent call last)",
      "\u001b[0;32m<ipython-input-139-c563653de8ce>\u001b[0m in \u001b[0;36m<module>\u001b[0;34m\u001b[0m\n\u001b[0;32m----> 1\u001b[0;31m \u001b[0msum\u001b[0m\u001b[0;34m(\u001b[0m\u001b[0ma\u001b[0m\u001b[0;34m,\u001b[0m\u001b[0maxis\u001b[0m\u001b[0;34m=\u001b[0m\u001b[0;36m1\u001b[0m\u001b[0;34m)\u001b[0m\u001b[0;34m\u001b[0m\u001b[0;34m\u001b[0m\u001b[0m\n\u001b[0m",
      "\u001b[0;31mTypeError\u001b[0m: 'axis' is an invalid keyword argument for sum()"
     ]
    }
   ],
   "source": [
    "sum(a,axis=1)"
   ]
  },
  {
   "cell_type": "code",
   "execution_count": 140,
   "id": "aboriginal-ocean",
   "metadata": {},
   "outputs": [
    {
     "data": {
      "text/plain": [
       "array([ 3, 12, 21])"
      ]
     },
     "execution_count": 140,
     "metadata": {},
     "output_type": "execute_result"
    }
   ],
   "source": [
    "np.sum(a,axis=1)"
   ]
  },
  {
   "cell_type": "code",
   "execution_count": 141,
   "id": "committed-collins",
   "metadata": {},
   "outputs": [
    {
     "data": {
      "text/plain": [
       "0"
      ]
     },
     "execution_count": 141,
     "metadata": {},
     "output_type": "execute_result"
    }
   ],
   "source": [
    "a.min()"
   ]
  },
  {
   "cell_type": "code",
   "execution_count": 142,
   "id": "descending-probe",
   "metadata": {},
   "outputs": [
    {
     "ename": "ValueError",
     "evalue": "The truth value of an array with more than one element is ambiguous. Use a.any() or a.all()",
     "output_type": "error",
     "traceback": [
      "\u001b[0;31m---------------------------------------------------------------------------\u001b[0m",
      "\u001b[0;31mValueError\u001b[0m                                Traceback (most recent call last)",
      "\u001b[0;32m<ipython-input-142-7deb7b701666>\u001b[0m in \u001b[0;36m<module>\u001b[0;34m\u001b[0m\n\u001b[0;32m----> 1\u001b[0;31m \u001b[0mmin\u001b[0m\u001b[0;34m(\u001b[0m\u001b[0ma\u001b[0m\u001b[0;34m)\u001b[0m\u001b[0;34m\u001b[0m\u001b[0;34m\u001b[0m\u001b[0m\n\u001b[0m",
      "\u001b[0;31mValueError\u001b[0m: The truth value of an array with more than one element is ambiguous. Use a.any() or a.all()"
     ]
    }
   ],
   "source": [
    "min(a)"
   ]
  },
  {
   "cell_type": "code",
   "execution_count": 143,
   "id": "alike-trade",
   "metadata": {},
   "outputs": [
    {
     "data": {
      "text/plain": [
       "36"
      ]
     },
     "execution_count": 143,
     "metadata": {},
     "output_type": "execute_result"
    }
   ],
   "source": [
    "a.sum()"
   ]
  },
  {
   "cell_type": "code",
   "execution_count": 144,
   "id": "utility-capital",
   "metadata": {},
   "outputs": [
    {
     "data": {
      "text/plain": [
       "array([ 9, 12, 15])"
      ]
     },
     "execution_count": 144,
     "metadata": {},
     "output_type": "execute_result"
    }
   ],
   "source": [
    "sum(a)"
   ]
  },
  {
   "cell_type": "code",
   "execution_count": 145,
   "id": "super-interaction",
   "metadata": {},
   "outputs": [
    {
     "data": {
      "text/plain": [
       "0"
      ]
     },
     "execution_count": 145,
     "metadata": {},
     "output_type": "execute_result"
    }
   ],
   "source": [
    "np.min(a)"
   ]
  },
  {
   "cell_type": "code",
   "execution_count": 146,
   "id": "golden-arrow",
   "metadata": {},
   "outputs": [
    {
     "data": {
      "text/plain": [
       "array([0, 3, 6])"
      ]
     },
     "execution_count": 146,
     "metadata": {},
     "output_type": "execute_result"
    }
   ],
   "source": [
    "np.min(a,axis=1)"
   ]
  },
  {
   "cell_type": "code",
   "execution_count": 147,
   "id": "pointed-burning",
   "metadata": {},
   "outputs": [
    {
     "data": {
      "text/plain": [
       "array([[0, 1, 2],\n",
       "       [3, 4, 5],\n",
       "       [6, 7, 8]])"
      ]
     },
     "execution_count": 147,
     "metadata": {},
     "output_type": "execute_result"
    }
   ],
   "source": [
    "a"
   ]
  },
  {
   "cell_type": "code",
   "execution_count": 148,
   "id": "expressed-roman",
   "metadata": {},
   "outputs": [
    {
     "data": {
      "text/plain": [
       "array([0, 1, 2])"
      ]
     },
     "execution_count": 148,
     "metadata": {},
     "output_type": "execute_result"
    }
   ],
   "source": [
    "np.min(a,axis=0)"
   ]
  },
  {
   "cell_type": "code",
   "execution_count": 149,
   "id": "sticky-disabled",
   "metadata": {},
   "outputs": [
    {
     "data": {
      "text/plain": [
       "0"
      ]
     },
     "execution_count": 149,
     "metadata": {},
     "output_type": "execute_result"
    }
   ],
   "source": [
    "a.min()"
   ]
  },
  {
   "cell_type": "code",
   "execution_count": 150,
   "id": "instant-brook",
   "metadata": {},
   "outputs": [
    {
     "data": {
      "text/plain": [
       "0"
      ]
     },
     "execution_count": 150,
     "metadata": {},
     "output_type": "execute_result"
    }
   ],
   "source": [
    "np.min(a)"
   ]
  },
  {
   "cell_type": "code",
   "execution_count": 151,
   "id": "focused-shopper",
   "metadata": {},
   "outputs": [
    {
     "data": {
      "text/plain": [
       "2.581988897471611"
      ]
     },
     "execution_count": 151,
     "metadata": {},
     "output_type": "execute_result"
    }
   ],
   "source": [
    "np.std(a)"
   ]
  },
  {
   "cell_type": "code",
   "execution_count": 152,
   "id": "injured-cookie",
   "metadata": {},
   "outputs": [
    {
     "ename": "AttributeError",
     "evalue": "module 'numpy' has no attribute 'desc'",
     "output_type": "error",
     "traceback": [
      "\u001b[0;31m---------------------------------------------------------------------------\u001b[0m",
      "\u001b[0;31mAttributeError\u001b[0m                            Traceback (most recent call last)",
      "\u001b[0;32m<ipython-input-152-e9a90a5c04a7>\u001b[0m in \u001b[0;36m<module>\u001b[0;34m\u001b[0m\n\u001b[0;32m----> 1\u001b[0;31m \u001b[0mnp\u001b[0m\u001b[0;34m.\u001b[0m\u001b[0mdesc\u001b[0m\u001b[0;34m(\u001b[0m\u001b[0ma\u001b[0m\u001b[0;34m)\u001b[0m\u001b[0;34m\u001b[0m\u001b[0;34m\u001b[0m\u001b[0m\n\u001b[0m",
      "\u001b[0;32m/usr/lib/python3/dist-packages/numpy/__init__.py\u001b[0m in \u001b[0;36m__getattr__\u001b[0;34m(attr)\u001b[0m\n\u001b[1;32m    212\u001b[0m                 \u001b[0;32mreturn\u001b[0m \u001b[0mTester\u001b[0m\u001b[0;34m\u001b[0m\u001b[0;34m\u001b[0m\u001b[0m\n\u001b[1;32m    213\u001b[0m             \u001b[0;32melse\u001b[0m\u001b[0;34m:\u001b[0m\u001b[0;34m\u001b[0m\u001b[0;34m\u001b[0m\u001b[0m\n\u001b[0;32m--> 214\u001b[0;31m                 raise AttributeError(\"module {!r} has no attribute \"\n\u001b[0m\u001b[1;32m    215\u001b[0m                                      \"{!r}\".format(__name__, attr))\n\u001b[1;32m    216\u001b[0m \u001b[0;34m\u001b[0m\u001b[0m\n",
      "\u001b[0;31mAttributeError\u001b[0m: module 'numpy' has no attribute 'desc'"
     ]
    }
   ],
   "source": [
    "np.desc(a)"
   ]
  },
  {
   "cell_type": "code",
   "execution_count": 153,
   "id": "brazilian-ghost",
   "metadata": {},
   "outputs": [
    {
     "ename": "AttributeError",
     "evalue": "module 'numpy' has no attribute 'describe'",
     "output_type": "error",
     "traceback": [
      "\u001b[0;31m---------------------------------------------------------------------------\u001b[0m",
      "\u001b[0;31mAttributeError\u001b[0m                            Traceback (most recent call last)",
      "\u001b[0;32m<ipython-input-153-c4b02ac5798f>\u001b[0m in \u001b[0;36m<module>\u001b[0;34m\u001b[0m\n\u001b[0;32m----> 1\u001b[0;31m \u001b[0mnp\u001b[0m\u001b[0;34m.\u001b[0m\u001b[0mdescribe\u001b[0m\u001b[0;34m(\u001b[0m\u001b[0ma\u001b[0m\u001b[0;34m)\u001b[0m\u001b[0;34m\u001b[0m\u001b[0;34m\u001b[0m\u001b[0m\n\u001b[0m",
      "\u001b[0;32m/usr/lib/python3/dist-packages/numpy/__init__.py\u001b[0m in \u001b[0;36m__getattr__\u001b[0;34m(attr)\u001b[0m\n\u001b[1;32m    212\u001b[0m                 \u001b[0;32mreturn\u001b[0m \u001b[0mTester\u001b[0m\u001b[0;34m\u001b[0m\u001b[0;34m\u001b[0m\u001b[0m\n\u001b[1;32m    213\u001b[0m             \u001b[0;32melse\u001b[0m\u001b[0;34m:\u001b[0m\u001b[0;34m\u001b[0m\u001b[0;34m\u001b[0m\u001b[0m\n\u001b[0;32m--> 214\u001b[0;31m                 raise AttributeError(\"module {!r} has no attribute \"\n\u001b[0m\u001b[1;32m    215\u001b[0m                                      \"{!r}\".format(__name__, attr))\n\u001b[1;32m    216\u001b[0m \u001b[0;34m\u001b[0m\u001b[0m\n",
      "\u001b[0;31mAttributeError\u001b[0m: module 'numpy' has no attribute 'describe'"
     ]
    }
   ],
   "source": [
    "np.describe(a)"
   ]
  },
  {
   "cell_type": "code",
   "execution_count": 154,
   "id": "golden-atmosphere",
   "metadata": {},
   "outputs": [
    {
     "data": {
      "text/plain": [
       "4.0"
      ]
     },
     "execution_count": 154,
     "metadata": {},
     "output_type": "execute_result"
    }
   ],
   "source": [
    "np.mean(a)"
   ]
  },
  {
   "cell_type": "code",
   "execution_count": 155,
   "id": "located-fusion",
   "metadata": {},
   "outputs": [
    {
     "data": {
      "text/plain": [
       "array([[0, 1, 2],\n",
       "       [3, 4, 5],\n",
       "       [6, 7, 8]])"
      ]
     },
     "execution_count": 155,
     "metadata": {},
     "output_type": "execute_result"
    }
   ],
   "source": [
    "a"
   ]
  },
  {
   "cell_type": "code",
   "execution_count": 156,
   "id": "progressive-windsor",
   "metadata": {},
   "outputs": [
    {
     "data": {
      "text/plain": [
       "array([1., 4., 7.])"
      ]
     },
     "execution_count": 156,
     "metadata": {},
     "output_type": "execute_result"
    }
   ],
   "source": [
    "np.mean(a,axis=1)"
   ]
  },
  {
   "cell_type": "code",
   "execution_count": 157,
   "id": "excellent-grain",
   "metadata": {},
   "outputs": [
    {
     "data": {
      "text/plain": [
       "array([3., 4., 5.])"
      ]
     },
     "execution_count": 157,
     "metadata": {},
     "output_type": "execute_result"
    }
   ],
   "source": [
    "np.mean(a,axis=0)"
   ]
  },
  {
   "cell_type": "code",
   "execution_count": 158,
   "id": "constant-investing",
   "metadata": {},
   "outputs": [
    {
     "ename": "NameError",
     "evalue": "name 'std' is not defined",
     "output_type": "error",
     "traceback": [
      "\u001b[0;31m---------------------------------------------------------------------------\u001b[0m",
      "\u001b[0;31mNameError\u001b[0m                                 Traceback (most recent call last)",
      "\u001b[0;32m<ipython-input-158-a70bdd2e6919>\u001b[0m in \u001b[0;36m<module>\u001b[0;34m\u001b[0m\n\u001b[0;32m----> 1\u001b[0;31m \u001b[0mstd\u001b[0m\u001b[0;34m(\u001b[0m\u001b[0ma\u001b[0m\u001b[0;34m)\u001b[0m\u001b[0;34m\u001b[0m\u001b[0;34m\u001b[0m\u001b[0m\n\u001b[0m",
      "\u001b[0;31mNameError\u001b[0m: name 'std' is not defined"
     ]
    }
   ],
   "source": [
    "std(a)"
   ]
  },
  {
   "cell_type": "code",
   "execution_count": 159,
   "id": "general-biotechnology",
   "metadata": {},
   "outputs": [
    {
     "data": {
      "text/plain": [
       "2.581988897471611"
      ]
     },
     "execution_count": 159,
     "metadata": {},
     "output_type": "execute_result"
    }
   ],
   "source": [
    "a.std()"
   ]
  },
  {
   "cell_type": "code",
   "execution_count": 160,
   "id": "addressed-shuttle",
   "metadata": {},
   "outputs": [
    {
     "data": {
      "text/plain": [
       "2.581988897471611"
      ]
     },
     "execution_count": 160,
     "metadata": {},
     "output_type": "execute_result"
    }
   ],
   "source": [
    "np.std(a)"
   ]
  },
  {
   "cell_type": "code",
   "execution_count": 161,
   "id": "mental-occasions",
   "metadata": {},
   "outputs": [
    {
     "data": {
      "text/plain": [
       "array([0.81649658, 0.81649658, 0.81649658])"
      ]
     },
     "execution_count": 161,
     "metadata": {},
     "output_type": "execute_result"
    }
   ],
   "source": [
    "np.std(a,axis=1)"
   ]
  },
  {
   "cell_type": "code",
   "execution_count": 162,
   "id": "heated-sewing",
   "metadata": {},
   "outputs": [
    {
     "data": {
      "text/plain": [
       "array([[0, 1, 2],\n",
       "       [3, 4, 5],\n",
       "       [6, 7, 8]])"
      ]
     },
     "execution_count": 162,
     "metadata": {},
     "output_type": "execute_result"
    }
   ],
   "source": [
    "a"
   ]
  },
  {
   "cell_type": "code",
   "execution_count": 163,
   "id": "defensive-responsibility",
   "metadata": {},
   "outputs": [],
   "source": [
    "b=a.ravel()"
   ]
  },
  {
   "cell_type": "code",
   "execution_count": 164,
   "id": "average-genetics",
   "metadata": {},
   "outputs": [
    {
     "data": {
      "text/plain": [
       "array([0, 1, 2, 3, 4, 5, 6, 7, 8])"
      ]
     },
     "execution_count": 164,
     "metadata": {},
     "output_type": "execute_result"
    }
   ],
   "source": [
    "b"
   ]
  },
  {
   "cell_type": "code",
   "execution_count": 165,
   "id": "funny-grocery",
   "metadata": {},
   "outputs": [
    {
     "ename": "UFuncTypeError",
     "evalue": "Cannot cast ufunc 'add' output from dtype('float64') to dtype('int64') with casting rule 'same_kind'",
     "output_type": "error",
     "traceback": [
      "\u001b[0;31m---------------------------------------------------------------------------\u001b[0m",
      "\u001b[0;31mUFuncTypeError\u001b[0m                            Traceback (most recent call last)",
      "\u001b[0;32m<ipython-input-165-70976f43c0d3>\u001b[0m in \u001b[0;36m<module>\u001b[0;34m\u001b[0m\n\u001b[0;32m----> 1\u001b[0;31m \u001b[0mb\u001b[0m\u001b[0;34m+=\u001b[0m\u001b[0;36m2.3\u001b[0m\u001b[0;34m\u001b[0m\u001b[0;34m\u001b[0m\u001b[0m\n\u001b[0m",
      "\u001b[0;31mUFuncTypeError\u001b[0m: Cannot cast ufunc 'add' output from dtype('float64') to dtype('int64') with casting rule 'same_kind'"
     ]
    }
   ],
   "source": [
    "b+=2.3"
   ]
  },
  {
   "cell_type": "code",
   "execution_count": 166,
   "id": "paperback-auckland",
   "metadata": {},
   "outputs": [],
   "source": [
    "b+=4"
   ]
  },
  {
   "cell_type": "code",
   "execution_count": 167,
   "id": "contrary-coordination",
   "metadata": {},
   "outputs": [
    {
     "data": {
      "text/plain": [
       "array([ 4,  5,  6,  7,  8,  9, 10, 11, 12])"
      ]
     },
     "execution_count": 167,
     "metadata": {},
     "output_type": "execute_result"
    }
   ],
   "source": [
    "b"
   ]
  },
  {
   "cell_type": "code",
   "execution_count": 168,
   "id": "caring-duplicate",
   "metadata": {},
   "outputs": [
    {
     "data": {
      "text/plain": [
       "7"
      ]
     },
     "execution_count": 168,
     "metadata": {},
     "output_type": "execute_result"
    }
   ],
   "source": [
    "b[3]"
   ]
  },
  {
   "cell_type": "code",
   "execution_count": 169,
   "id": "alternate-finger",
   "metadata": {},
   "outputs": [
    {
     "data": {
      "text/plain": [
       "10"
      ]
     },
     "execution_count": 169,
     "metadata": {},
     "output_type": "execute_result"
    }
   ],
   "source": [
    "b[-3]"
   ]
  },
  {
   "cell_type": "code",
   "execution_count": 170,
   "id": "revolutionary-volleyball",
   "metadata": {},
   "outputs": [
    {
     "data": {
      "text/plain": [
       "array([4, 5, 6, 7, 8])"
      ]
     },
     "execution_count": 170,
     "metadata": {},
     "output_type": "execute_result"
    }
   ],
   "source": [
    "b[:5]"
   ]
  },
  {
   "cell_type": "code",
   "execution_count": 171,
   "id": "violent-easter",
   "metadata": {},
   "outputs": [
    {
     "data": {
      "text/plain": [
       "array([ 4,  6,  8, 10, 12])"
      ]
     },
     "execution_count": 171,
     "metadata": {},
     "output_type": "execute_result"
    }
   ],
   "source": [
    "b[::2]"
   ]
  },
  {
   "cell_type": "code",
   "execution_count": 172,
   "id": "conservative-apartment",
   "metadata": {},
   "outputs": [
    {
     "data": {
      "text/plain": [
       "array([], dtype=int64)"
      ]
     },
     "execution_count": 172,
     "metadata": {},
     "output_type": "execute_result"
    }
   ],
   "source": [
    "b[-1:-3]"
   ]
  },
  {
   "cell_type": "code",
   "execution_count": 173,
   "id": "presidential-motivation",
   "metadata": {},
   "outputs": [
    {
     "data": {
      "text/plain": [
       "12"
      ]
     },
     "execution_count": 173,
     "metadata": {},
     "output_type": "execute_result"
    }
   ],
   "source": [
    "b[-1]"
   ]
  },
  {
   "cell_type": "code",
   "execution_count": 174,
   "id": "exciting-composite",
   "metadata": {},
   "outputs": [
    {
     "data": {
      "text/plain": [
       "array([4, 5, 6, 7, 8])"
      ]
     },
     "execution_count": 174,
     "metadata": {},
     "output_type": "execute_result"
    }
   ],
   "source": [
    "b[:-4]"
   ]
  },
  {
   "cell_type": "code",
   "execution_count": 175,
   "id": "filled-angle",
   "metadata": {},
   "outputs": [
    {
     "data": {
      "text/plain": [
       "array([[4, 5, 6]])"
      ]
     },
     "execution_count": 175,
     "metadata": {},
     "output_type": "execute_result"
    }
   ],
   "source": [
    "a[0:-1:2]"
   ]
  },
  {
   "cell_type": "code",
   "execution_count": 176,
   "id": "mental-dancing",
   "metadata": {},
   "outputs": [
    {
     "data": {
      "text/plain": [
       "array([ 4,  5,  6,  7,  8,  9, 10, 11, 12])"
      ]
     },
     "execution_count": 176,
     "metadata": {},
     "output_type": "execute_result"
    }
   ],
   "source": [
    "b"
   ]
  },
  {
   "cell_type": "code",
   "execution_count": 177,
   "id": "promising-ticket",
   "metadata": {},
   "outputs": [
    {
     "data": {
      "text/plain": [
       "array([[ 4,  5,  6],\n",
       "       [ 7,  8,  9],\n",
       "       [10, 11, 12]])"
      ]
     },
     "execution_count": 177,
     "metadata": {},
     "output_type": "execute_result"
    }
   ],
   "source": [
    "a"
   ]
  },
  {
   "cell_type": "code",
   "execution_count": 178,
   "id": "parental-recall",
   "metadata": {},
   "outputs": [
    {
     "data": {
      "text/plain": [
       "array([], dtype=int64)"
      ]
     },
     "execution_count": 178,
     "metadata": {},
     "output_type": "execute_result"
    }
   ],
   "source": [
    "b[:0]"
   ]
  },
  {
   "cell_type": "code",
   "execution_count": 179,
   "id": "noted-eagle",
   "metadata": {},
   "outputs": [
    {
     "ename": "TypeError",
     "evalue": "bad operand type for unary -: 'function'",
     "output_type": "error",
     "traceback": [
      "\u001b[0;31m---------------------------------------------------------------------------\u001b[0m",
      "\u001b[0;31mTypeError\u001b[0m                                 Traceback (most recent call last)",
      "\u001b[0;32m<ipython-input-179-ecea8eb23e0b>\u001b[0m in \u001b[0;36m<module>\u001b[0;34m\u001b[0m\n\u001b[0;32m----> 1\u001b[0;31m \u001b[0mb\u001b[0m\u001b[0;34m[\u001b[0m\u001b[0;34m-\u001b[0m\u001b[0mnp\u001b[0m\u001b[0;34m.\u001b[0m\u001b[0msize\u001b[0m\u001b[0;34m:\u001b[0m\u001b[0;36m0\u001b[0m\u001b[0;34m:\u001b[0m\u001b[0;36m2\u001b[0m\u001b[0;34m]\u001b[0m\u001b[0;34m\u001b[0m\u001b[0;34m\u001b[0m\u001b[0m\n\u001b[0m",
      "\u001b[0;31mTypeError\u001b[0m: bad operand type for unary -: 'function'"
     ]
    }
   ],
   "source": [
    "b[-np.size:0:2]"
   ]
  },
  {
   "cell_type": "code",
   "execution_count": 180,
   "id": "medieval-supervisor",
   "metadata": {},
   "outputs": [
    {
     "ename": "TypeError",
     "evalue": "bad operand type for unary -: 'function'",
     "output_type": "error",
     "traceback": [
      "\u001b[0;31m---------------------------------------------------------------------------\u001b[0m",
      "\u001b[0;31mTypeError\u001b[0m                                 Traceback (most recent call last)",
      "\u001b[0;32m<ipython-input-180-70566d15bb81>\u001b[0m in \u001b[0;36m<module>\u001b[0;34m\u001b[0m\n\u001b[0;32m----> 1\u001b[0;31m \u001b[0mb\u001b[0m\u001b[0;34m[\u001b[0m\u001b[0;34m-\u001b[0m\u001b[0;34m(\u001b[0m\u001b[0mnp\u001b[0m\u001b[0;34m.\u001b[0m\u001b[0msize\u001b[0m\u001b[0;34m)\u001b[0m\u001b[0;34m:\u001b[0m\u001b[0;36m0\u001b[0m\u001b[0;34m:\u001b[0m\u001b[0;36m2\u001b[0m\u001b[0;34m]\u001b[0m\u001b[0;34m\u001b[0m\u001b[0;34m\u001b[0m\u001b[0m\n\u001b[0m",
      "\u001b[0;31mTypeError\u001b[0m: bad operand type for unary -: 'function'"
     ]
    }
   ],
   "source": [
    "b[-(np.size):0:2]"
   ]
  },
  {
   "cell_type": "code",
   "execution_count": 181,
   "id": "taken-limit",
   "metadata": {},
   "outputs": [
    {
     "data": {
      "text/plain": [
       "array([[ 4,  5,  6],\n",
       "       [ 7,  8,  9],\n",
       "       [10, 11, 12]])"
      ]
     },
     "execution_count": 181,
     "metadata": {},
     "output_type": "execute_result"
    }
   ],
   "source": [
    "a"
   ]
  },
  {
   "cell_type": "code",
   "execution_count": 182,
   "id": "lucky-anaheim",
   "metadata": {},
   "outputs": [
    {
     "data": {
      "text/plain": [
       "9"
      ]
     },
     "execution_count": 182,
     "metadata": {},
     "output_type": "execute_result"
    }
   ],
   "source": [
    "a[1,2]"
   ]
  },
  {
   "cell_type": "code",
   "execution_count": 183,
   "id": "joint-brand",
   "metadata": {},
   "outputs": [
    {
     "data": {
      "text/plain": [
       "array([ 4,  5,  6,  7,  8,  9, 10, 11, 12])"
      ]
     },
     "execution_count": 183,
     "metadata": {},
     "output_type": "execute_result"
    }
   ],
   "source": [
    "b"
   ]
  },
  {
   "cell_type": "code",
   "execution_count": 184,
   "id": "employed-trigger",
   "metadata": {},
   "outputs": [
    {
     "data": {
      "text/plain": [
       "array([5, 6, 7])"
      ]
     },
     "execution_count": 184,
     "metadata": {},
     "output_type": "execute_result"
    }
   ],
   "source": [
    "b[[1,2,3]]"
   ]
  },
  {
   "cell_type": "code",
   "execution_count": 185,
   "id": "governmental-message",
   "metadata": {},
   "outputs": [
    {
     "ename": "IndexError",
     "evalue": "too many indices for array: array is 1-dimensional, but 3 were indexed",
     "output_type": "error",
     "traceback": [
      "\u001b[0;31m---------------------------------------------------------------------------\u001b[0m",
      "\u001b[0;31mIndexError\u001b[0m                                Traceback (most recent call last)",
      "\u001b[0;32m<ipython-input-185-30786f63f8c3>\u001b[0m in \u001b[0;36m<module>\u001b[0;34m\u001b[0m\n\u001b[0;32m----> 1\u001b[0;31m \u001b[0mb\u001b[0m\u001b[0;34m[\u001b[0m\u001b[0;36m1\u001b[0m\u001b[0;34m,\u001b[0m\u001b[0;36m2\u001b[0m\u001b[0;34m,\u001b[0m\u001b[0;36m3\u001b[0m\u001b[0;34m]\u001b[0m\u001b[0;34m\u001b[0m\u001b[0;34m\u001b[0m\u001b[0m\n\u001b[0m",
      "\u001b[0;31mIndexError\u001b[0m: too many indices for array: array is 1-dimensional, but 3 were indexed"
     ]
    }
   ],
   "source": [
    "b[1,2,3]"
   ]
  },
  {
   "cell_type": "code",
   "execution_count": 186,
   "id": "naked-reply",
   "metadata": {},
   "outputs": [
    {
     "data": {
      "text/plain": [
       "array([7, 9, 6])"
      ]
     },
     "execution_count": 186,
     "metadata": {},
     "output_type": "execute_result"
    }
   ],
   "source": [
    "b[[3,5,2]]"
   ]
  },
  {
   "cell_type": "code",
   "execution_count": 187,
   "id": "naked-support",
   "metadata": {},
   "outputs": [
    {
     "data": {
      "text/plain": [
       "array([[ 4,  5,  6],\n",
       "       [ 7,  8,  9],\n",
       "       [10, 11, 12]])"
      ]
     },
     "execution_count": 187,
     "metadata": {},
     "output_type": "execute_result"
    }
   ],
   "source": [
    "a"
   ]
  },
  {
   "cell_type": "code",
   "execution_count": 188,
   "id": "remarkable-composer",
   "metadata": {},
   "outputs": [
    {
     "data": {
      "text/plain": [
       "array([ 9, 11])"
      ]
     },
     "execution_count": 188,
     "metadata": {},
     "output_type": "execute_result"
    }
   ],
   "source": [
    "a[[1,2],[2,1]]"
   ]
  },
  {
   "cell_type": "code",
   "execution_count": 189,
   "id": "different-andrews",
   "metadata": {},
   "outputs": [
    {
     "data": {
      "text/plain": [
       "array([ 4,  6,  8, 10])"
      ]
     },
     "execution_count": 189,
     "metadata": {},
     "output_type": "execute_result"
    }
   ],
   "source": [
    "b[:-1:2]"
   ]
  },
  {
   "cell_type": "code",
   "execution_count": 190,
   "id": "national-junction",
   "metadata": {},
   "outputs": [
    {
     "data": {
      "text/plain": [
       "array([ 4,  5,  6,  7,  8,  9, 10, 11, 12])"
      ]
     },
     "execution_count": 190,
     "metadata": {},
     "output_type": "execute_result"
    }
   ],
   "source": [
    "b"
   ]
  },
  {
   "cell_type": "code",
   "execution_count": 191,
   "id": "functional-respect",
   "metadata": {},
   "outputs": [
    {
     "data": {
      "text/plain": [
       "12"
      ]
     },
     "execution_count": 191,
     "metadata": {},
     "output_type": "execute_result"
    }
   ],
   "source": [
    "b[-1]"
   ]
  },
  {
   "cell_type": "code",
   "execution_count": 192,
   "id": "liberal-arrest",
   "metadata": {},
   "outputs": [
    {
     "data": {
      "text/plain": [
       "array([ 4,  5,  6,  7,  8,  9, 10, 11])"
      ]
     },
     "execution_count": 192,
     "metadata": {},
     "output_type": "execute_result"
    }
   ],
   "source": [
    "b[:-1]"
   ]
  },
  {
   "cell_type": "code",
   "execution_count": 193,
   "id": "traditional-article",
   "metadata": {},
   "outputs": [
    {
     "data": {
      "text/plain": [
       "6"
      ]
     },
     "execution_count": 193,
     "metadata": {},
     "output_type": "execute_result"
    }
   ],
   "source": [
    "a[0,2]"
   ]
  },
  {
   "cell_type": "code",
   "execution_count": 194,
   "id": "flush-prince",
   "metadata": {},
   "outputs": [
    {
     "data": {
      "text/plain": [
       "array([[ 4,  5,  6],\n",
       "       [ 7,  8,  9],\n",
       "       [10, 11, 12]])"
      ]
     },
     "execution_count": 194,
     "metadata": {},
     "output_type": "execute_result"
    }
   ],
   "source": [
    "a"
   ]
  },
  {
   "cell_type": "code",
   "execution_count": 195,
   "id": "elegant-error",
   "metadata": {},
   "outputs": [
    {
     "data": {
      "text/plain": [
       "array([[5, 6],\n",
       "       [8, 9]])"
      ]
     },
     "execution_count": 195,
     "metadata": {},
     "output_type": "execute_result"
    }
   ],
   "source": [
    "a[:2,1:]"
   ]
  },
  {
   "cell_type": "code",
   "execution_count": 196,
   "id": "objective-finland",
   "metadata": {},
   "outputs": [
    {
     "data": {
      "text/plain": [
       "array([4, 5, 6])"
      ]
     },
     "execution_count": 196,
     "metadata": {},
     "output_type": "execute_result"
    }
   ],
   "source": [
    "a[0]"
   ]
  },
  {
   "cell_type": "code",
   "execution_count": 197,
   "id": "dimensional-meeting",
   "metadata": {},
   "outputs": [
    {
     "data": {
      "text/plain": [
       "array([4, 5, 6])"
      ]
     },
     "execution_count": 197,
     "metadata": {},
     "output_type": "execute_result"
    }
   ],
   "source": [
    "a[0,:]"
   ]
  },
  {
   "cell_type": "code",
   "execution_count": 198,
   "id": "blessed-adobe",
   "metadata": {},
   "outputs": [
    {
     "ename": "SyntaxError",
     "evalue": "invalid syntax (<ipython-input-198-241a3fa00b9e>, line 1)",
     "output_type": "error",
     "traceback": [
      "\u001b[0;36m  File \u001b[0;32m\"<ipython-input-198-241a3fa00b9e>\"\u001b[0;36m, line \u001b[0;32m1\u001b[0m\n\u001b[0;31m    a[,0]\u001b[0m\n\u001b[0m      ^\u001b[0m\n\u001b[0;31mSyntaxError\u001b[0m\u001b[0;31m:\u001b[0m invalid syntax\n"
     ]
    }
   ],
   "source": [
    "a[,0]"
   ]
  },
  {
   "cell_type": "code",
   "execution_count": 199,
   "id": "scenic-highland",
   "metadata": {},
   "outputs": [
    {
     "data": {
      "text/plain": [
       "array([ 4,  7, 10])"
      ]
     },
     "execution_count": 199,
     "metadata": {},
     "output_type": "execute_result"
    }
   ],
   "source": [
    "a[:,0]"
   ]
  },
  {
   "cell_type": "code",
   "execution_count": 200,
   "id": "personalized-accounting",
   "metadata": {},
   "outputs": [
    {
     "data": {
      "text/plain": [
       "array([[ 4,  5,  6],\n",
       "       [ 7,  8,  9],\n",
       "       [10, 11, 12]])"
      ]
     },
     "execution_count": 200,
     "metadata": {},
     "output_type": "execute_result"
    }
   ],
   "source": [
    "a"
   ]
  },
  {
   "cell_type": "code",
   "execution_count": 201,
   "id": "interim-twelve",
   "metadata": {},
   "outputs": [
    {
     "data": {
      "text/plain": [
       "array([4, 5, 6])"
      ]
     },
     "execution_count": 201,
     "metadata": {},
     "output_type": "execute_result"
    }
   ],
   "source": [
    "a[0,:]"
   ]
  },
  {
   "cell_type": "code",
   "execution_count": 202,
   "id": "satisfactory-handbook",
   "metadata": {},
   "outputs": [
    {
     "data": {
      "text/plain": [
       "array([[ 4,  5,  6],\n",
       "       [ 7,  8,  9],\n",
       "       [10, 11, 12]])"
      ]
     },
     "execution_count": 202,
     "metadata": {},
     "output_type": "execute_result"
    }
   ],
   "source": [
    "a\n"
   ]
  },
  {
   "cell_type": "code",
   "execution_count": 203,
   "id": "capable-consumption",
   "metadata": {},
   "outputs": [
    {
     "data": {
      "text/plain": [
       "array([[ 8,  9],\n",
       "       [11, 12]])"
      ]
     },
     "execution_count": 203,
     "metadata": {},
     "output_type": "execute_result"
    }
   ],
   "source": [
    "a[1:,1:]"
   ]
  },
  {
   "cell_type": "code",
   "execution_count": 204,
   "id": "opposed-security",
   "metadata": {},
   "outputs": [
    {
     "data": {
      "text/plain": [
       "array([[ 7,  8],\n",
       "       [10, 11]])"
      ]
     },
     "execution_count": 204,
     "metadata": {},
     "output_type": "execute_result"
    }
   ],
   "source": [
    "a[1:,:2]"
   ]
  },
  {
   "cell_type": "code",
   "execution_count": 206,
   "id": "special-expense",
   "metadata": {},
   "outputs": [
    {
     "name": "stdout",
     "output_type": "stream",
     "text": [
      "[4 5 6]\n",
      "[7 8 9]\n",
      "[10 11 12]\n"
     ]
    }
   ],
   "source": [
    "for i in a:\n",
    "    print(i)"
   ]
  },
  {
   "cell_type": "code",
   "execution_count": 207,
   "id": "damaged-identifier",
   "metadata": {},
   "outputs": [
    {
     "name": "stdout",
     "output_type": "stream",
     "text": [
      "4\n",
      "5\n",
      "6\n",
      "7\n",
      "8\n",
      "9\n",
      "10\n",
      "11\n",
      "12\n"
     ]
    }
   ],
   "source": [
    "for i in a.flat:\n",
    "    print(i)"
   ]
  },
  {
   "cell_type": "code",
   "execution_count": 208,
   "id": "continent-piano",
   "metadata": {},
   "outputs": [
    {
     "data": {
      "text/plain": [
       "\u001b[0;31mSignature:\u001b[0m \u001b[0mnp\u001b[0m\u001b[0;34m.\u001b[0m\u001b[0mapply_along_axis\u001b[0m\u001b[0;34m(\u001b[0m\u001b[0mfunc1d\u001b[0m\u001b[0;34m,\u001b[0m \u001b[0maxis\u001b[0m\u001b[0;34m,\u001b[0m \u001b[0marr\u001b[0m\u001b[0;34m,\u001b[0m \u001b[0;34m*\u001b[0m\u001b[0margs\u001b[0m\u001b[0;34m,\u001b[0m \u001b[0;34m**\u001b[0m\u001b[0mkwargs\u001b[0m\u001b[0;34m)\u001b[0m\u001b[0;34m\u001b[0m\u001b[0;34m\u001b[0m\u001b[0m\n",
       "\u001b[0;31mDocstring:\u001b[0m\n",
       "Apply a function to 1-D slices along the given axis.\n",
       "\n",
       "Execute `func1d(a, *args, **kwargs)` where `func1d` operates on 1-D arrays\n",
       "and `a` is a 1-D slice of `arr` along `axis`.\n",
       "\n",
       "This is equivalent to (but faster than) the following use of `ndindex` and\n",
       "`s_`, which sets each of ``ii``, ``jj``, and ``kk`` to a tuple of indices::\n",
       "\n",
       "    Ni, Nk = a.shape[:axis], a.shape[axis+1:]\n",
       "    for ii in ndindex(Ni):\n",
       "        for kk in ndindex(Nk):\n",
       "            f = func1d(arr[ii + s_[:,] + kk])\n",
       "            Nj = f.shape\n",
       "            for jj in ndindex(Nj):\n",
       "                out[ii + jj + kk] = f[jj]\n",
       "\n",
       "Equivalently, eliminating the inner loop, this can be expressed as::\n",
       "\n",
       "    Ni, Nk = a.shape[:axis], a.shape[axis+1:]\n",
       "    for ii in ndindex(Ni):\n",
       "        for kk in ndindex(Nk):\n",
       "            out[ii + s_[...,] + kk] = func1d(arr[ii + s_[:,] + kk])\n",
       "\n",
       "Parameters\n",
       "----------\n",
       "func1d : function (M,) -> (Nj...)\n",
       "    This function should accept 1-D arrays. It is applied to 1-D\n",
       "    slices of `arr` along the specified axis.\n",
       "axis : integer\n",
       "    Axis along which `arr` is sliced.\n",
       "arr : ndarray (Ni..., M, Nk...)\n",
       "    Input array.\n",
       "args : any\n",
       "    Additional arguments to `func1d`.\n",
       "kwargs : any\n",
       "    Additional named arguments to `func1d`.\n",
       "\n",
       "    .. versionadded:: 1.9.0\n",
       "\n",
       "\n",
       "Returns\n",
       "-------\n",
       "out : ndarray  (Ni..., Nj..., Nk...)\n",
       "    The output array. The shape of `out` is identical to the shape of\n",
       "    `arr`, except along the `axis` dimension. This axis is removed, and\n",
       "    replaced with new dimensions equal to the shape of the return value\n",
       "    of `func1d`. So if `func1d` returns a scalar `out` will have one\n",
       "    fewer dimensions than `arr`.\n",
       "\n",
       "See Also\n",
       "--------\n",
       "apply_over_axes : Apply a function repeatedly over multiple axes.\n",
       "\n",
       "Examples\n",
       "--------\n",
       ">>> def my_func(a):\n",
       "...     \"\"\"Average first and last element of a 1-D array\"\"\"\n",
       "...     return (a[0] + a[-1]) * 0.5\n",
       ">>> b = np.array([[1,2,3], [4,5,6], [7,8,9]])\n",
       ">>> np.apply_along_axis(my_func, 0, b)\n",
       "array([4., 5., 6.])\n",
       ">>> np.apply_along_axis(my_func, 1, b)\n",
       "array([2.,  5.,  8.])\n",
       "\n",
       "For a function that returns a 1D array, the number of dimensions in\n",
       "`outarr` is the same as `arr`.\n",
       "\n",
       ">>> b = np.array([[8,1,7], [4,3,9], [5,2,6]])\n",
       ">>> np.apply_along_axis(sorted, 1, b)\n",
       "array([[1, 7, 8],\n",
       "       [3, 4, 9],\n",
       "       [2, 5, 6]])\n",
       "\n",
       "For a function that returns a higher dimensional array, those dimensions\n",
       "are inserted in place of the `axis` dimension.\n",
       "\n",
       ">>> b = np.array([[1,2,3], [4,5,6], [7,8,9]])\n",
       ">>> np.apply_along_axis(np.diag, -1, b)\n",
       "array([[[1, 0, 0],\n",
       "        [0, 2, 0],\n",
       "        [0, 0, 3]],\n",
       "       [[4, 0, 0],\n",
       "        [0, 5, 0],\n",
       "        [0, 0, 6]],\n",
       "       [[7, 0, 0],\n",
       "        [0, 8, 0],\n",
       "        [0, 0, 9]]])\n",
       "\u001b[0;31mFile:\u001b[0m      /usr/lib/python3/dist-packages/numpy/lib/shape_base.py\n",
       "\u001b[0;31mType:\u001b[0m      function\n"
      ]
     },
     "metadata": {},
     "output_type": "display_data"
    }
   ],
   "source": [
    "np.apply_along_axis?"
   ]
  },
  {
   "cell_type": "code",
   "execution_count": 209,
   "id": "sufficient-bones",
   "metadata": {},
   "outputs": [
    {
     "data": {
      "text/plain": [
       "array([[ 4,  5,  6],\n",
       "       [ 7,  8,  9],\n",
       "       [10, 11, 12]])"
      ]
     },
     "execution_count": 209,
     "metadata": {},
     "output_type": "execute_result"
    }
   ],
   "source": [
    "np.apply_along_axis(sorted,0,a)"
   ]
  },
  {
   "cell_type": "code",
   "execution_count": 210,
   "id": "blond-computer",
   "metadata": {},
   "outputs": [
    {
     "data": {
      "text/plain": [
       "array([[ 4,  5,  6],\n",
       "       [ 7,  8,  9],\n",
       "       [10, 11, 12]])"
      ]
     },
     "execution_count": 210,
     "metadata": {},
     "output_type": "execute_result"
    }
   ],
   "source": [
    "a"
   ]
  },
  {
   "cell_type": "code",
   "execution_count": 211,
   "id": "bottom-grass",
   "metadata": {},
   "outputs": [
    {
     "data": {
      "text/plain": [
       "array([ 4,  5,  6,  7,  8,  9, 10, 11, 12])"
      ]
     },
     "execution_count": 211,
     "metadata": {},
     "output_type": "execute_result"
    }
   ],
   "source": [
    "np.apply_along_axis(sorted,0,b)"
   ]
  },
  {
   "cell_type": "code",
   "execution_count": 212,
   "id": "orange-wheat",
   "metadata": {},
   "outputs": [
    {
     "data": {
      "text/plain": [
       "array([ 4,  5,  6,  7,  8,  9, 10, 11, 12])"
      ]
     },
     "execution_count": 212,
     "metadata": {},
     "output_type": "execute_result"
    }
   ],
   "source": [
    "b"
   ]
  },
  {
   "cell_type": "code",
   "execution_count": 213,
   "id": "chief-sherman",
   "metadata": {},
   "outputs": [
    {
     "data": {
      "text/plain": [
       "array([<reversed object at 0x7f84bb241970>,\n",
       "       <reversed object at 0x7f84bb241190>,\n",
       "       <reversed object at 0x7f84bb241550>], dtype=object)"
      ]
     },
     "execution_count": 213,
     "metadata": {},
     "output_type": "execute_result"
    }
   ],
   "source": [
    "np.apply_along_axis(reversed,0,a)"
   ]
  },
  {
   "cell_type": "code",
   "execution_count": 214,
   "id": "isolated-marketing",
   "metadata": {},
   "outputs": [
    {
     "data": {
      "text/plain": [
       "array(<reversed object at 0x7f84bb241790>, dtype=object)"
      ]
     },
     "execution_count": 214,
     "metadata": {},
     "output_type": "execute_result"
    }
   ],
   "source": [
    "np.apply_along_axis(reversed,0,b)"
   ]
  },
  {
   "cell_type": "code",
   "execution_count": 215,
   "id": "false-rates",
   "metadata": {},
   "outputs": [
    {
     "data": {
      "text/plain": [
       "[<reversed at 0x7f84bb241340>,\n",
       " <reversed at 0x7f84bb241c10>,\n",
       " <reversed at 0x7f84bb241ca0>]"
      ]
     },
     "execution_count": 215,
     "metadata": {},
     "output_type": "execute_result"
    }
   ],
   "source": [
    "list(np.apply_along_axis(reversed,0,a))"
   ]
  },
  {
   "cell_type": "code",
   "execution_count": 216,
   "id": "rural-state",
   "metadata": {},
   "outputs": [
    {
     "data": {
      "text/plain": [
       "array([[[ 4,  5,  6],\n",
       "        [ 0,  0,  0],\n",
       "        [ 0,  0,  0]],\n",
       "\n",
       "       [[ 0,  0,  0],\n",
       "        [ 7,  8,  9],\n",
       "        [ 0,  0,  0]],\n",
       "\n",
       "       [[ 0,  0,  0],\n",
       "        [ 0,  0,  0],\n",
       "        [10, 11, 12]]])"
      ]
     },
     "execution_count": 216,
     "metadata": {},
     "output_type": "execute_result"
    }
   ],
   "source": [
    "np.apply_along_axis(np.diag,0,a)"
   ]
  },
  {
   "cell_type": "code",
   "execution_count": 217,
   "id": "stylish-appointment",
   "metadata": {},
   "outputs": [
    {
     "data": {
      "text/plain": [
       "array([[ 4,  5,  6],\n",
       "       [ 7,  8,  9],\n",
       "       [10, 11, 12]])"
      ]
     },
     "execution_count": 217,
     "metadata": {},
     "output_type": "execute_result"
    }
   ],
   "source": [
    "a"
   ]
  },
  {
   "cell_type": "code",
   "execution_count": 218,
   "id": "bored-biodiversity",
   "metadata": {},
   "outputs": [
    {
     "data": {
      "text/plain": [
       "array([[[ 4,  0,  0],\n",
       "        [ 0,  5,  0],\n",
       "        [ 0,  0,  6]],\n",
       "\n",
       "       [[ 7,  0,  0],\n",
       "        [ 0,  8,  0],\n",
       "        [ 0,  0,  9]],\n",
       "\n",
       "       [[10,  0,  0],\n",
       "        [ 0, 11,  0],\n",
       "        [ 0,  0, 12]]])"
      ]
     },
     "execution_count": 218,
     "metadata": {},
     "output_type": "execute_result"
    }
   ],
   "source": [
    "np.apply_along_axis(np.diag,1,a)"
   ]
  },
  {
   "cell_type": "code",
   "execution_count": 222,
   "id": "expensive-building",
   "metadata": {},
   "outputs": [
    {
     "data": {
      "text/plain": [
       "array([ 5,  6,  7,  8,  9, 10, 11, 12, 13])"
      ]
     },
     "execution_count": 222,
     "metadata": {},
     "output_type": "execute_result"
    }
   ],
   "source": [
    "def MyIncr(a):\n",
    "    return a+1\n",
    "np.apply_along_axis(MyIncr,0,b)\n",
    "        "
   ]
  },
  {
   "cell_type": "code",
   "execution_count": 223,
   "id": "copyrighted-sessions",
   "metadata": {},
   "outputs": [
    {
     "data": {
      "text/plain": [
       "array([ 4,  5,  6,  7,  8,  9, 10, 11, 12])"
      ]
     },
     "execution_count": 223,
     "metadata": {},
     "output_type": "execute_result"
    }
   ],
   "source": [
    "b"
   ]
  },
  {
   "cell_type": "code",
   "execution_count": 224,
   "id": "atmospheric-measurement",
   "metadata": {},
   "outputs": [
    {
     "data": {
      "text/plain": [
       "array([[2. , 2.5, 3. ],\n",
       "       [3.5, 4. , 4.5],\n",
       "       [5. , 5.5, 6. ]])"
      ]
     },
     "execution_count": 224,
     "metadata": {},
     "output_type": "execute_result"
    }
   ],
   "source": [
    "def MyScaler(arr):\n",
    "    return 0.5*arr\n",
    "np.apply_along_axis(MyScaler,0,a)"
   ]
  },
  {
   "cell_type": "code",
   "execution_count": 225,
   "id": "native-pioneer",
   "metadata": {},
   "outputs": [
    {
     "data": {
      "text/plain": [
       "array([[ 4,  5,  6],\n",
       "       [ 7,  8,  9],\n",
       "       [10, 11, 12]])"
      ]
     },
     "execution_count": 225,
     "metadata": {},
     "output_type": "execute_result"
    }
   ],
   "source": [
    "a"
   ]
  },
  {
   "cell_type": "code",
   "execution_count": 2,
   "id": "extended-chuck",
   "metadata": {},
   "outputs": [],
   "source": [
    "a=[[1,4,5,3],[5,3,5,7]]"
   ]
  },
  {
   "cell_type": "code",
   "execution_count": 3,
   "id": "shared-uniform",
   "metadata": {},
   "outputs": [
    {
     "data": {
      "text/plain": [
       "list"
      ]
     },
     "execution_count": 3,
     "metadata": {},
     "output_type": "execute_result"
    }
   ],
   "source": [
    "type(a)"
   ]
  },
  {
   "cell_type": "code",
   "execution_count": 4,
   "id": "brown-trigger",
   "metadata": {},
   "outputs": [],
   "source": [
    "a=np.array(a,dtype='int32')"
   ]
  },
  {
   "cell_type": "code",
   "execution_count": 5,
   "id": "final-remains",
   "metadata": {},
   "outputs": [
    {
     "data": {
      "text/plain": [
       "array([[1, 4, 5, 3],\n",
       "       [5, 3, 5, 7]], dtype=int32)"
      ]
     },
     "execution_count": 5,
     "metadata": {},
     "output_type": "execute_result"
    }
   ],
   "source": [
    "a"
   ]
  },
  {
   "cell_type": "code",
   "execution_count": 6,
   "id": "defined-scroll",
   "metadata": {},
   "outputs": [
    {
     "data": {
      "text/plain": [
       "2"
      ]
     },
     "execution_count": 6,
     "metadata": {},
     "output_type": "execute_result"
    }
   ],
   "source": [
    "a.ndim"
   ]
  },
  {
   "cell_type": "code",
   "execution_count": 7,
   "id": "continuing-bedroom",
   "metadata": {},
   "outputs": [
    {
     "data": {
      "text/plain": [
       "8"
      ]
     },
     "execution_count": 7,
     "metadata": {},
     "output_type": "execute_result"
    }
   ],
   "source": [
    "a.size"
   ]
  },
  {
   "cell_type": "code",
   "execution_count": 8,
   "id": "rubber-minute",
   "metadata": {},
   "outputs": [
    {
     "data": {
      "text/plain": [
       "4"
      ]
     },
     "execution_count": 8,
     "metadata": {},
     "output_type": "execute_result"
    }
   ],
   "source": [
    "a.itemsize"
   ]
  },
  {
   "cell_type": "code",
   "execution_count": 9,
   "id": "nervous-badge",
   "metadata": {},
   "outputs": [
    {
     "data": {
      "text/plain": [
       "(2, 4)"
      ]
     },
     "execution_count": 9,
     "metadata": {},
     "output_type": "execute_result"
    }
   ],
   "source": [
    "a.shape"
   ]
  },
  {
   "cell_type": "code",
   "execution_count": 10,
   "id": "binary-devil",
   "metadata": {},
   "outputs": [
    {
     "data": {
      "text/plain": [
       "array([[False, False,  True, False],\n",
       "       [ True, False,  True,  True]])"
      ]
     },
     "execution_count": 10,
     "metadata": {},
     "output_type": "execute_result"
    }
   ],
   "source": [
    "a>4"
   ]
  },
  {
   "cell_type": "code",
   "execution_count": 11,
   "id": "headed-acting",
   "metadata": {},
   "outputs": [
    {
     "data": {
      "text/plain": [
       "array([5, 5, 5, 7], dtype=int32)"
      ]
     },
     "execution_count": 11,
     "metadata": {},
     "output_type": "execute_result"
    }
   ],
   "source": [
    "a[a>4]"
   ]
  },
  {
   "cell_type": "code",
   "execution_count": 12,
   "id": "competitive-fraud",
   "metadata": {},
   "outputs": [
    {
     "data": {
      "text/plain": [
       "array([[1, 4, 5, 3],\n",
       "       [5, 3, 5, 7]], dtype=int32)"
      ]
     },
     "execution_count": 12,
     "metadata": {},
     "output_type": "execute_result"
    }
   ],
   "source": [
    "a"
   ]
  },
  {
   "cell_type": "code",
   "execution_count": 13,
   "id": "offshore-fashion",
   "metadata": {},
   "outputs": [
    {
     "data": {
      "text/plain": [
       "array([1, 4, 3, 3], dtype=int32)"
      ]
     },
     "execution_count": 13,
     "metadata": {},
     "output_type": "execute_result"
    }
   ],
   "source": [
    "a[a<4.5]"
   ]
  },
  {
   "cell_type": "code",
   "execution_count": 14,
   "id": "clear-chamber",
   "metadata": {},
   "outputs": [
    {
     "data": {
      "text/plain": [
       "array([[1, 5],\n",
       "       [4, 3],\n",
       "       [5, 5],\n",
       "       [3, 7]], dtype=int32)"
      ]
     },
     "execution_count": 14,
     "metadata": {},
     "output_type": "execute_result"
    }
   ],
   "source": [
    "a.T"
   ]
  },
  {
   "cell_type": "code",
   "execution_count": 15,
   "id": "broadband-belle",
   "metadata": {},
   "outputs": [
    {
     "data": {
      "text/plain": [
       "array([[1, 4, 5, 3],\n",
       "       [5, 3, 5, 7]], dtype=int32)"
      ]
     },
     "execution_count": 15,
     "metadata": {},
     "output_type": "execute_result"
    }
   ],
   "source": [
    "a"
   ]
  },
  {
   "cell_type": "code",
   "execution_count": 16,
   "id": "specialized-newton",
   "metadata": {},
   "outputs": [
    {
     "data": {
      "text/plain": [
       "array([[1, 5],\n",
       "       [4, 3],\n",
       "       [5, 5],\n",
       "       [3, 7]], dtype=int32)"
      ]
     },
     "execution_count": 16,
     "metadata": {},
     "output_type": "execute_result"
    }
   ],
   "source": [
    "a.transpose()"
   ]
  },
  {
   "cell_type": "code",
   "execution_count": 17,
   "id": "prime-cuisine",
   "metadata": {},
   "outputs": [],
   "source": [
    "a.dtype='float32'"
   ]
  },
  {
   "cell_type": "code",
   "execution_count": 18,
   "id": "biblical-cheese",
   "metadata": {},
   "outputs": [
    {
     "data": {
      "text/plain": [
       "array([[1.e-45, 6.e-45, 7.e-45, 4.e-45],\n",
       "       [7.e-45, 4.e-45, 7.e-45, 1.e-44]], dtype=float32)"
      ]
     },
     "execution_count": 18,
     "metadata": {},
     "output_type": "execute_result"
    }
   ],
   "source": [
    "a"
   ]
  },
  {
   "cell_type": "code",
   "execution_count": 19,
   "id": "portuguese-medication",
   "metadata": {},
   "outputs": [],
   "source": [
    "a.dtype='int64'"
   ]
  },
  {
   "cell_type": "code",
   "execution_count": 20,
   "id": "previous-immunology",
   "metadata": {},
   "outputs": [
    {
     "data": {
      "text/plain": [
       "array([[17179869185, 12884901893],\n",
       "       [12884901893, 30064771077]])"
      ]
     },
     "execution_count": 20,
     "metadata": {},
     "output_type": "execute_result"
    }
   ],
   "source": [
    "a"
   ]
  },
  {
   "cell_type": "code",
   "execution_count": 21,
   "id": "substantial-franchise",
   "metadata": {},
   "outputs": [],
   "source": [
    "a.dtype='int32'"
   ]
  },
  {
   "cell_type": "code",
   "execution_count": 22,
   "id": "physical-blowing",
   "metadata": {},
   "outputs": [
    {
     "data": {
      "text/plain": [
       "array([[1, 4, 5, 3],\n",
       "       [5, 3, 5, 7]], dtype=int32)"
      ]
     },
     "execution_count": 22,
     "metadata": {},
     "output_type": "execute_result"
    }
   ],
   "source": [
    "a"
   ]
  },
  {
   "cell_type": "code",
   "execution_count": 23,
   "id": "chinese-lexington",
   "metadata": {},
   "outputs": [
    {
     "data": {
      "text/plain": [
       "array([[1, 4, 5, 3],\n",
       "       [5, 3, 5, 7]], dtype=int32)"
      ]
     },
     "execution_count": 23,
     "metadata": {},
     "output_type": "execute_result"
    }
   ],
   "source": [
    "a"
   ]
  },
  {
   "cell_type": "code",
   "execution_count": 24,
   "id": "automated-horizon",
   "metadata": {},
   "outputs": [],
   "source": [
    "b=np.linspace(12,24,8,dtype='int32').reshape(2,4)"
   ]
  },
  {
   "cell_type": "code",
   "execution_count": 25,
   "id": "cubic-education",
   "metadata": {},
   "outputs": [
    {
     "data": {
      "text/plain": [
       "array([[12, 13, 15, 17],\n",
       "       [18, 20, 22, 24]], dtype=int32)"
      ]
     },
     "execution_count": 25,
     "metadata": {},
     "output_type": "execute_result"
    }
   ],
   "source": [
    "b"
   ]
  },
  {
   "cell_type": "code",
   "execution_count": 26,
   "id": "exclusive-guard",
   "metadata": {},
   "outputs": [
    {
     "data": {
      "text/plain": [
       "array([[ 1,  4,  5,  3],\n",
       "       [ 5,  3,  5,  7],\n",
       "       [12, 13, 15, 17],\n",
       "       [18, 20, 22, 24]], dtype=int32)"
      ]
     },
     "execution_count": 26,
     "metadata": {},
     "output_type": "execute_result"
    }
   ],
   "source": [
    "np.vstack((a,b))"
   ]
  },
  {
   "cell_type": "code",
   "execution_count": 27,
   "id": "coastal-tanzania",
   "metadata": {},
   "outputs": [
    {
     "ename": "TypeError",
     "evalue": "_vhstack_dispatcher() takes 1 positional argument but 2 were given",
     "output_type": "error",
     "traceback": [
      "\u001b[0;31m---------------------------------------------------------------------------\u001b[0m",
      "\u001b[0;31mTypeError\u001b[0m                                 Traceback (most recent call last)",
      "\u001b[0;32m<ipython-input-27-d7b4debfa704>\u001b[0m in \u001b[0;36m<module>\u001b[0;34m\u001b[0m\n\u001b[0;32m----> 1\u001b[0;31m \u001b[0mnp\u001b[0m\u001b[0;34m.\u001b[0m\u001b[0mvstack\u001b[0m\u001b[0;34m(\u001b[0m\u001b[0mb\u001b[0m\u001b[0;34m,\u001b[0m\u001b[0ma\u001b[0m\u001b[0;34m)\u001b[0m\u001b[0;34m\u001b[0m\u001b[0;34m\u001b[0m\u001b[0m\n\u001b[0m",
      "\u001b[0;32m<__array_function__ internals>\u001b[0m in \u001b[0;36mvstack\u001b[0;34m(*args, **kwargs)\u001b[0m\n",
      "\u001b[0;31mTypeError\u001b[0m: _vhstack_dispatcher() takes 1 positional argument but 2 were given"
     ]
    }
   ],
   "source": [
    "np.vstack(b,a)"
   ]
  },
  {
   "cell_type": "code",
   "execution_count": 28,
   "id": "requested-religious",
   "metadata": {},
   "outputs": [
    {
     "data": {
      "text/plain": [
       "array([[12, 13, 15, 17],\n",
       "       [18, 20, 22, 24],\n",
       "       [ 1,  4,  5,  3],\n",
       "       [ 5,  3,  5,  7]], dtype=int32)"
      ]
     },
     "execution_count": 28,
     "metadata": {},
     "output_type": "execute_result"
    }
   ],
   "source": [
    "np.vstack((b,a))"
   ]
  },
  {
   "cell_type": "code",
   "execution_count": 29,
   "id": "greenhouse-rally",
   "metadata": {},
   "outputs": [
    {
     "data": {
      "text/plain": [
       "[array([[False,  True,  True,  True],\n",
       "        [ True,  True,  True,  True],\n",
       "        [False, False, False, False],\n",
       "        [False, False, False, False]])]"
      ]
     },
     "execution_count": 29,
     "metadata": {},
     "output_type": "execute_result"
    }
   ],
   "source": [
    "[np.vstack((b,a))>12]"
   ]
  },
  {
   "cell_type": "code",
   "execution_count": 30,
   "id": "cellular-hudson",
   "metadata": {},
   "outputs": [
    {
     "ename": "TypeError",
     "evalue": "only integer scalar arrays can be converted to a scalar index",
     "output_type": "error",
     "traceback": [
      "\u001b[0;31m---------------------------------------------------------------------------\u001b[0m",
      "\u001b[0;31mTypeError\u001b[0m                                 Traceback (most recent call last)",
      "\u001b[0;32m<ipython-input-30-e7bc96bdb9ea>\u001b[0m in \u001b[0;36m<module>\u001b[0;34m\u001b[0m\n\u001b[0;32m----> 1\u001b[0;31m \u001b[0;34m(\u001b[0m\u001b[0mb\u001b[0m\u001b[0;34m,\u001b[0m\u001b[0ma\u001b[0m\u001b[0;34m)\u001b[0m\u001b[0;34m[\u001b[0m\u001b[0mnp\u001b[0m\u001b[0;34m.\u001b[0m\u001b[0mvstack\u001b[0m\u001b[0;34m(\u001b[0m\u001b[0;34m(\u001b[0m\u001b[0mb\u001b[0m\u001b[0;34m,\u001b[0m\u001b[0ma\u001b[0m\u001b[0;34m)\u001b[0m\u001b[0;34m)\u001b[0m\u001b[0;34m>\u001b[0m\u001b[0;36m12\u001b[0m\u001b[0;34m]\u001b[0m\u001b[0;34m\u001b[0m\u001b[0;34m\u001b[0m\u001b[0m\n\u001b[0m",
      "\u001b[0;31mTypeError\u001b[0m: only integer scalar arrays can be converted to a scalar index"
     ]
    }
   ],
   "source": [
    "(b,a)[np.vstack((b,a))>12]"
   ]
  },
  {
   "cell_type": "code",
   "execution_count": 31,
   "id": "junior-mouse",
   "metadata": {},
   "outputs": [
    {
     "ename": "TypeError",
     "evalue": "only integer scalar arrays can be converted to a scalar index",
     "output_type": "error",
     "traceback": [
      "\u001b[0;31m---------------------------------------------------------------------------\u001b[0m",
      "\u001b[0;31mTypeError\u001b[0m                                 Traceback (most recent call last)",
      "\u001b[0;32m<ipython-input-31-552aa8bbc265>\u001b[0m in \u001b[0;36m<module>\u001b[0;34m\u001b[0m\n\u001b[0;32m----> 1\u001b[0;31m \u001b[0;34m[\u001b[0m\u001b[0mb\u001b[0m\u001b[0;34m,\u001b[0m\u001b[0ma\u001b[0m\u001b[0;34m]\u001b[0m\u001b[0;34m[\u001b[0m\u001b[0mnp\u001b[0m\u001b[0;34m.\u001b[0m\u001b[0mvstack\u001b[0m\u001b[0;34m(\u001b[0m\u001b[0;34m(\u001b[0m\u001b[0mb\u001b[0m\u001b[0;34m,\u001b[0m\u001b[0ma\u001b[0m\u001b[0;34m)\u001b[0m\u001b[0;34m)\u001b[0m\u001b[0;34m>\u001b[0m\u001b[0;36m12\u001b[0m\u001b[0;34m]\u001b[0m\u001b[0;34m\u001b[0m\u001b[0;34m\u001b[0m\u001b[0m\n\u001b[0m",
      "\u001b[0;31mTypeError\u001b[0m: only integer scalar arrays can be converted to a scalar index"
     ]
    }
   ],
   "source": [
    "[b,a][np.vstack((b,a))>12]"
   ]
  },
  {
   "cell_type": "code",
   "execution_count": 32,
   "id": "smaller-visit",
   "metadata": {},
   "outputs": [
    {
     "ename": "TypeError",
     "evalue": "only integer scalar arrays can be converted to a scalar index",
     "output_type": "error",
     "traceback": [
      "\u001b[0;31m---------------------------------------------------------------------------\u001b[0m",
      "\u001b[0;31mTypeError\u001b[0m                                 Traceback (most recent call last)",
      "\u001b[0;32m<ipython-input-32-51bd7bfb564d>\u001b[0m in \u001b[0;36m<module>\u001b[0;34m\u001b[0m\n\u001b[0;32m----> 1\u001b[0;31m \u001b[0;34m(\u001b[0m\u001b[0;34m(\u001b[0m\u001b[0mb\u001b[0m\u001b[0;34m,\u001b[0m\u001b[0ma\u001b[0m\u001b[0;34m)\u001b[0m\u001b[0;34m)\u001b[0m\u001b[0;34m[\u001b[0m\u001b[0mnp\u001b[0m\u001b[0;34m.\u001b[0m\u001b[0mvstack\u001b[0m\u001b[0;34m(\u001b[0m\u001b[0;34m(\u001b[0m\u001b[0mb\u001b[0m\u001b[0;34m,\u001b[0m\u001b[0ma\u001b[0m\u001b[0;34m)\u001b[0m\u001b[0;34m)\u001b[0m\u001b[0;34m>\u001b[0m\u001b[0;36m12\u001b[0m\u001b[0;34m]\u001b[0m\u001b[0;34m\u001b[0m\u001b[0;34m\u001b[0m\u001b[0m\n\u001b[0m",
      "\u001b[0;31mTypeError\u001b[0m: only integer scalar arrays can be converted to a scalar index"
     ]
    }
   ],
   "source": [
    "((b,a))[np.vstack((b,a))>12]"
   ]
  },
  {
   "cell_type": "code",
   "execution_count": 33,
   "id": "small-freeze",
   "metadata": {},
   "outputs": [
    {
     "data": {
      "text/plain": [
       "array([[1, 4, 5, 3],\n",
       "       [5, 3, 5, 7]], dtype=int32)"
      ]
     },
     "execution_count": 33,
     "metadata": {},
     "output_type": "execute_result"
    }
   ],
   "source": [
    "a"
   ]
  },
  {
   "cell_type": "code",
   "execution_count": 34,
   "id": "extraordinary-voltage",
   "metadata": {},
   "outputs": [
    {
     "data": {
      "text/plain": [
       "array([[12, 13, 15, 17],\n",
       "       [18, 20, 22, 24]], dtype=int32)"
      ]
     },
     "execution_count": 34,
     "metadata": {},
     "output_type": "execute_result"
    }
   ],
   "source": [
    "b"
   ]
  },
  {
   "cell_type": "code",
   "execution_count": 35,
   "id": "occupied-witch",
   "metadata": {},
   "outputs": [
    {
     "data": {
      "text/plain": [
       "array([[ 1,  4,  5,  3, 12, 13, 15, 17],\n",
       "       [ 5,  3,  5,  7, 18, 20, 22, 24]], dtype=int32)"
      ]
     },
     "execution_count": 35,
     "metadata": {},
     "output_type": "execute_result"
    }
   ],
   "source": [
    "np.hstack((a,b))"
   ]
  },
  {
   "cell_type": "code",
   "execution_count": 36,
   "id": "simple-xerox",
   "metadata": {},
   "outputs": [
    {
     "data": {
      "text/plain": [
       "array([[12, 13, 15, 17,  1,  4,  5,  3],\n",
       "       [18, 20, 22, 24,  5,  3,  5,  7]], dtype=int32)"
      ]
     },
     "execution_count": 36,
     "metadata": {},
     "output_type": "execute_result"
    }
   ],
   "source": [
    "np.hstack((b,a))"
   ]
  },
  {
   "cell_type": "code",
   "execution_count": 37,
   "id": "broadband-conservation",
   "metadata": {},
   "outputs": [
    {
     "data": {
      "text/plain": [
       "\u001b[0;31mSignature:\u001b[0m \u001b[0mnp\u001b[0m\u001b[0;34m.\u001b[0m\u001b[0mhstack\u001b[0m\u001b[0;34m(\u001b[0m\u001b[0mtup\u001b[0m\u001b[0;34m)\u001b[0m\u001b[0;34m\u001b[0m\u001b[0;34m\u001b[0m\u001b[0m\n",
       "\u001b[0;31mDocstring:\u001b[0m\n",
       "Stack arrays in sequence horizontally (column wise).\n",
       "\n",
       "This is equivalent to concatenation along the second axis, except for 1-D\n",
       "arrays where it concatenates along the first axis. Rebuilds arrays divided\n",
       "by `hsplit`.\n",
       "\n",
       "This function makes most sense for arrays with up to 3 dimensions. For\n",
       "instance, for pixel-data with a height (first axis), width (second axis),\n",
       "and r/g/b channels (third axis). The functions `concatenate`, `stack` and\n",
       "`block` provide more general stacking and concatenation operations.\n",
       "\n",
       "Parameters\n",
       "----------\n",
       "tup : sequence of ndarrays\n",
       "    The arrays must have the same shape along all but the second axis,\n",
       "    except 1-D arrays which can be any length.\n",
       "\n",
       "Returns\n",
       "-------\n",
       "stacked : ndarray\n",
       "    The array formed by stacking the given arrays.\n",
       "\n",
       "See Also\n",
       "--------\n",
       "concatenate : Join a sequence of arrays along an existing axis.\n",
       "stack : Join a sequence of arrays along a new axis.\n",
       "block : Assemble an nd-array from nested lists of blocks.\n",
       "vstack : Stack arrays in sequence vertically (row wise).\n",
       "dstack : Stack arrays in sequence depth wise (along third axis).\n",
       "column_stack : Stack 1-D arrays as columns into a 2-D array.\n",
       "hsplit : Split an array into multiple sub-arrays horizontally (column-wise).\n",
       "\n",
       "Examples\n",
       "--------\n",
       ">>> a = np.array((1,2,3))\n",
       ">>> b = np.array((2,3,4))\n",
       ">>> np.hstack((a,b))\n",
       "array([1, 2, 3, 2, 3, 4])\n",
       ">>> a = np.array([[1],[2],[3]])\n",
       ">>> b = np.array([[2],[3],[4]])\n",
       ">>> np.hstack((a,b))\n",
       "array([[1, 2],\n",
       "       [2, 3],\n",
       "       [3, 4]])\n",
       "\u001b[0;31mFile:\u001b[0m      /usr/lib/python3/dist-packages/numpy/core/shape_base.py\n",
       "\u001b[0;31mType:\u001b[0m      function\n"
      ]
     },
     "metadata": {},
     "output_type": "display_data"
    }
   ],
   "source": [
    "np.hstack?"
   ]
  },
  {
   "cell_type": "code",
   "execution_count": 38,
   "id": "confirmed-philosophy",
   "metadata": {},
   "outputs": [
    {
     "data": {
      "text/plain": [
       "array([[12, 13, 15, 17,  1,  4,  5,  3],\n",
       "       [18, 20, 22, 24,  5,  3,  5,  7]], dtype=int32)"
      ]
     },
     "execution_count": 38,
     "metadata": {},
     "output_type": "execute_result"
    }
   ],
   "source": [
    "np.hstack((b,a))"
   ]
  },
  {
   "cell_type": "code",
   "execution_count": 39,
   "id": "searching-chemistry",
   "metadata": {},
   "outputs": [
    {
     "data": {
      "text/plain": [
       "\u001b[0;31mSignature:\u001b[0m \u001b[0mnp\u001b[0m\u001b[0;34m.\u001b[0m\u001b[0mcolumn_stack\u001b[0m\u001b[0;34m(\u001b[0m\u001b[0mtup\u001b[0m\u001b[0;34m)\u001b[0m\u001b[0;34m\u001b[0m\u001b[0;34m\u001b[0m\u001b[0m\n",
       "\u001b[0;31mDocstring:\u001b[0m\n",
       "Stack 1-D arrays as columns into a 2-D array.\n",
       "\n",
       "Take a sequence of 1-D arrays and stack them as columns\n",
       "to make a single 2-D array. 2-D arrays are stacked as-is,\n",
       "just like with `hstack`.  1-D arrays are turned into 2-D columns\n",
       "first.\n",
       "\n",
       "Parameters\n",
       "----------\n",
       "tup : sequence of 1-D or 2-D arrays.\n",
       "    Arrays to stack. All of them must have the same first dimension.\n",
       "\n",
       "Returns\n",
       "-------\n",
       "stacked : 2-D array\n",
       "    The array formed by stacking the given arrays.\n",
       "\n",
       "See Also\n",
       "--------\n",
       "stack, hstack, vstack, concatenate\n",
       "\n",
       "Examples\n",
       "--------\n",
       ">>> a = np.array((1,2,3))\n",
       ">>> b = np.array((2,3,4))\n",
       ">>> np.column_stack((a,b))\n",
       "array([[1, 2],\n",
       "       [2, 3],\n",
       "       [3, 4]])\n",
       "\u001b[0;31mFile:\u001b[0m      /usr/lib/python3/dist-packages/numpy/lib/shape_base.py\n",
       "\u001b[0;31mType:\u001b[0m      function\n"
      ]
     },
     "metadata": {},
     "output_type": "display_data"
    }
   ],
   "source": [
    "np.column_stack?"
   ]
  },
  {
   "cell_type": "code",
   "execution_count": 40,
   "id": "former-buddy",
   "metadata": {},
   "outputs": [
    {
     "data": {
      "text/plain": [
       "\u001b[0;31mSignature:\u001b[0m \u001b[0mnp\u001b[0m\u001b[0;34m.\u001b[0m\u001b[0mstack\u001b[0m\u001b[0;34m(\u001b[0m\u001b[0marrays\u001b[0m\u001b[0;34m,\u001b[0m \u001b[0maxis\u001b[0m\u001b[0;34m=\u001b[0m\u001b[0;36m0\u001b[0m\u001b[0;34m,\u001b[0m \u001b[0mout\u001b[0m\u001b[0;34m=\u001b[0m\u001b[0;32mNone\u001b[0m\u001b[0;34m)\u001b[0m\u001b[0;34m\u001b[0m\u001b[0;34m\u001b[0m\u001b[0m\n",
       "\u001b[0;31mDocstring:\u001b[0m\n",
       "Join a sequence of arrays along a new axis.\n",
       "\n",
       "The ``axis`` parameter specifies the index of the new axis in the\n",
       "dimensions of the result. For example, if ``axis=0`` it will be the first\n",
       "dimension and if ``axis=-1`` it will be the last dimension.\n",
       "\n",
       ".. versionadded:: 1.10.0\n",
       "\n",
       "Parameters\n",
       "----------\n",
       "arrays : sequence of array_like\n",
       "    Each array must have the same shape.\n",
       "\n",
       "axis : int, optional\n",
       "    The axis in the result array along which the input arrays are stacked.\n",
       "\n",
       "out : ndarray, optional\n",
       "    If provided, the destination to place the result. The shape must be\n",
       "    correct, matching that of what stack would have returned if no\n",
       "    out argument were specified.\n",
       "\n",
       "Returns\n",
       "-------\n",
       "stacked : ndarray\n",
       "    The stacked array has one more dimension than the input arrays.\n",
       "\n",
       "See Also\n",
       "--------\n",
       "concatenate : Join a sequence of arrays along an existing axis.\n",
       "block : Assemble an nd-array from nested lists of blocks.\n",
       "split : Split array into a list of multiple sub-arrays of equal size.\n",
       "\n",
       "Examples\n",
       "--------\n",
       ">>> arrays = [np.random.randn(3, 4) for _ in range(10)]\n",
       ">>> np.stack(arrays, axis=0).shape\n",
       "(10, 3, 4)\n",
       "\n",
       ">>> np.stack(arrays, axis=1).shape\n",
       "(3, 10, 4)\n",
       "\n",
       ">>> np.stack(arrays, axis=2).shape\n",
       "(3, 4, 10)\n",
       "\n",
       ">>> a = np.array([1, 2, 3])\n",
       ">>> b = np.array([2, 3, 4])\n",
       ">>> np.stack((a, b))\n",
       "array([[1, 2, 3],\n",
       "       [2, 3, 4]])\n",
       "\n",
       ">>> np.stack((a, b), axis=-1)\n",
       "array([[1, 2],\n",
       "       [2, 3],\n",
       "       [3, 4]])\n",
       "\u001b[0;31mFile:\u001b[0m      /usr/lib/python3/dist-packages/numpy/core/shape_base.py\n",
       "\u001b[0;31mType:\u001b[0m      function\n"
      ]
     },
     "metadata": {},
     "output_type": "display_data"
    }
   ],
   "source": [
    "np.stack?"
   ]
  },
  {
   "cell_type": "code",
   "execution_count": 41,
   "id": "aquatic-craft",
   "metadata": {},
   "outputs": [],
   "source": [
    "a,b,c=np.linspace(4,5,5),np.linspace(5,6,5),np.linspace(9,5,5)"
   ]
  },
  {
   "cell_type": "code",
   "execution_count": 42,
   "id": "informational-construction",
   "metadata": {},
   "outputs": [
    {
     "data": {
      "text/plain": [
       "array([4.  , 4.25, 4.5 , 4.75, 5.  ])"
      ]
     },
     "execution_count": 42,
     "metadata": {},
     "output_type": "execute_result"
    }
   ],
   "source": [
    "a"
   ]
  },
  {
   "cell_type": "code",
   "execution_count": 43,
   "id": "upset-ordinary",
   "metadata": {},
   "outputs": [
    {
     "data": {
      "text/plain": [
       "array([5.  , 5.25, 5.5 , 5.75, 6.  ])"
      ]
     },
     "execution_count": 43,
     "metadata": {},
     "output_type": "execute_result"
    }
   ],
   "source": [
    "b"
   ]
  },
  {
   "cell_type": "code",
   "execution_count": 44,
   "id": "japanese-texas",
   "metadata": {},
   "outputs": [
    {
     "data": {
      "text/plain": [
       "array([9., 8., 7., 6., 5.])"
      ]
     },
     "execution_count": 44,
     "metadata": {},
     "output_type": "execute_result"
    }
   ],
   "source": [
    "c"
   ]
  },
  {
   "cell_type": "code",
   "execution_count": 45,
   "id": "technological-seeking",
   "metadata": {},
   "outputs": [
    {
     "ename": "TypeError",
     "evalue": "_column_stack_dispatcher() takes 1 positional argument but 3 were given",
     "output_type": "error",
     "traceback": [
      "\u001b[0;31m---------------------------------------------------------------------------\u001b[0m",
      "\u001b[0;31mTypeError\u001b[0m                                 Traceback (most recent call last)",
      "\u001b[0;32m<ipython-input-45-a020100409c4>\u001b[0m in \u001b[0;36m<module>\u001b[0;34m\u001b[0m\n\u001b[0;32m----> 1\u001b[0;31m \u001b[0mnp\u001b[0m\u001b[0;34m.\u001b[0m\u001b[0mcolumn_stack\u001b[0m\u001b[0;34m(\u001b[0m\u001b[0ma\u001b[0m\u001b[0;34m,\u001b[0m\u001b[0mb\u001b[0m\u001b[0;34m,\u001b[0m\u001b[0mc\u001b[0m\u001b[0;34m)\u001b[0m\u001b[0;34m\u001b[0m\u001b[0;34m\u001b[0m\u001b[0m\n\u001b[0m",
      "\u001b[0;32m<__array_function__ internals>\u001b[0m in \u001b[0;36mcolumn_stack\u001b[0;34m(*args, **kwargs)\u001b[0m\n",
      "\u001b[0;31mTypeError\u001b[0m: _column_stack_dispatcher() takes 1 positional argument but 3 were given"
     ]
    }
   ],
   "source": [
    "np.column_stack(a,b,c)"
   ]
  },
  {
   "cell_type": "code",
   "execution_count": 48,
   "id": "arranged-judges",
   "metadata": {},
   "outputs": [
    {
     "data": {
      "text/plain": [
       "array([[4.  , 5.  , 9.  ],\n",
       "       [4.25, 5.25, 8.  ],\n",
       "       [4.5 , 5.5 , 7.  ],\n",
       "       [4.75, 5.75, 6.  ],\n",
       "       [5.  , 6.  , 5.  ]])"
      ]
     },
     "execution_count": 48,
     "metadata": {},
     "output_type": "execute_result"
    }
   ],
   "source": [
    "np.column_stack((a,b,c))"
   ]
  },
  {
   "cell_type": "code",
   "execution_count": 51,
   "id": "prospective-devil",
   "metadata": {},
   "outputs": [],
   "source": [
    "x=np.arange(20,40,2).reshape(2,5)"
   ]
  },
  {
   "cell_type": "code",
   "execution_count": 52,
   "id": "advisory-easter",
   "metadata": {},
   "outputs": [
    {
     "data": {
      "text/plain": [
       "array([[20, 22, 24, 26, 28],\n",
       "       [30, 32, 34, 36, 38]])"
      ]
     },
     "execution_count": 52,
     "metadata": {},
     "output_type": "execute_result"
    }
   ],
   "source": [
    "x"
   ]
  },
  {
   "cell_type": "code",
   "execution_count": 55,
   "id": "entitled-curve",
   "metadata": {},
   "outputs": [
    {
     "data": {
      "text/plain": [
       "array([[ 4.  , 20.  , 30.  ],\n",
       "       [ 4.25, 22.  , 32.  ],\n",
       "       [ 4.5 , 24.  , 34.  ],\n",
       "       [ 4.75, 26.  , 36.  ],\n",
       "       [ 5.  , 28.  , 38.  ]])"
      ]
     },
     "execution_count": 55,
     "metadata": {},
     "output_type": "execute_result"
    }
   ],
   "source": [
    "np.column_stack((a,x[0],x[1]))"
   ]
  },
  {
   "cell_type": "code",
   "execution_count": 56,
   "id": "endless-monte",
   "metadata": {},
   "outputs": [
    {
     "data": {
      "text/plain": [
       "array([[4.  , 4.25, 4.5 , 4.75, 5.  ],\n",
       "       [5.  , 5.25, 5.5 , 5.75, 6.  ],\n",
       "       [9.  , 8.  , 7.  , 6.  , 5.  ]])"
      ]
     },
     "execution_count": 56,
     "metadata": {},
     "output_type": "execute_result"
    }
   ],
   "source": [
    "np.row_stack((a,b,c))"
   ]
  },
  {
   "cell_type": "code",
   "execution_count": 57,
   "id": "provincial-insulin",
   "metadata": {},
   "outputs": [
    {
     "data": {
      "text/plain": [
       "array([[ 5.  ,  5.25,  5.5 ,  5.75,  6.  ],\n",
       "       [20.  , 22.  , 24.  , 26.  , 28.  ]])"
      ]
     },
     "execution_count": 57,
     "metadata": {},
     "output_type": "execute_result"
    }
   ],
   "source": [
    "np.row_stack((b,x[0]))"
   ]
  },
  {
   "cell_type": "code",
   "execution_count": 58,
   "id": "acute-paintball",
   "metadata": {},
   "outputs": [
    {
     "data": {
      "text/plain": [
       "\u001b[0;31mSignature:\u001b[0m \u001b[0mnp\u001b[0m\u001b[0;34m.\u001b[0m\u001b[0mhsplit\u001b[0m\u001b[0;34m(\u001b[0m\u001b[0mary\u001b[0m\u001b[0;34m,\u001b[0m \u001b[0mindices_or_sections\u001b[0m\u001b[0;34m)\u001b[0m\u001b[0;34m\u001b[0m\u001b[0;34m\u001b[0m\u001b[0m\n",
       "\u001b[0;31mDocstring:\u001b[0m\n",
       "Split an array into multiple sub-arrays horizontally (column-wise).\n",
       "\n",
       "Please refer to the `split` documentation.  `hsplit` is equivalent\n",
       "to `split` with ``axis=1``, the array is always split along the second\n",
       "axis regardless of the array dimension.\n",
       "\n",
       "See Also\n",
       "--------\n",
       "split : Split an array into multiple sub-arrays of equal size.\n",
       "\n",
       "Examples\n",
       "--------\n",
       ">>> x = np.arange(16.0).reshape(4, 4)\n",
       ">>> x\n",
       "array([[ 0.,   1.,   2.,   3.],\n",
       "       [ 4.,   5.,   6.,   7.],\n",
       "       [ 8.,   9.,  10.,  11.],\n",
       "       [12.,  13.,  14.,  15.]])\n",
       ">>> np.hsplit(x, 2)\n",
       "[array([[  0.,   1.],\n",
       "       [  4.,   5.],\n",
       "       [  8.,   9.],\n",
       "       [12.,  13.]]),\n",
       " array([[  2.,   3.],\n",
       "       [  6.,   7.],\n",
       "       [10.,  11.],\n",
       "       [14.,  15.]])]\n",
       ">>> np.hsplit(x, np.array([3, 6]))\n",
       "[array([[ 0.,   1.,   2.],\n",
       "       [ 4.,   5.,   6.],\n",
       "       [ 8.,   9.,  10.],\n",
       "       [12.,  13.,  14.]]),\n",
       " array([[ 3.],\n",
       "       [ 7.],\n",
       "       [11.],\n",
       "       [15.]]),\n",
       " array([], shape=(4, 0), dtype=float64)]\n",
       "\n",
       "With a higher dimensional array the split is still along the second axis.\n",
       "\n",
       ">>> x = np.arange(8.0).reshape(2, 2, 2)\n",
       ">>> x\n",
       "array([[[0.,  1.],\n",
       "        [2.,  3.]],\n",
       "       [[4.,  5.],\n",
       "        [6.,  7.]]])\n",
       ">>> np.hsplit(x, 2)\n",
       "[array([[[0.,  1.]],\n",
       "       [[4.,  5.]]]),\n",
       " array([[[2.,  3.]],\n",
       "       [[6.,  7.]]])]\n",
       "\u001b[0;31mFile:\u001b[0m      /usr/lib/python3/dist-packages/numpy/lib/shape_base.py\n",
       "\u001b[0;31mType:\u001b[0m      function\n"
      ]
     },
     "metadata": {},
     "output_type": "display_data"
    }
   ],
   "source": [
    "np.hsplit?"
   ]
  },
  {
   "cell_type": "code",
   "execution_count": 59,
   "id": "light-curtis",
   "metadata": {},
   "outputs": [
    {
     "data": {
      "text/plain": [
       "\u001b[0;31mSignature:\u001b[0m \u001b[0mnp\u001b[0m\u001b[0;34m.\u001b[0m\u001b[0mvsplit\u001b[0m\u001b[0;34m(\u001b[0m\u001b[0mary\u001b[0m\u001b[0;34m,\u001b[0m \u001b[0mindices_or_sections\u001b[0m\u001b[0;34m)\u001b[0m\u001b[0;34m\u001b[0m\u001b[0;34m\u001b[0m\u001b[0m\n",
       "\u001b[0;31mDocstring:\u001b[0m\n",
       "Split an array into multiple sub-arrays vertically (row-wise).\n",
       "\n",
       "Please refer to the ``split`` documentation.  ``vsplit`` is equivalent\n",
       "to ``split`` with `axis=0` (default), the array is always split along the\n",
       "first axis regardless of the array dimension.\n",
       "\n",
       "See Also\n",
       "--------\n",
       "split : Split an array into multiple sub-arrays of equal size.\n",
       "\n",
       "Examples\n",
       "--------\n",
       ">>> x = np.arange(16.0).reshape(4, 4)\n",
       ">>> x\n",
       "array([[ 0.,   1.,   2.,   3.],\n",
       "       [ 4.,   5.,   6.,   7.],\n",
       "       [ 8.,   9.,  10.,  11.],\n",
       "       [12.,  13.,  14.,  15.]])\n",
       ">>> np.vsplit(x, 2)\n",
       "[array([[0., 1., 2., 3.],\n",
       "       [4., 5., 6., 7.]]), array([[ 8.,  9., 10., 11.],\n",
       "       [12., 13., 14., 15.]])]\n",
       ">>> np.vsplit(x, np.array([3, 6]))\n",
       "[array([[ 0.,  1.,  2.,  3.],\n",
       "       [ 4.,  5.,  6.,  7.],\n",
       "       [ 8.,  9., 10., 11.]]), array([[12., 13., 14., 15.]]), array([], shape=(0, 4), dtype=float64)]\n",
       "\n",
       "With a higher dimensional array the split is still along the first axis.\n",
       "\n",
       ">>> x = np.arange(8.0).reshape(2, 2, 2)\n",
       ">>> x\n",
       "array([[[0.,  1.],\n",
       "        [2.,  3.]],\n",
       "       [[4.,  5.],\n",
       "        [6.,  7.]]])\n",
       ">>> np.vsplit(x, 2)\n",
       "[array([[[0., 1.],\n",
       "        [2., 3.]]]), array([[[4., 5.],\n",
       "        [6., 7.]]])]\n",
       "\u001b[0;31mFile:\u001b[0m      /usr/lib/python3/dist-packages/numpy/lib/shape_base.py\n",
       "\u001b[0;31mType:\u001b[0m      function\n"
      ]
     },
     "metadata": {},
     "output_type": "display_data"
    }
   ],
   "source": [
    "np.vsplit?"
   ]
  },
  {
   "cell_type": "code",
   "execution_count": 60,
   "id": "substantial-travel",
   "metadata": {},
   "outputs": [
    {
     "data": {
      "text/plain": [
       "array([[20, 22, 24, 26, 28],\n",
       "       [30, 32, 34, 36, 38]])"
      ]
     },
     "execution_count": 60,
     "metadata": {},
     "output_type": "execute_result"
    }
   ],
   "source": [
    "x"
   ]
  },
  {
   "cell_type": "code",
   "execution_count": 61,
   "id": "tracked-daniel",
   "metadata": {},
   "outputs": [
    {
     "data": {
      "text/plain": [
       "[array([[20, 22, 24, 26, 28]]), array([[30, 32, 34, 36, 38]])]"
      ]
     },
     "execution_count": 61,
     "metadata": {},
     "output_type": "execute_result"
    }
   ],
   "source": [
    "np.split(x,2)"
   ]
  },
  {
   "cell_type": "code",
   "execution_count": 62,
   "id": "thermal-sherman",
   "metadata": {},
   "outputs": [
    {
     "ename": "TypeError",
     "evalue": "'module' object is not callable",
     "output_type": "error",
     "traceback": [
      "\u001b[0;31m---------------------------------------------------------------------------\u001b[0m",
      "\u001b[0;31mTypeError\u001b[0m                                 Traceback (most recent call last)",
      "\u001b[0;32m<ipython-input-62-4bff63796e55>\u001b[0m in \u001b[0;36m<module>\u001b[0;34m\u001b[0m\n\u001b[0;32m----> 1\u001b[0;31m \u001b[0mx\u001b[0m\u001b[0;34m=\u001b[0m\u001b[0mnp\u001b[0m\u001b[0;34m.\u001b[0m\u001b[0mrandom\u001b[0m\u001b[0;34m(\u001b[0m\u001b[0;36m4\u001b[0m\u001b[0;34m,\u001b[0m\u001b[0;36m4\u001b[0m\u001b[0;34m)\u001b[0m\u001b[0;34m\u001b[0m\u001b[0;34m\u001b[0m\u001b[0m\n\u001b[0m",
      "\u001b[0;31mTypeError\u001b[0m: 'module' object is not callable"
     ]
    }
   ],
   "source": [
    "x=np.random(4,4)"
   ]
  },
  {
   "cell_type": "code",
   "execution_count": 63,
   "id": "crucial-attachment",
   "metadata": {},
   "outputs": [
    {
     "ename": "TypeError",
     "evalue": "random() takes at most 1 positional argument (2 given)",
     "output_type": "error",
     "traceback": [
      "\u001b[0;31m---------------------------------------------------------------------------\u001b[0m",
      "\u001b[0;31mTypeError\u001b[0m                                 Traceback (most recent call last)",
      "\u001b[0;32m<ipython-input-63-cff3f40c00ae>\u001b[0m in \u001b[0;36m<module>\u001b[0;34m\u001b[0m\n\u001b[0;32m----> 1\u001b[0;31m \u001b[0mnp\u001b[0m\u001b[0;34m.\u001b[0m\u001b[0mrandom\u001b[0m\u001b[0;34m.\u001b[0m\u001b[0mrandom\u001b[0m\u001b[0;34m(\u001b[0m\u001b[0;36m4\u001b[0m\u001b[0;34m,\u001b[0m\u001b[0;36m4\u001b[0m\u001b[0;34m)\u001b[0m\u001b[0;34m\u001b[0m\u001b[0;34m\u001b[0m\u001b[0m\n\u001b[0m",
      "\u001b[0;32mmtrand.pyx\u001b[0m in \u001b[0;36mnumpy.random.mtrand.RandomState.random\u001b[0;34m()\u001b[0m\n",
      "\u001b[0;31mTypeError\u001b[0m: random() takes at most 1 positional argument (2 given)"
     ]
    }
   ],
   "source": [
    "np.random.random(4,4)"
   ]
  },
  {
   "cell_type": "code",
   "execution_count": 64,
   "id": "exclusive-member",
   "metadata": {},
   "outputs": [
    {
     "data": {
      "text/plain": [
       "array([[0.73849814, 0.24282516, 0.72431116, 0.65872756],\n",
       "       [0.70012883, 0.98079211, 0.555155  , 0.79570765],\n",
       "       [0.57756884, 0.28300112, 0.45546473, 0.72364397],\n",
       "       [0.74933651, 0.86328512, 0.12902573, 0.46850697]])"
      ]
     },
     "execution_count": 64,
     "metadata": {},
     "output_type": "execute_result"
    }
   ],
   "source": [
    "np.random.random((4,4))"
   ]
  },
  {
   "cell_type": "code",
   "execution_count": 65,
   "id": "killing-beverage",
   "metadata": {},
   "outputs": [],
   "source": [
    "x=np.random.random((4,4))"
   ]
  },
  {
   "cell_type": "code",
   "execution_count": 66,
   "id": "elementary-algeria",
   "metadata": {},
   "outputs": [
    {
     "data": {
      "text/plain": [
       "array([[0.17175721, 0.18721689, 0.61897699, 0.18303924],\n",
       "       [0.86302244, 0.0176555 , 0.0792593 , 0.59782668],\n",
       "       [0.59055497, 0.98413897, 0.43921678, 0.8540811 ],\n",
       "       [0.78040781, 0.11984797, 0.69707767, 0.13658921]])"
      ]
     },
     "execution_count": 66,
     "metadata": {},
     "output_type": "execute_result"
    }
   ],
   "source": [
    "x"
   ]
  },
  {
   "cell_type": "code",
   "execution_count": 67,
   "id": "presidential-istanbul",
   "metadata": {},
   "outputs": [
    {
     "data": {
      "text/plain": [
       "[array([[0.17175721, 0.18721689, 0.61897699, 0.18303924],\n",
       "        [0.86302244, 0.0176555 , 0.0792593 , 0.59782668]]),\n",
       " array([[0.59055497, 0.98413897, 0.43921678, 0.8540811 ],\n",
       "        [0.78040781, 0.11984797, 0.69707767, 0.13658921]])]"
      ]
     },
     "execution_count": 67,
     "metadata": {},
     "output_type": "execute_result"
    }
   ],
   "source": [
    "np.split(x,2)"
   ]
  },
  {
   "cell_type": "code",
   "execution_count": 68,
   "id": "accurate-cannon",
   "metadata": {},
   "outputs": [
    {
     "data": {
      "text/plain": [
       "[array([[0.17175721, 0.18721689],\n",
       "        [0.86302244, 0.0176555 ],\n",
       "        [0.59055497, 0.98413897],\n",
       "        [0.78040781, 0.11984797]]),\n",
       " array([[0.61897699, 0.18303924],\n",
       "        [0.0792593 , 0.59782668],\n",
       "        [0.43921678, 0.8540811 ],\n",
       "        [0.69707767, 0.13658921]])]"
      ]
     },
     "execution_count": 68,
     "metadata": {},
     "output_type": "execute_result"
    }
   ],
   "source": [
    "np.split(x,2,axis=1)"
   ]
  },
  {
   "cell_type": "code",
   "execution_count": 69,
   "id": "automatic-detection",
   "metadata": {},
   "outputs": [
    {
     "data": {
      "text/plain": [
       "[array([[0.17175721, 0.18721689],\n",
       "        [0.86302244, 0.0176555 ],\n",
       "        [0.59055497, 0.98413897],\n",
       "        [0.78040781, 0.11984797]]),\n",
       " array([[0.61897699, 0.18303924],\n",
       "        [0.0792593 , 0.59782668],\n",
       "        [0.43921678, 0.8540811 ],\n",
       "        [0.69707767, 0.13658921]]),\n",
       " array([], shape=(4, 0), dtype=float64)]"
      ]
     },
     "execution_count": 69,
     "metadata": {},
     "output_type": "execute_result"
    }
   ],
   "source": [
    "np.split(x,[2,5],axis=1)"
   ]
  },
  {
   "cell_type": "code",
   "execution_count": 70,
   "id": "organized-earth",
   "metadata": {},
   "outputs": [
    {
     "data": {
      "text/plain": [
       "[array([[0.17175721, 0.18721689, 0.61897699],\n",
       "        [0.86302244, 0.0176555 , 0.0792593 ],\n",
       "        [0.59055497, 0.98413897, 0.43921678],\n",
       "        [0.78040781, 0.11984797, 0.69707767]]),\n",
       " array([[0.18303924],\n",
       "        [0.59782668],\n",
       "        [0.8540811 ],\n",
       "        [0.13658921]])]"
      ]
     },
     "execution_count": 70,
     "metadata": {},
     "output_type": "execute_result"
    }
   ],
   "source": [
    "np.split(x,[3,],axis=1)"
   ]
  },
  {
   "cell_type": "code",
   "execution_count": 71,
   "id": "built-burlington",
   "metadata": {},
   "outputs": [
    {
     "data": {
      "text/plain": [
       "[array([[0.17175721, 0.18721689, 0.61897699, 0.18303924]]),\n",
       " array([[0.86302244, 0.0176555 , 0.0792593 , 0.59782668],\n",
       "        [0.59055497, 0.98413897, 0.43921678, 0.8540811 ],\n",
       "        [0.78040781, 0.11984797, 0.69707767, 0.13658921]])]"
      ]
     },
     "execution_count": 71,
     "metadata": {},
     "output_type": "execute_result"
    }
   ],
   "source": [
    "np.split(x,[1,],axis=0)"
   ]
  },
  {
   "cell_type": "code",
   "execution_count": 72,
   "id": "objective-tiger",
   "metadata": {},
   "outputs": [
    {
     "data": {
      "text/plain": [
       "[array([[0.17175721, 0.18721689, 0.61897699, 0.18303924]]),\n",
       " array([[0.86302244, 0.0176555 , 0.0792593 , 0.59782668],\n",
       "        [0.59055497, 0.98413897, 0.43921678, 0.8540811 ],\n",
       "        [0.78040781, 0.11984797, 0.69707767, 0.13658921]])]"
      ]
     },
     "execution_count": 72,
     "metadata": {},
     "output_type": "execute_result"
    }
   ],
   "source": [
    "np.split(x,[1,])"
   ]
  },
  {
   "cell_type": "code",
   "execution_count": 73,
   "id": "naughty-italian",
   "metadata": {},
   "outputs": [
    {
     "data": {
      "text/plain": [
       "array([4.  , 4.25, 4.5 , 4.75, 5.  ])"
      ]
     },
     "execution_count": 73,
     "metadata": {},
     "output_type": "execute_result"
    }
   ],
   "source": [
    "a"
   ]
  },
  {
   "cell_type": "code",
   "execution_count": 74,
   "id": "multiple-sheet",
   "metadata": {},
   "outputs": [],
   "source": [
    "b=a"
   ]
  },
  {
   "cell_type": "code",
   "execution_count": 76,
   "id": "numerical-polyester",
   "metadata": {},
   "outputs": [
    {
     "name": "stdout",
     "output_type": "stream",
     "text": [
      "140274147758208\n",
      "140274147758208\n"
     ]
    }
   ],
   "source": [
    "print(id(a));print(id(b))"
   ]
  },
  {
   "cell_type": "code",
   "execution_count": 77,
   "id": "cognitive-participant",
   "metadata": {},
   "outputs": [],
   "source": [
    "a[0]=11\n"
   ]
  },
  {
   "cell_type": "code",
   "execution_count": 78,
   "id": "human-passport",
   "metadata": {},
   "outputs": [
    {
     "data": {
      "text/plain": [
       "array([11.  ,  4.25,  4.5 ,  4.75,  5.  ])"
      ]
     },
     "execution_count": 78,
     "metadata": {},
     "output_type": "execute_result"
    }
   ],
   "source": [
    "b"
   ]
  },
  {
   "cell_type": "code",
   "execution_count": 79,
   "id": "marked-replacement",
   "metadata": {},
   "outputs": [
    {
     "data": {
      "text/plain": [
       "array([11.  ,  4.25,  4.5 ,  4.75,  5.  ])"
      ]
     },
     "execution_count": 79,
     "metadata": {},
     "output_type": "execute_result"
    }
   ],
   "source": [
    "a"
   ]
  },
  {
   "cell_type": "code",
   "execution_count": 80,
   "id": "settled-power",
   "metadata": {},
   "outputs": [
    {
     "ename": "ValueError",
     "evalue": "cannot delete array elements",
     "output_type": "error",
     "traceback": [
      "\u001b[0;31m---------------------------------------------------------------------------\u001b[0m",
      "\u001b[0;31mValueError\u001b[0m                                Traceback (most recent call last)",
      "\u001b[0;32m<ipython-input-80-0cde02571307>\u001b[0m in \u001b[0;36m<module>\u001b[0;34m\u001b[0m\n\u001b[0;32m----> 1\u001b[0;31m \u001b[0;32mdel\u001b[0m \u001b[0mb\u001b[0m\u001b[0;34m[\u001b[0m\u001b[0;36m0\u001b[0m\u001b[0;34m]\u001b[0m\u001b[0;34m\u001b[0m\u001b[0;34m\u001b[0m\u001b[0m\n\u001b[0m",
      "\u001b[0;31mValueError\u001b[0m: cannot delete array elements"
     ]
    }
   ],
   "source": [
    "del b[0]"
   ]
  },
  {
   "cell_type": "code",
   "execution_count": 81,
   "id": "rubber-galaxy",
   "metadata": {},
   "outputs": [
    {
     "name": "stdout",
     "output_type": "stream",
     "text": [
      "Object `del` not found.\n"
     ]
    }
   ],
   "source": [
    "del?"
   ]
  },
  {
   "cell_type": "code",
   "execution_count": 82,
   "id": "competitive-modification",
   "metadata": {},
   "outputs": [
    {
     "name": "stdout",
     "output_type": "stream",
     "text": [
      "Object `np.del` not found.\n"
     ]
    }
   ],
   "source": [
    "np.del?"
   ]
  },
  {
   "cell_type": "code",
   "execution_count": 83,
   "id": "numerous-active",
   "metadata": {},
   "outputs": [],
   "source": [
    "b[0]=111"
   ]
  },
  {
   "cell_type": "code",
   "execution_count": 84,
   "id": "convertible-shopper",
   "metadata": {},
   "outputs": [
    {
     "data": {
      "text/plain": [
       "array([111.  ,   4.25,   4.5 ,   4.75,   5.  ])"
      ]
     },
     "execution_count": 84,
     "metadata": {},
     "output_type": "execute_result"
    }
   ],
   "source": [
    "b"
   ]
  },
  {
   "cell_type": "code",
   "execution_count": 85,
   "id": "bridal-latex",
   "metadata": {},
   "outputs": [
    {
     "data": {
      "text/plain": [
       "array([111.  ,   4.25,   4.5 ,   4.75,   5.  ])"
      ]
     },
     "execution_count": 85,
     "metadata": {},
     "output_type": "execute_result"
    }
   ],
   "source": [
    "a"
   ]
  },
  {
   "cell_type": "code",
   "execution_count": 86,
   "id": "vocal-township",
   "metadata": {},
   "outputs": [],
   "source": [
    "c=b"
   ]
  },
  {
   "cell_type": "code",
   "execution_count": 87,
   "id": "damaged-questionnaire",
   "metadata": {},
   "outputs": [],
   "source": [
    "c[0]=22"
   ]
  },
  {
   "cell_type": "code",
   "execution_count": 88,
   "id": "manufactured-airplane",
   "metadata": {},
   "outputs": [
    {
     "data": {
      "text/plain": [
       "array([22.  ,  4.25,  4.5 ,  4.75,  5.  ])"
      ]
     },
     "execution_count": 88,
     "metadata": {},
     "output_type": "execute_result"
    }
   ],
   "source": [
    "a"
   ]
  },
  {
   "cell_type": "code",
   "execution_count": 89,
   "id": "nominated-giving",
   "metadata": {},
   "outputs": [
    {
     "data": {
      "text/plain": [
       "array([22.  ,  4.25,  4.5 ,  4.75,  5.  ])"
      ]
     },
     "execution_count": 89,
     "metadata": {},
     "output_type": "execute_result"
    }
   ],
   "source": [
    "c"
   ]
  },
  {
   "cell_type": "code",
   "execution_count": 90,
   "id": "super-assurance",
   "metadata": {},
   "outputs": [
    {
     "data": {
      "text/plain": [
       "array([22.  ,  4.25,  4.5 ,  4.75,  5.  ])"
      ]
     },
     "execution_count": 90,
     "metadata": {},
     "output_type": "execute_result"
    }
   ],
   "source": [
    "b"
   ]
  },
  {
   "cell_type": "code",
   "execution_count": 91,
   "id": "united-hospital",
   "metadata": {},
   "outputs": [
    {
     "data": {
      "text/plain": [
       "140274147758208"
      ]
     },
     "execution_count": 91,
     "metadata": {},
     "output_type": "execute_result"
    }
   ],
   "source": [
    "id(c)"
   ]
  },
  {
   "cell_type": "code",
   "execution_count": 92,
   "id": "premium-conjunction",
   "metadata": {},
   "outputs": [
    {
     "data": {
      "text/plain": [
       "140274147758208"
      ]
     },
     "execution_count": 92,
     "metadata": {},
     "output_type": "execute_result"
    }
   ],
   "source": [
    "id(a)"
   ]
  },
  {
   "cell_type": "code",
   "execution_count": 93,
   "id": "fatty-genetics",
   "metadata": {},
   "outputs": [
    {
     "ename": "ValueError",
     "evalue": "format number 4 of \"int32,float32,c8,a(10)\" is not recognized",
     "output_type": "error",
     "traceback": [
      "\u001b[0;31m---------------------------------------------------------------------------\u001b[0m",
      "\u001b[0;31mValueError\u001b[0m                                Traceback (most recent call last)",
      "\u001b[0;32m<ipython-input-93-963696c9b825>\u001b[0m in \u001b[0;36m<module>\u001b[0;34m\u001b[0m\n\u001b[0;32m----> 1\u001b[0;31m \u001b[0mstructered_arr\u001b[0m\u001b[0;34m=\u001b[0m\u001b[0mnp\u001b[0m\u001b[0;34m.\u001b[0m\u001b[0marray\u001b[0m\u001b[0;34m(\u001b[0m\u001b[0;34m[\u001b[0m\u001b[0;34m(\u001b[0m\u001b[0;36m54\u001b[0m\u001b[0;34m,\u001b[0m\u001b[0;36m8.5\u001b[0m\u001b[0;34m,\u001b[0m\u001b[0;36m5\u001b[0m\u001b[0;34m+\u001b[0m\u001b[0;36m4.3j\u001b[0m\u001b[0;34m,\u001b[0m\u001b[0;34m'sanjay'\u001b[0m\u001b[0;34m)\u001b[0m\u001b[0;34m,\u001b[0m\u001b[0;34m(\u001b[0m\u001b[0;36m45\u001b[0m\u001b[0;34m,\u001b[0m\u001b[0;36m56.5\u001b[0m\u001b[0;34m,\u001b[0m\u001b[0;36m8\u001b[0m\u001b[0;34m+\u001b[0m\u001b[0;36m3.5j\u001b[0m\u001b[0;34m,\u001b[0m\u001b[0;34m'swapnil'\u001b[0m\u001b[0;34m)\u001b[0m\u001b[0;34m,\u001b[0m\u001b[0;34m(\u001b[0m\u001b[0;36m98\u001b[0m\u001b[0;34m,\u001b[0m\u001b[0;36m6.2\u001b[0m\u001b[0;34m,\u001b[0m\u001b[0;36m9.3\u001b[0m\u001b[0;34m+\u001b[0m\u001b[0;36m3.0j\u001b[0m\u001b[0;34m,\u001b[0m\u001b[0;34m'chaitanya'\u001b[0m\u001b[0;34m)\u001b[0m\u001b[0;34m]\u001b[0m\u001b[0;34m,\u001b[0m\u001b[0mdtype\u001b[0m\u001b[0;34m=\u001b[0m\u001b[0;34m(\u001b[0m\u001b[0;34m'int32,float32,c8,a(10)'\u001b[0m\u001b[0;34m)\u001b[0m\u001b[0;34m)\u001b[0m\u001b[0;34m\u001b[0m\u001b[0;34m\u001b[0m\u001b[0m\n\u001b[0m",
      "\u001b[0;32m/usr/lib/python3/dist-packages/numpy/core/_internal.py\u001b[0m in \u001b[0;36m_commastring\u001b[0;34m(astr)\u001b[0m\n\u001b[1;32m    173\u001b[0m                 \u001b[0mmo\u001b[0m \u001b[0;34m=\u001b[0m \u001b[0msep_re\u001b[0m\u001b[0;34m.\u001b[0m\u001b[0mmatch\u001b[0m\u001b[0;34m(\u001b[0m\u001b[0mastr\u001b[0m\u001b[0;34m,\u001b[0m \u001b[0mpos\u001b[0m\u001b[0;34m=\u001b[0m\u001b[0mstartindex\u001b[0m\u001b[0;34m)\u001b[0m\u001b[0;34m\u001b[0m\u001b[0;34m\u001b[0m\u001b[0m\n\u001b[1;32m    174\u001b[0m                 \u001b[0;32mif\u001b[0m \u001b[0;32mnot\u001b[0m \u001b[0mmo\u001b[0m\u001b[0;34m:\u001b[0m\u001b[0;34m\u001b[0m\u001b[0;34m\u001b[0m\u001b[0m\n\u001b[0;32m--> 175\u001b[0;31m                     raise ValueError(\n\u001b[0m\u001b[1;32m    176\u001b[0m                         \u001b[0;34m'format number %d of \"%s\" is not recognized'\u001b[0m \u001b[0;34m%\u001b[0m\u001b[0;34m\u001b[0m\u001b[0;34m\u001b[0m\u001b[0m\n\u001b[1;32m    177\u001b[0m                         (len(result)+1, astr))\n",
      "\u001b[0;31mValueError\u001b[0m: format number 4 of \"int32,float32,c8,a(10)\" is not recognized"
     ]
    }
   ],
   "source": [
    "structered_arr=np.array([(54,8.5,5+4.3j,'sanjay'),(45,56.5,8+3.5j,'swapnil'),(98,6.2,9.3+3.0j,'chaitanya')],dtype=('int32,float32,c8,a(10)'))"
   ]
  },
  {
   "cell_type": "code",
   "execution_count": 94,
   "id": "agreed-basis",
   "metadata": {},
   "outputs": [
    {
     "ename": "ValueError",
     "evalue": "format number 4 of \"i4,f4,c8,a(10)\" is not recognized",
     "output_type": "error",
     "traceback": [
      "\u001b[0;31m---------------------------------------------------------------------------\u001b[0m",
      "\u001b[0;31mValueError\u001b[0m                                Traceback (most recent call last)",
      "\u001b[0;32m<ipython-input-94-a8c26c76a468>\u001b[0m in \u001b[0;36m<module>\u001b[0;34m\u001b[0m\n\u001b[0;32m----> 1\u001b[0;31m \u001b[0mstructered_arr\u001b[0m\u001b[0;34m=\u001b[0m\u001b[0mnp\u001b[0m\u001b[0;34m.\u001b[0m\u001b[0marray\u001b[0m\u001b[0;34m(\u001b[0m\u001b[0;34m[\u001b[0m\u001b[0;34m(\u001b[0m\u001b[0;36m54\u001b[0m\u001b[0;34m,\u001b[0m\u001b[0;36m8.5\u001b[0m\u001b[0;34m,\u001b[0m\u001b[0;36m5\u001b[0m\u001b[0;34m+\u001b[0m\u001b[0;36m4.3j\u001b[0m\u001b[0;34m,\u001b[0m\u001b[0;34m'sanjay'\u001b[0m\u001b[0;34m)\u001b[0m\u001b[0;34m,\u001b[0m\u001b[0;34m(\u001b[0m\u001b[0;36m45\u001b[0m\u001b[0;34m,\u001b[0m\u001b[0;36m56.5\u001b[0m\u001b[0;34m,\u001b[0m\u001b[0;36m8\u001b[0m\u001b[0;34m+\u001b[0m\u001b[0;36m3.5j\u001b[0m\u001b[0;34m,\u001b[0m\u001b[0;34m'swapnil'\u001b[0m\u001b[0;34m)\u001b[0m\u001b[0;34m,\u001b[0m\u001b[0;34m(\u001b[0m\u001b[0;36m98\u001b[0m\u001b[0;34m,\u001b[0m\u001b[0;36m6.2\u001b[0m\u001b[0;34m,\u001b[0m\u001b[0;36m9.3\u001b[0m\u001b[0;34m+\u001b[0m\u001b[0;36m3.0j\u001b[0m\u001b[0;34m,\u001b[0m\u001b[0;34m'chaitanya'\u001b[0m\u001b[0;34m)\u001b[0m\u001b[0;34m]\u001b[0m\u001b[0;34m,\u001b[0m\u001b[0mdtype\u001b[0m\u001b[0;34m=\u001b[0m\u001b[0;34m(\u001b[0m\u001b[0;34m'i4,f4,c8,a(10)'\u001b[0m\u001b[0;34m)\u001b[0m\u001b[0;34m)\u001b[0m\u001b[0;34m\u001b[0m\u001b[0;34m\u001b[0m\u001b[0m\n\u001b[0m",
      "\u001b[0;32m/usr/lib/python3/dist-packages/numpy/core/_internal.py\u001b[0m in \u001b[0;36m_commastring\u001b[0;34m(astr)\u001b[0m\n\u001b[1;32m    173\u001b[0m                 \u001b[0mmo\u001b[0m \u001b[0;34m=\u001b[0m \u001b[0msep_re\u001b[0m\u001b[0;34m.\u001b[0m\u001b[0mmatch\u001b[0m\u001b[0;34m(\u001b[0m\u001b[0mastr\u001b[0m\u001b[0;34m,\u001b[0m \u001b[0mpos\u001b[0m\u001b[0;34m=\u001b[0m\u001b[0mstartindex\u001b[0m\u001b[0;34m)\u001b[0m\u001b[0;34m\u001b[0m\u001b[0;34m\u001b[0m\u001b[0m\n\u001b[1;32m    174\u001b[0m                 \u001b[0;32mif\u001b[0m \u001b[0;32mnot\u001b[0m \u001b[0mmo\u001b[0m\u001b[0;34m:\u001b[0m\u001b[0;34m\u001b[0m\u001b[0;34m\u001b[0m\u001b[0m\n\u001b[0;32m--> 175\u001b[0;31m                     raise ValueError(\n\u001b[0m\u001b[1;32m    176\u001b[0m                         \u001b[0;34m'format number %d of \"%s\" is not recognized'\u001b[0m \u001b[0;34m%\u001b[0m\u001b[0;34m\u001b[0m\u001b[0;34m\u001b[0m\u001b[0m\n\u001b[1;32m    177\u001b[0m                         (len(result)+1, astr))\n",
      "\u001b[0;31mValueError\u001b[0m: format number 4 of \"i4,f4,c8,a(10)\" is not recognized"
     ]
    }
   ],
   "source": [
    "structered_arr=np.array([(54,8.5,5+4.3j,'sanjay'),(45,56.5,8+3.5j,'swapnil'),(98,6.2,9.3+3.0j,'chaitanya')],dtype=('i4,f4,c8,a(10)'))"
   ]
  },
  {
   "cell_type": "code",
   "execution_count": 95,
   "id": "double-finance",
   "metadata": {},
   "outputs": [],
   "source": [
    "structered_arr=np.array([(54,8.5,5+4.3j,'sanjay'),(45,56.5,8+3.5j,'swapnil'),(98,6.2,9.3+3.0j,'chaitanya')],dtype=('i4,f4,c8,a10'))"
   ]
  },
  {
   "cell_type": "code",
   "execution_count": 96,
   "id": "vocal-huntington",
   "metadata": {},
   "outputs": [
    {
     "data": {
      "text/plain": [
       "array([(54,  8.5, 5. +4.3j, b'sanjay'), (45, 56.5, 8. +3.5j, b'swapnil'),\n",
       "       (98,  6.2, 9.3+3.j , b'chaitanya')],\n",
       "      dtype=[('f0', '<i4'), ('f1', '<f4'), ('f2', '<c8'), ('f3', 'S10')])"
      ]
     },
     "execution_count": 96,
     "metadata": {},
     "output_type": "execute_result"
    }
   ],
   "source": [
    "structered_arr"
   ]
  },
  {
   "cell_type": "code",
   "execution_count": 97,
   "id": "parallel-billion",
   "metadata": {},
   "outputs": [
    {
     "data": {
      "text/plain": [
       "(54, 8.5, 5.+4.3j, b'sanjay')"
      ]
     },
     "execution_count": 97,
     "metadata": {},
     "output_type": "execute_result"
    }
   ],
   "source": [
    "structered_arr[0]"
   ]
  },
  {
   "cell_type": "code",
   "execution_count": 98,
   "id": "utility-spain",
   "metadata": {},
   "outputs": [
    {
     "data": {
      "text/plain": [
       "array([5. +4.3j, 8. +3.5j, 9.3+3.j ], dtype=complex64)"
      ]
     },
     "execution_count": 98,
     "metadata": {},
     "output_type": "execute_result"
    }
   ],
   "source": [
    "structered_arr['f2']"
   ]
  },
  {
   "cell_type": "code",
   "execution_count": 99,
   "id": "continent-nudist",
   "metadata": {},
   "outputs": [
    {
     "data": {
      "text/plain": [
       "\u001b[0;31mType:\u001b[0m            ndarray\n",
       "\u001b[0;31mString form:\u001b[0m    \n",
       "[(54,  8.5, 5. +4.3j, b'sanjay') (45, 56.5, 8. +3.5j, b'swapnil')\n",
       " (98,  6.2, 9.3+3.j , b'chaitanya')]\n",
       "\u001b[0;31mLength:\u001b[0m          3\n",
       "\u001b[0;31mFile:\u001b[0m            /usr/lib/python3/dist-packages/numpy/__init__.py\n",
       "\u001b[0;31mDocstring:\u001b[0m       <no docstring>\n",
       "\u001b[0;31mClass docstring:\u001b[0m\n",
       "ndarray(shape, dtype=float, buffer=None, offset=0,\n",
       "        strides=None, order=None)\n",
       "\n",
       "An array object represents a multidimensional, homogeneous array\n",
       "of fixed-size items.  An associated data-type object describes the\n",
       "format of each element in the array (its byte-order, how many bytes it\n",
       "occupies in memory, whether it is an integer, a floating point number,\n",
       "or something else, etc.)\n",
       "\n",
       "Arrays should be constructed using `array`, `zeros` or `empty` (refer\n",
       "to the See Also section below).  The parameters given here refer to\n",
       "a low-level method (`ndarray(...)`) for instantiating an array.\n",
       "\n",
       "For more information, refer to the `numpy` module and examine the\n",
       "methods and attributes of an array.\n",
       "\n",
       "Parameters\n",
       "----------\n",
       "(for the __new__ method; see Notes below)\n",
       "\n",
       "shape : tuple of ints\n",
       "    Shape of created array.\n",
       "dtype : data-type, optional\n",
       "    Any object that can be interpreted as a numpy data type.\n",
       "buffer : object exposing buffer interface, optional\n",
       "    Used to fill the array with data.\n",
       "offset : int, optional\n",
       "    Offset of array data in buffer.\n",
       "strides : tuple of ints, optional\n",
       "    Strides of data in memory.\n",
       "order : {'C', 'F'}, optional\n",
       "    Row-major (C-style) or column-major (Fortran-style) order.\n",
       "\n",
       "Attributes\n",
       "----------\n",
       "T : ndarray\n",
       "    Transpose of the array.\n",
       "data : buffer\n",
       "    The array's elements, in memory.\n",
       "dtype : dtype object\n",
       "    Describes the format of the elements in the array.\n",
       "flags : dict\n",
       "    Dictionary containing information related to memory use, e.g.,\n",
       "    'C_CONTIGUOUS', 'OWNDATA', 'WRITEABLE', etc.\n",
       "flat : numpy.flatiter object\n",
       "    Flattened version of the array as an iterator.  The iterator\n",
       "    allows assignments, e.g., ``x.flat = 3`` (See `ndarray.flat` for\n",
       "    assignment examples; TODO).\n",
       "imag : ndarray\n",
       "    Imaginary part of the array.\n",
       "real : ndarray\n",
       "    Real part of the array.\n",
       "size : int\n",
       "    Number of elements in the array.\n",
       "itemsize : int\n",
       "    The memory use of each array element in bytes.\n",
       "nbytes : int\n",
       "    The total number of bytes required to store the array data,\n",
       "    i.e., ``itemsize * size``.\n",
       "ndim : int\n",
       "    The array's number of dimensions.\n",
       "shape : tuple of ints\n",
       "    Shape of the array.\n",
       "strides : tuple of ints\n",
       "    The step-size required to move from one element to the next in\n",
       "    memory. For example, a contiguous ``(3, 4)`` array of type\n",
       "    ``int16`` in C-order has strides ``(8, 2)``.  This implies that\n",
       "    to move from element to element in memory requires jumps of 2 bytes.\n",
       "    To move from row-to-row, one needs to jump 8 bytes at a time\n",
       "    (``2 * 4``).\n",
       "ctypes : ctypes object\n",
       "    Class containing properties of the array needed for interaction\n",
       "    with ctypes.\n",
       "base : ndarray\n",
       "    If the array is a view into another array, that array is its `base`\n",
       "    (unless that array is also a view).  The `base` array is where the\n",
       "    array data is actually stored.\n",
       "\n",
       "See Also\n",
       "--------\n",
       "array : Construct an array.\n",
       "zeros : Create an array, each element of which is zero.\n",
       "empty : Create an array, but leave its allocated memory unchanged (i.e.,\n",
       "        it contains \"garbage\").\n",
       "dtype : Create a data-type.\n",
       "\n",
       "Notes\n",
       "-----\n",
       "There are two modes of creating an array using ``__new__``:\n",
       "\n",
       "1. If `buffer` is None, then only `shape`, `dtype`, and `order`\n",
       "   are used.\n",
       "2. If `buffer` is an object exposing the buffer interface, then\n",
       "   all keywords are interpreted.\n",
       "\n",
       "No ``__init__`` method is needed because the array is fully initialized\n",
       "after the ``__new__`` method.\n",
       "\n",
       "Examples\n",
       "--------\n",
       "These examples illustrate the low-level `ndarray` constructor.  Refer\n",
       "to the `See Also` section above for easier ways of constructing an\n",
       "ndarray.\n",
       "\n",
       "First mode, `buffer` is None:\n",
       "\n",
       ">>> np.ndarray(shape=(2,2), dtype=float, order='F')\n",
       "array([[0.0e+000, 0.0e+000], # random\n",
       "       [     nan, 2.5e-323]])\n",
       "\n",
       "Second mode:\n",
       "\n",
       ">>> np.ndarray((2,), buffer=np.array([1,2,3]),\n",
       "...            offset=np.int_().itemsize,\n",
       "...            dtype=int) # offset = 1*itemsize, i.e. skip first element\n",
       "array([2, 3])\n"
      ]
     },
     "metadata": {},
     "output_type": "display_data"
    }
   ],
   "source": [
    "structered_arr?"
   ]
  },
  {
   "cell_type": "code",
   "execution_count": 100,
   "id": "ready-genius",
   "metadata": {},
   "outputs": [
    {
     "data": {
      "text/plain": [
       "\u001b[0;31mSignature:\u001b[0m \u001b[0mnp\u001b[0m\u001b[0;34m.\u001b[0m\u001b[0mreal\u001b[0m\u001b[0;34m(\u001b[0m\u001b[0mval\u001b[0m\u001b[0;34m)\u001b[0m\u001b[0;34m\u001b[0m\u001b[0;34m\u001b[0m\u001b[0m\n",
       "\u001b[0;31mDocstring:\u001b[0m\n",
       "Return the real part of the complex argument.\n",
       "\n",
       "Parameters\n",
       "----------\n",
       "val : array_like\n",
       "    Input array.\n",
       "\n",
       "Returns\n",
       "-------\n",
       "out : ndarray or scalar\n",
       "    The real component of the complex argument. If `val` is real, the type\n",
       "    of `val` is used for the output.  If `val` has complex elements, the\n",
       "    returned type is float.\n",
       "\n",
       "See Also\n",
       "--------\n",
       "real_if_close, imag, angle\n",
       "\n",
       "Examples\n",
       "--------\n",
       ">>> a = np.array([1+2j, 3+4j, 5+6j])\n",
       ">>> a.real\n",
       "array([1.,  3.,  5.])\n",
       ">>> a.real = 9\n",
       ">>> a\n",
       "array([9.+2.j,  9.+4.j,  9.+6.j])\n",
       ">>> a.real = np.array([9, 8, 7])\n",
       ">>> a\n",
       "array([9.+2.j,  8.+4.j,  7.+6.j])\n",
       ">>> np.real(1 + 1j)\n",
       "1.0\n",
       "\u001b[0;31mFile:\u001b[0m      /usr/lib/python3/dist-packages/numpy/lib/type_check.py\n",
       "\u001b[0;31mType:\u001b[0m      function\n"
      ]
     },
     "metadata": {},
     "output_type": "display_data"
    }
   ],
   "source": [
    "np.real?"
   ]
  },
  {
   "cell_type": "code",
   "execution_count": 101,
   "id": "curious-hypothetical",
   "metadata": {},
   "outputs": [
    {
     "data": {
      "text/plain": [
       "\u001b[0;31mSignature:\u001b[0m \u001b[0mnp\u001b[0m\u001b[0;34m.\u001b[0m\u001b[0mimag\u001b[0m\u001b[0;34m(\u001b[0m\u001b[0mval\u001b[0m\u001b[0;34m)\u001b[0m\u001b[0;34m\u001b[0m\u001b[0;34m\u001b[0m\u001b[0m\n",
       "\u001b[0;31mDocstring:\u001b[0m\n",
       "Return the imaginary part of the complex argument.\n",
       "\n",
       "Parameters\n",
       "----------\n",
       "val : array_like\n",
       "    Input array.\n",
       "\n",
       "Returns\n",
       "-------\n",
       "out : ndarray or scalar\n",
       "    The imaginary component of the complex argument. If `val` is real,\n",
       "    the type of `val` is used for the output.  If `val` has complex\n",
       "    elements, the returned type is float.\n",
       "\n",
       "See Also\n",
       "--------\n",
       "real, angle, real_if_close\n",
       "\n",
       "Examples\n",
       "--------\n",
       ">>> a = np.array([1+2j, 3+4j, 5+6j])\n",
       ">>> a.imag\n",
       "array([2.,  4.,  6.])\n",
       ">>> a.imag = np.array([8, 10, 12])\n",
       ">>> a\n",
       "array([1. +8.j,  3.+10.j,  5.+12.j])\n",
       ">>> np.imag(1 + 1j)\n",
       "1.0\n",
       "\u001b[0;31mFile:\u001b[0m      /usr/lib/python3/dist-packages/numpy/lib/type_check.py\n",
       "\u001b[0;31mType:\u001b[0m      function\n"
      ]
     },
     "metadata": {},
     "output_type": "display_data"
    }
   ],
   "source": [
    "np.imag?"
   ]
  },
  {
   "cell_type": "code",
   "execution_count": 105,
   "id": "persistent-injury",
   "metadata": {},
   "outputs": [],
   "source": [
    "real_imag=np.array([3+5.3j,8+3.5j,5+6.3j],dtype='complex64')"
   ]
  },
  {
   "cell_type": "raw",
   "id": "wrong-change",
   "metadata": {},
   "source": [
    "real_imag"
   ]
  },
  {
   "cell_type": "code",
   "execution_count": 106,
   "id": "least-quantity",
   "metadata": {},
   "outputs": [
    {
     "name": "stdout",
     "output_type": "stream",
     "text": [
      "hello\n"
     ]
    }
   ],
   "source": [
    "print('hello')"
   ]
  },
  {
   "cell_type": "code",
   "execution_count": 107,
   "id": "regulated-fantasy",
   "metadata": {},
   "outputs": [
    {
     "data": {
      "text/plain": [
       "array([3.+5.3j, 8.+3.5j, 5.+6.3j], dtype=complex64)"
      ]
     },
     "execution_count": 107,
     "metadata": {},
     "output_type": "execute_result"
    }
   ],
   "source": [
    "real_imag"
   ]
  },
  {
   "cell_type": "code",
   "execution_count": 108,
   "id": "desperate-chinese",
   "metadata": {},
   "outputs": [
    {
     "data": {
      "text/plain": [
       "array([3., 8., 5.], dtype=float32)"
      ]
     },
     "execution_count": 108,
     "metadata": {},
     "output_type": "execute_result"
    }
   ],
   "source": [
    "real_imag.real"
   ]
  },
  {
   "cell_type": "code",
   "execution_count": 109,
   "id": "visible-aberdeen",
   "metadata": {},
   "outputs": [
    {
     "data": {
      "text/plain": [
       "array([5.3, 3.5, 6.3], dtype=float32)"
      ]
     },
     "execution_count": 109,
     "metadata": {},
     "output_type": "execute_result"
    }
   ],
   "source": [
    "real_imag.imag"
   ]
  },
  {
   "cell_type": "code",
   "execution_count": 110,
   "id": "convenient-conjunction",
   "metadata": {},
   "outputs": [],
   "source": [
    "np.save('structered_arr',structered_arr)"
   ]
  },
  {
   "cell_type": "code",
   "execution_count": 111,
   "id": "actual-bridal",
   "metadata": {},
   "outputs": [],
   "source": [
    "a=np.load('structered_arr.npy')"
   ]
  },
  {
   "cell_type": "code",
   "execution_count": 112,
   "id": "planned-projection",
   "metadata": {},
   "outputs": [
    {
     "data": {
      "text/plain": [
       "array([(54,  8.5, 5. +4.3j, b'sanjay'), (45, 56.5, 8. +3.5j, b'swapnil'),\n",
       "       (98,  6.2, 9.3+3.j , b'chaitanya')],\n",
       "      dtype=[('f0', '<i4'), ('f1', '<f4'), ('f2', '<c8'), ('f3', 'S10')])"
      ]
     },
     "execution_count": 112,
     "metadata": {},
     "output_type": "execute_result"
    }
   ],
   "source": [
    "a"
   ]
  },
  {
   "cell_type": "code",
   "execution_count": 113,
   "id": "empirical-final",
   "metadata": {},
   "outputs": [
    {
     "data": {
      "text/plain": [
       "array([ 8.5, 56.5,  6.2], dtype=float32)"
      ]
     },
     "execution_count": 113,
     "metadata": {},
     "output_type": "execute_result"
    }
   ],
   "source": [
    "a['f1']"
   ]
  },
  {
   "cell_type": "code",
   "execution_count": 114,
   "id": "hourly-designation",
   "metadata": {},
   "outputs": [
    {
     "data": {
      "text/plain": [
       "array([(54,  8.5, 5. +4.3j, b'sanjay'), (45, 56.5, 8. +3.5j, b'swapnil'),\n",
       "       (98,  6.2, 9.3+3.j , b'chaitanya')],\n",
       "      dtype=[('f0', '<i4'), ('f1', '<f4'), ('f2', '<c8'), ('f3', 'S10')])"
      ]
     },
     "execution_count": 114,
     "metadata": {},
     "output_type": "execute_result"
    }
   ],
   "source": [
    "a"
   ]
  },
  {
   "cell_type": "code",
   "execution_count": 115,
   "id": "radio-forward",
   "metadata": {},
   "outputs": [
    {
     "data": {
      "text/plain": [
       "array([22.  ,  4.25,  4.5 ,  4.75,  5.  ])"
      ]
     },
     "execution_count": 115,
     "metadata": {},
     "output_type": "execute_result"
    }
   ],
   "source": [
    "b"
   ]
  },
  {
   "cell_type": "code",
   "execution_count": 116,
   "id": "cardiovascular-harmony",
   "metadata": {},
   "outputs": [
    {
     "data": {
      "text/plain": [
       "array([[0.17175721, 0.18721689, 0.61897699, 0.18303924],\n",
       "       [0.86302244, 0.0176555 , 0.0792593 , 0.59782668],\n",
       "       [0.59055497, 0.98413897, 0.43921678, 0.8540811 ],\n",
       "       [0.78040781, 0.11984797, 0.69707767, 0.13658921]])"
      ]
     },
     "execution_count": 116,
     "metadata": {},
     "output_type": "execute_result"
    }
   ],
   "source": [
    "x"
   ]
  },
  {
   "cell_type": "code",
   "execution_count": 117,
   "id": "limited-bicycle",
   "metadata": {},
   "outputs": [
    {
     "data": {
      "text/plain": [
       "\u001b[0;31mSignature:\u001b[0m \u001b[0mnp\u001b[0m\u001b[0;34m.\u001b[0m\u001b[0msavez\u001b[0m\u001b[0;34m(\u001b[0m\u001b[0mfile\u001b[0m\u001b[0;34m,\u001b[0m \u001b[0;34m*\u001b[0m\u001b[0margs\u001b[0m\u001b[0;34m,\u001b[0m \u001b[0;34m**\u001b[0m\u001b[0mkwds\u001b[0m\u001b[0;34m)\u001b[0m\u001b[0;34m\u001b[0m\u001b[0;34m\u001b[0m\u001b[0m\n",
       "\u001b[0;31mDocstring:\u001b[0m\n",
       "Save several arrays into a single file in uncompressed ``.npz`` format.\n",
       "\n",
       "If arguments are passed in with no keywords, the corresponding variable\n",
       "names, in the ``.npz`` file, are 'arr_0', 'arr_1', etc. If keyword\n",
       "arguments are given, the corresponding variable names, in the ``.npz``\n",
       "file will match the keyword names.\n",
       "\n",
       "Parameters\n",
       "----------\n",
       "file : str or file\n",
       "    Either the filename (string) or an open file (file-like object)\n",
       "    where the data will be saved. If file is a string or a Path, the\n",
       "    ``.npz`` extension will be appended to the filename if it is not\n",
       "    already there.\n",
       "args : Arguments, optional\n",
       "    Arrays to save to the file. Since it is not possible for Python to\n",
       "    know the names of the arrays outside `savez`, the arrays will be saved\n",
       "    with names \"arr_0\", \"arr_1\", and so on. These arguments can be any\n",
       "    expression.\n",
       "kwds : Keyword arguments, optional\n",
       "    Arrays to save to the file. Arrays will be saved in the file with the\n",
       "    keyword names.\n",
       "\n",
       "Returns\n",
       "-------\n",
       "None\n",
       "\n",
       "See Also\n",
       "--------\n",
       "save : Save a single array to a binary file in NumPy format.\n",
       "savetxt : Save an array to a file as plain text.\n",
       "savez_compressed : Save several arrays into a compressed ``.npz`` archive\n",
       "\n",
       "Notes\n",
       "-----\n",
       "The ``.npz`` file format is a zipped archive of files named after the\n",
       "variables they contain.  The archive is not compressed and each file\n",
       "in the archive contains one variable in ``.npy`` format. For a\n",
       "description of the ``.npy`` format, see :py:mod:`numpy.lib.format`.\n",
       "\n",
       "When opening the saved ``.npz`` file with `load` a `NpzFile` object is\n",
       "returned. This is a dictionary-like object which can be queried for\n",
       "its list of arrays (with the ``.files`` attribute), and for the arrays\n",
       "themselves.\n",
       "\n",
       "When saving dictionaries, the dictionary keys become filenames\n",
       "inside the ZIP archive. Therefore, keys should be valid filenames.\n",
       "E.g., avoid keys that begin with ``/`` or contain ``.``.\n",
       "\n",
       "Examples\n",
       "--------\n",
       ">>> from tempfile import TemporaryFile\n",
       ">>> outfile = TemporaryFile()\n",
       ">>> x = np.arange(10)\n",
       ">>> y = np.sin(x)\n",
       "\n",
       "Using `savez` with \\*args, the arrays are saved with default names.\n",
       "\n",
       ">>> np.savez(outfile, x, y)\n",
       ">>> _ = outfile.seek(0) # Only needed here to simulate closing & reopening file\n",
       ">>> npzfile = np.load(outfile)\n",
       ">>> npzfile.files\n",
       "['arr_0', 'arr_1']\n",
       ">>> npzfile['arr_0']\n",
       "array([0, 1, 2, 3, 4, 5, 6, 7, 8, 9])\n",
       "\n",
       "Using `savez` with \\**kwds, the arrays are saved with the keyword names.\n",
       "\n",
       ">>> outfile = TemporaryFile()\n",
       ">>> np.savez(outfile, x=x, y=y)\n",
       ">>> _ = outfile.seek(0)\n",
       ">>> npzfile = np.load(outfile)\n",
       ">>> sorted(npzfile.files)\n",
       "['x', 'y']\n",
       ">>> npzfile['x']\n",
       "array([0, 1, 2, 3, 4, 5, 6, 7, 8, 9])\n",
       "\u001b[0;31mFile:\u001b[0m      /usr/lib/python3/dist-packages/numpy/lib/npyio.py\n",
       "\u001b[0;31mType:\u001b[0m      function\n"
      ]
     },
     "metadata": {},
     "output_type": "display_data"
    }
   ],
   "source": [
    "np.savez?\n"
   ]
  },
  {
   "cell_type": "code",
   "execution_count": 118,
   "id": "controlling-potential",
   "metadata": {},
   "outputs": [],
   "source": [
    "np.savez('mulit_uncmp',b,x)"
   ]
  },
  {
   "cell_type": "code",
   "execution_count": 119,
   "id": "continental-employee",
   "metadata": {},
   "outputs": [
    {
     "ename": "ValueError",
     "evalue": "invalid fmt: array([[0.17175721, 0.18721689, 0.61897699, 0.18303924],\n       [0.86302244, 0.0176555 , 0.0792593 , 0.59782668],\n       [0.59055497, 0.98413897, 0.43921678, 0.8540811 ],\n       [0.78040781, 0.11984797, 0.69707767, 0.13658921]])",
     "output_type": "error",
     "traceback": [
      "\u001b[0;31m---------------------------------------------------------------------------\u001b[0m",
      "\u001b[0;31mValueError\u001b[0m                                Traceback (most recent call last)",
      "\u001b[0;32m<ipython-input-119-99f46b6085e6>\u001b[0m in \u001b[0;36m<module>\u001b[0;34m\u001b[0m\n\u001b[0;32m----> 1\u001b[0;31m \u001b[0mnp\u001b[0m\u001b[0;34m.\u001b[0m\u001b[0msavetxt\u001b[0m\u001b[0;34m(\u001b[0m\u001b[0;34m'multi_txt'\u001b[0m\u001b[0;34m,\u001b[0m\u001b[0mb\u001b[0m\u001b[0;34m,\u001b[0m\u001b[0mx\u001b[0m\u001b[0;34m)\u001b[0m\u001b[0;34m\u001b[0m\u001b[0;34m\u001b[0m\u001b[0m\n\u001b[0m",
      "\u001b[0;32m<__array_function__ internals>\u001b[0m in \u001b[0;36msavetxt\u001b[0;34m(*args, **kwargs)\u001b[0m\n",
      "\u001b[0;32m/usr/lib/python3/dist-packages/numpy/lib/npyio.py\u001b[0m in \u001b[0;36msavetxt\u001b[0;34m(fname, X, fmt, delimiter, newline, header, footer, comments, encoding)\u001b[0m\n\u001b[1;32m   1406\u001b[0m                 \u001b[0mformat\u001b[0m \u001b[0;34m=\u001b[0m \u001b[0mfmt\u001b[0m\u001b[0;34m\u001b[0m\u001b[0;34m\u001b[0m\u001b[0m\n\u001b[1;32m   1407\u001b[0m         \u001b[0;32melse\u001b[0m\u001b[0;34m:\u001b[0m\u001b[0;34m\u001b[0m\u001b[0;34m\u001b[0m\u001b[0m\n\u001b[0;32m-> 1408\u001b[0;31m             \u001b[0;32mraise\u001b[0m \u001b[0mValueError\u001b[0m\u001b[0;34m(\u001b[0m\u001b[0;34m'invalid fmt: %r'\u001b[0m \u001b[0;34m%\u001b[0m \u001b[0;34m(\u001b[0m\u001b[0mfmt\u001b[0m\u001b[0;34m,\u001b[0m\u001b[0;34m)\u001b[0m\u001b[0;34m)\u001b[0m\u001b[0;34m\u001b[0m\u001b[0;34m\u001b[0m\u001b[0m\n\u001b[0m\u001b[1;32m   1409\u001b[0m \u001b[0;34m\u001b[0m\u001b[0m\n\u001b[1;32m   1410\u001b[0m         \u001b[0;32mif\u001b[0m \u001b[0mlen\u001b[0m\u001b[0;34m(\u001b[0m\u001b[0mheader\u001b[0m\u001b[0;34m)\u001b[0m \u001b[0;34m>\u001b[0m \u001b[0;36m0\u001b[0m\u001b[0;34m:\u001b[0m\u001b[0;34m\u001b[0m\u001b[0;34m\u001b[0m\u001b[0m\n",
      "\u001b[0;31mValueError\u001b[0m: invalid fmt: array([[0.17175721, 0.18721689, 0.61897699, 0.18303924],\n       [0.86302244, 0.0176555 , 0.0792593 , 0.59782668],\n       [0.59055497, 0.98413897, 0.43921678, 0.8540811 ],\n       [0.78040781, 0.11984797, 0.69707767, 0.13658921]])"
     ]
    }
   ],
   "source": [
    "np.savetxt('multi_txt',b,x)"
   ]
  },
  {
   "cell_type": "code",
   "execution_count": 120,
   "id": "revised-peninsula",
   "metadata": {},
   "outputs": [
    {
     "data": {
      "text/plain": [
       "\u001b[0;31mSignature:\u001b[0m\n",
       "\u001b[0mnp\u001b[0m\u001b[0;34m.\u001b[0m\u001b[0msavetxt\u001b[0m\u001b[0;34m(\u001b[0m\u001b[0;34m\u001b[0m\n",
       "\u001b[0;34m\u001b[0m    \u001b[0mfname\u001b[0m\u001b[0;34m,\u001b[0m\u001b[0;34m\u001b[0m\n",
       "\u001b[0;34m\u001b[0m    \u001b[0mX\u001b[0m\u001b[0;34m,\u001b[0m\u001b[0;34m\u001b[0m\n",
       "\u001b[0;34m\u001b[0m    \u001b[0mfmt\u001b[0m\u001b[0;34m=\u001b[0m\u001b[0;34m'%.18e'\u001b[0m\u001b[0;34m,\u001b[0m\u001b[0;34m\u001b[0m\n",
       "\u001b[0;34m\u001b[0m    \u001b[0mdelimiter\u001b[0m\u001b[0;34m=\u001b[0m\u001b[0;34m' '\u001b[0m\u001b[0;34m,\u001b[0m\u001b[0;34m\u001b[0m\n",
       "\u001b[0;34m\u001b[0m    \u001b[0mnewline\u001b[0m\u001b[0;34m=\u001b[0m\u001b[0;34m'\\n'\u001b[0m\u001b[0;34m,\u001b[0m\u001b[0;34m\u001b[0m\n",
       "\u001b[0;34m\u001b[0m    \u001b[0mheader\u001b[0m\u001b[0;34m=\u001b[0m\u001b[0;34m''\u001b[0m\u001b[0;34m,\u001b[0m\u001b[0;34m\u001b[0m\n",
       "\u001b[0;34m\u001b[0m    \u001b[0mfooter\u001b[0m\u001b[0;34m=\u001b[0m\u001b[0;34m''\u001b[0m\u001b[0;34m,\u001b[0m\u001b[0;34m\u001b[0m\n",
       "\u001b[0;34m\u001b[0m    \u001b[0mcomments\u001b[0m\u001b[0;34m=\u001b[0m\u001b[0;34m'# '\u001b[0m\u001b[0;34m,\u001b[0m\u001b[0;34m\u001b[0m\n",
       "\u001b[0;34m\u001b[0m    \u001b[0mencoding\u001b[0m\u001b[0;34m=\u001b[0m\u001b[0;32mNone\u001b[0m\u001b[0;34m,\u001b[0m\u001b[0;34m\u001b[0m\n",
       "\u001b[0;34m\u001b[0m\u001b[0;34m)\u001b[0m\u001b[0;34m\u001b[0m\u001b[0;34m\u001b[0m\u001b[0m\n",
       "\u001b[0;31mDocstring:\u001b[0m\n",
       "Save an array to a text file.\n",
       "\n",
       "Parameters\n",
       "----------\n",
       "fname : filename or file handle\n",
       "    If the filename ends in ``.gz``, the file is automatically saved in\n",
       "    compressed gzip format.  `loadtxt` understands gzipped files\n",
       "    transparently.\n",
       "X : 1D or 2D array_like\n",
       "    Data to be saved to a text file.\n",
       "fmt : str or sequence of strs, optional\n",
       "    A single format (%10.5f), a sequence of formats, or a\n",
       "    multi-format string, e.g. 'Iteration %d -- %10.5f', in which\n",
       "    case `delimiter` is ignored. For complex `X`, the legal options\n",
       "    for `fmt` are:\n",
       "\n",
       "    * a single specifier, `fmt='%.4e'`, resulting in numbers formatted\n",
       "      like `' (%s+%sj)' % (fmt, fmt)`\n",
       "    * a full string specifying every real and imaginary part, e.g.\n",
       "      `' %.4e %+.4ej %.4e %+.4ej %.4e %+.4ej'` for 3 columns\n",
       "    * a list of specifiers, one per column - in this case, the real\n",
       "      and imaginary part must have separate specifiers,\n",
       "      e.g. `['%.3e + %.3ej', '(%.15e%+.15ej)']` for 2 columns\n",
       "delimiter : str, optional\n",
       "    String or character separating columns.\n",
       "newline : str, optional\n",
       "    String or character separating lines.\n",
       "\n",
       "    .. versionadded:: 1.5.0\n",
       "header : str, optional\n",
       "    String that will be written at the beginning of the file.\n",
       "\n",
       "    .. versionadded:: 1.7.0\n",
       "footer : str, optional\n",
       "    String that will be written at the end of the file.\n",
       "\n",
       "    .. versionadded:: 1.7.0\n",
       "comments : str, optional\n",
       "    String that will be prepended to the ``header`` and ``footer`` strings,\n",
       "    to mark them as comments. Default: '# ',  as expected by e.g.\n",
       "    ``numpy.loadtxt``.\n",
       "\n",
       "    .. versionadded:: 1.7.0\n",
       "encoding : {None, str}, optional\n",
       "    Encoding used to encode the outputfile. Does not apply to output\n",
       "    streams. If the encoding is something other than 'bytes' or 'latin1'\n",
       "    you will not be able to load the file in NumPy versions < 1.14. Default\n",
       "    is 'latin1'.\n",
       "\n",
       "    .. versionadded:: 1.14.0\n",
       "\n",
       "\n",
       "See Also\n",
       "--------\n",
       "save : Save an array to a binary file in NumPy ``.npy`` format\n",
       "savez : Save several arrays into an uncompressed ``.npz`` archive\n",
       "savez_compressed : Save several arrays into a compressed ``.npz`` archive\n",
       "\n",
       "Notes\n",
       "-----\n",
       "Further explanation of the `fmt` parameter\n",
       "(``%[flag]width[.precision]specifier``):\n",
       "\n",
       "flags:\n",
       "    ``-`` : left justify\n",
       "\n",
       "    ``+`` : Forces to precede result with + or -.\n",
       "\n",
       "    ``0`` : Left pad the number with zeros instead of space (see width).\n",
       "\n",
       "width:\n",
       "    Minimum number of characters to be printed. The value is not truncated\n",
       "    if it has more characters.\n",
       "\n",
       "precision:\n",
       "    - For integer specifiers (eg. ``d,i,o,x``), the minimum number of\n",
       "      digits.\n",
       "    - For ``e, E`` and ``f`` specifiers, the number of digits to print\n",
       "      after the decimal point.\n",
       "    - For ``g`` and ``G``, the maximum number of significant digits.\n",
       "    - For ``s``, the maximum number of characters.\n",
       "\n",
       "specifiers:\n",
       "    ``c`` : character\n",
       "\n",
       "    ``d`` or ``i`` : signed decimal integer\n",
       "\n",
       "    ``e`` or ``E`` : scientific notation with ``e`` or ``E``.\n",
       "\n",
       "    ``f`` : decimal floating point\n",
       "\n",
       "    ``g,G`` : use the shorter of ``e,E`` or ``f``\n",
       "\n",
       "    ``o`` : signed octal\n",
       "\n",
       "    ``s`` : string of characters\n",
       "\n",
       "    ``u`` : unsigned decimal integer\n",
       "\n",
       "    ``x,X`` : unsigned hexadecimal integer\n",
       "\n",
       "This explanation of ``fmt`` is not complete, for an exhaustive\n",
       "specification see [1]_.\n",
       "\n",
       "References\n",
       "----------\n",
       ".. [1] `Format Specification Mini-Language\n",
       "       <https://docs.python.org/library/string.html#format-specification-mini-language>`_,\n",
       "       Python Documentation.\n",
       "\n",
       "Examples\n",
       "--------\n",
       ">>> x = y = z = np.arange(0.0,5.0,1.0)\n",
       ">>> np.savetxt('test.out', x, delimiter=',')   # X is an array\n",
       ">>> np.savetxt('test.out', (x,y,z))   # x,y,z equal sized 1D arrays\n",
       ">>> np.savetxt('test.out', x, fmt='%1.4e')   # use exponential notation\n",
       "\u001b[0;31mFile:\u001b[0m      /usr/lib/python3/dist-packages/numpy/lib/npyio.py\n",
       "\u001b[0;31mType:\u001b[0m      function\n"
      ]
     },
     "metadata": {},
     "output_type": "display_data"
    }
   ],
   "source": [
    "np.savetxt?"
   ]
  },
  {
   "cell_type": "code",
   "execution_count": 121,
   "id": "seasonal-aviation",
   "metadata": {},
   "outputs": [
    {
     "name": "stderr",
     "output_type": "stream",
     "text": [
      "/usr/lib/python3/dist-packages/numpy/core/_asarray.py:83: VisibleDeprecationWarning: Creating an ndarray from ragged nested sequences (which is a list-or-tuple of lists-or-tuples-or ndarrays with different lengths or shapes) is deprecated. If you meant to do this, you must specify 'dtype=object' when creating the ndarray\n",
      "  return array(a, dtype, copy=False, order=order)\n"
     ]
    },
    {
     "ename": "TypeError",
     "evalue": "Mismatch between array dtype ('object') and format specifier ('%.18e')",
     "output_type": "error",
     "traceback": [
      "\u001b[0;31m---------------------------------------------------------------------------\u001b[0m",
      "\u001b[0;31mTypeError\u001b[0m                                 Traceback (most recent call last)",
      "\u001b[0;32m/usr/lib/python3/dist-packages/numpy/lib/npyio.py\u001b[0m in \u001b[0;36msavetxt\u001b[0;34m(fname, X, fmt, delimiter, newline, header, footer, comments, encoding)\u001b[0m\n\u001b[1;32m   1423\u001b[0m                 \u001b[0;32mtry\u001b[0m\u001b[0;34m:\u001b[0m\u001b[0;34m\u001b[0m\u001b[0;34m\u001b[0m\u001b[0m\n\u001b[0;32m-> 1424\u001b[0;31m                     \u001b[0mv\u001b[0m \u001b[0;34m=\u001b[0m \u001b[0mformat\u001b[0m \u001b[0;34m%\u001b[0m \u001b[0mtuple\u001b[0m\u001b[0;34m(\u001b[0m\u001b[0mrow\u001b[0m\u001b[0;34m)\u001b[0m \u001b[0;34m+\u001b[0m \u001b[0mnewline\u001b[0m\u001b[0;34m\u001b[0m\u001b[0;34m\u001b[0m\u001b[0m\n\u001b[0m\u001b[1;32m   1425\u001b[0m                 \u001b[0;32mexcept\u001b[0m \u001b[0mTypeError\u001b[0m\u001b[0;34m:\u001b[0m\u001b[0;34m\u001b[0m\u001b[0;34m\u001b[0m\u001b[0m\n",
      "\u001b[0;31mTypeError\u001b[0m: only size-1 arrays can be converted to Python scalars",
      "\nDuring handling of the above exception, another exception occurred:\n",
      "\u001b[0;31mTypeError\u001b[0m                                 Traceback (most recent call last)",
      "\u001b[0;32m<ipython-input-121-e8e052fcd255>\u001b[0m in \u001b[0;36m<module>\u001b[0;34m\u001b[0m\n\u001b[0;32m----> 1\u001b[0;31m \u001b[0mnp\u001b[0m\u001b[0;34m.\u001b[0m\u001b[0msavetxt\u001b[0m\u001b[0;34m(\u001b[0m\u001b[0;34m'multi_txt'\u001b[0m\u001b[0;34m,\u001b[0m\u001b[0;34m(\u001b[0m\u001b[0mb\u001b[0m\u001b[0;34m,\u001b[0m\u001b[0mx\u001b[0m\u001b[0;34m)\u001b[0m\u001b[0;34m,\u001b[0m\u001b[0mheader\u001b[0m\u001b[0;34m=\u001b[0m\u001b[0;34m'plain-txt array'\u001b[0m\u001b[0;34m)\u001b[0m\u001b[0;34m\u001b[0m\u001b[0;34m\u001b[0m\u001b[0m\n\u001b[0m",
      "\u001b[0;32m<__array_function__ internals>\u001b[0m in \u001b[0;36msavetxt\u001b[0;34m(*args, **kwargs)\u001b[0m\n",
      "\u001b[0;32m/usr/lib/python3/dist-packages/numpy/lib/npyio.py\u001b[0m in \u001b[0;36msavetxt\u001b[0;34m(fname, X, fmt, delimiter, newline, header, footer, comments, encoding)\u001b[0m\n\u001b[1;32m   1424\u001b[0m                     \u001b[0mv\u001b[0m \u001b[0;34m=\u001b[0m \u001b[0mformat\u001b[0m \u001b[0;34m%\u001b[0m \u001b[0mtuple\u001b[0m\u001b[0;34m(\u001b[0m\u001b[0mrow\u001b[0m\u001b[0;34m)\u001b[0m \u001b[0;34m+\u001b[0m \u001b[0mnewline\u001b[0m\u001b[0;34m\u001b[0m\u001b[0;34m\u001b[0m\u001b[0m\n\u001b[1;32m   1425\u001b[0m                 \u001b[0;32mexcept\u001b[0m \u001b[0mTypeError\u001b[0m\u001b[0;34m:\u001b[0m\u001b[0;34m\u001b[0m\u001b[0;34m\u001b[0m\u001b[0m\n\u001b[0;32m-> 1426\u001b[0;31m                     raise TypeError(\"Mismatch between array dtype ('%s') and \"\n\u001b[0m\u001b[1;32m   1427\u001b[0m                                     \u001b[0;34m\"format specifier ('%s')\"\u001b[0m\u001b[0;34m\u001b[0m\u001b[0;34m\u001b[0m\u001b[0m\n\u001b[1;32m   1428\u001b[0m                                     % (str(X.dtype), format))\n",
      "\u001b[0;31mTypeError\u001b[0m: Mismatch between array dtype ('object') and format specifier ('%.18e')"
     ]
    }
   ],
   "source": [
    "np.savetxt('multi_txt',(b,x),header='plain-txt array')"
   ]
  },
  {
   "cell_type": "code",
   "execution_count": 122,
   "id": "loaded-fifteen",
   "metadata": {},
   "outputs": [
    {
     "name": "stderr",
     "output_type": "stream",
     "text": [
      "/usr/lib/python3/dist-packages/numpy/core/_asarray.py:83: VisibleDeprecationWarning: Creating an ndarray from ragged nested sequences (which is a list-or-tuple of lists-or-tuples-or ndarrays with different lengths or shapes) is deprecated. If you meant to do this, you must specify 'dtype=object' when creating the ndarray\n",
      "  return array(a, dtype, copy=False, order=order)\n"
     ]
    },
    {
     "ename": "TypeError",
     "evalue": "Mismatch between array dtype ('object') and format specifier ('%.18e')",
     "output_type": "error",
     "traceback": [
      "\u001b[0;31m---------------------------------------------------------------------------\u001b[0m",
      "\u001b[0;31mTypeError\u001b[0m                                 Traceback (most recent call last)",
      "\u001b[0;32m/usr/lib/python3/dist-packages/numpy/lib/npyio.py\u001b[0m in \u001b[0;36msavetxt\u001b[0;34m(fname, X, fmt, delimiter, newline, header, footer, comments, encoding)\u001b[0m\n\u001b[1;32m   1423\u001b[0m                 \u001b[0;32mtry\u001b[0m\u001b[0;34m:\u001b[0m\u001b[0;34m\u001b[0m\u001b[0;34m\u001b[0m\u001b[0m\n\u001b[0;32m-> 1424\u001b[0;31m                     \u001b[0mv\u001b[0m \u001b[0;34m=\u001b[0m \u001b[0mformat\u001b[0m \u001b[0;34m%\u001b[0m \u001b[0mtuple\u001b[0m\u001b[0;34m(\u001b[0m\u001b[0mrow\u001b[0m\u001b[0;34m)\u001b[0m \u001b[0;34m+\u001b[0m \u001b[0mnewline\u001b[0m\u001b[0;34m\u001b[0m\u001b[0;34m\u001b[0m\u001b[0m\n\u001b[0m\u001b[1;32m   1425\u001b[0m                 \u001b[0;32mexcept\u001b[0m \u001b[0mTypeError\u001b[0m\u001b[0;34m:\u001b[0m\u001b[0;34m\u001b[0m\u001b[0;34m\u001b[0m\u001b[0m\n",
      "\u001b[0;31mTypeError\u001b[0m: only size-1 arrays can be converted to Python scalars",
      "\nDuring handling of the above exception, another exception occurred:\n",
      "\u001b[0;31mTypeError\u001b[0m                                 Traceback (most recent call last)",
      "\u001b[0;32m<ipython-input-122-976d77812266>\u001b[0m in \u001b[0;36m<module>\u001b[0;34m\u001b[0m\n\u001b[0;32m----> 1\u001b[0;31m \u001b[0mnp\u001b[0m\u001b[0;34m.\u001b[0m\u001b[0msavetxt\u001b[0m\u001b[0;34m(\u001b[0m\u001b[0;34m'multi_txt'\u001b[0m\u001b[0;34m,\u001b[0m\u001b[0;34m(\u001b[0m\u001b[0mb\u001b[0m\u001b[0;34m,\u001b[0m\u001b[0mx\u001b[0m\u001b[0;34m)\u001b[0m\u001b[0;34m,\u001b[0m\u001b[0mheader\u001b[0m\u001b[0;34m=\u001b[0m\u001b[0;34m'plain-txt array'\u001b[0m\u001b[0;34m,\u001b[0m\u001b[0mdelimiter\u001b[0m\u001b[0;34m=\u001b[0m\u001b[0;34m','\u001b[0m\u001b[0;34m)\u001b[0m\u001b[0;34m\u001b[0m\u001b[0;34m\u001b[0m\u001b[0m\n\u001b[0m",
      "\u001b[0;32m<__array_function__ internals>\u001b[0m in \u001b[0;36msavetxt\u001b[0;34m(*args, **kwargs)\u001b[0m\n",
      "\u001b[0;32m/usr/lib/python3/dist-packages/numpy/lib/npyio.py\u001b[0m in \u001b[0;36msavetxt\u001b[0;34m(fname, X, fmt, delimiter, newline, header, footer, comments, encoding)\u001b[0m\n\u001b[1;32m   1424\u001b[0m                     \u001b[0mv\u001b[0m \u001b[0;34m=\u001b[0m \u001b[0mformat\u001b[0m \u001b[0;34m%\u001b[0m \u001b[0mtuple\u001b[0m\u001b[0;34m(\u001b[0m\u001b[0mrow\u001b[0m\u001b[0;34m)\u001b[0m \u001b[0;34m+\u001b[0m \u001b[0mnewline\u001b[0m\u001b[0;34m\u001b[0m\u001b[0;34m\u001b[0m\u001b[0m\n\u001b[1;32m   1425\u001b[0m                 \u001b[0;32mexcept\u001b[0m \u001b[0mTypeError\u001b[0m\u001b[0;34m:\u001b[0m\u001b[0;34m\u001b[0m\u001b[0;34m\u001b[0m\u001b[0m\n\u001b[0;32m-> 1426\u001b[0;31m                     raise TypeError(\"Mismatch between array dtype ('%s') and \"\n\u001b[0m\u001b[1;32m   1427\u001b[0m                                     \u001b[0;34m\"format specifier ('%s')\"\u001b[0m\u001b[0;34m\u001b[0m\u001b[0;34m\u001b[0m\u001b[0m\n\u001b[1;32m   1428\u001b[0m                                     % (str(X.dtype), format))\n",
      "\u001b[0;31mTypeError\u001b[0m: Mismatch between array dtype ('object') and format specifier ('%.18e')"
     ]
    }
   ],
   "source": [
    "np.savetxt('multi_txt',(b,x),header='plain-txt array',delimiter=',')"
   ]
  },
  {
   "cell_type": "code",
   "execution_count": 123,
   "id": "unavailable-designer",
   "metadata": {},
   "outputs": [],
   "source": [
    "np.savetxt('multi_txt',b,header='plain-txt array')"
   ]
  },
  {
   "cell_type": "code",
   "execution_count": 124,
   "id": "applied-wrapping",
   "metadata": {},
   "outputs": [],
   "source": [
    "np.savez_compressed('multi_cmp',b,x)"
   ]
  },
  {
   "cell_type": "code",
   "execution_count": 128,
   "id": "willing-anthropology",
   "metadata": {},
   "outputs": [
    {
     "data": {
      "text/plain": [
       "\u001b[0;31mSignature:\u001b[0m\n",
       "\u001b[0mnp\u001b[0m\u001b[0;34m.\u001b[0m\u001b[0mload\u001b[0m\u001b[0;34m(\u001b[0m\u001b[0;34m\u001b[0m\n",
       "\u001b[0;34m\u001b[0m    \u001b[0mfile\u001b[0m\u001b[0;34m,\u001b[0m\u001b[0;34m\u001b[0m\n",
       "\u001b[0;34m\u001b[0m    \u001b[0mmmap_mode\u001b[0m\u001b[0;34m=\u001b[0m\u001b[0;32mNone\u001b[0m\u001b[0;34m,\u001b[0m\u001b[0;34m\u001b[0m\n",
       "\u001b[0;34m\u001b[0m    \u001b[0mallow_pickle\u001b[0m\u001b[0;34m=\u001b[0m\u001b[0;32mFalse\u001b[0m\u001b[0;34m,\u001b[0m\u001b[0;34m\u001b[0m\n",
       "\u001b[0;34m\u001b[0m    \u001b[0mfix_imports\u001b[0m\u001b[0;34m=\u001b[0m\u001b[0;32mTrue\u001b[0m\u001b[0;34m,\u001b[0m\u001b[0;34m\u001b[0m\n",
       "\u001b[0;34m\u001b[0m    \u001b[0mencoding\u001b[0m\u001b[0;34m=\u001b[0m\u001b[0;34m'ASCII'\u001b[0m\u001b[0;34m,\u001b[0m\u001b[0;34m\u001b[0m\n",
       "\u001b[0;34m\u001b[0m\u001b[0;34m)\u001b[0m\u001b[0;34m\u001b[0m\u001b[0;34m\u001b[0m\u001b[0m\n",
       "\u001b[0;31mDocstring:\u001b[0m\n",
       "Load arrays or pickled objects from ``.npy``, ``.npz`` or pickled files.\n",
       "\n",
       ".. warning:: Loading files that contain object arrays uses the ``pickle``\n",
       "             module, which is not secure against erroneous or maliciously\n",
       "             constructed data. Consider passing ``allow_pickle=False`` to\n",
       "             load data that is known not to contain object arrays for the\n",
       "             safer handling of untrusted sources.\n",
       "\n",
       "Parameters\n",
       "----------\n",
       "file : file-like object, string, or pathlib.Path\n",
       "    The file to read. File-like objects must support the\n",
       "    ``seek()`` and ``read()`` methods. Pickled files require that the\n",
       "    file-like object support the ``readline()`` method as well.\n",
       "mmap_mode : {None, 'r+', 'r', 'w+', 'c'}, optional\n",
       "    If not None, then memory-map the file, using the given mode (see\n",
       "    `numpy.memmap` for a detailed description of the modes).  A\n",
       "    memory-mapped array is kept on disk. However, it can be accessed\n",
       "    and sliced like any ndarray.  Memory mapping is especially useful\n",
       "    for accessing small fragments of large files without reading the\n",
       "    entire file into memory.\n",
       "allow_pickle : bool, optional\n",
       "    Allow loading pickled object arrays stored in npy files. Reasons for\n",
       "    disallowing pickles include security, as loading pickled data can\n",
       "    execute arbitrary code. If pickles are disallowed, loading object\n",
       "    arrays will fail. Default: False\n",
       "\n",
       "    .. versionchanged:: 1.16.3\n",
       "        Made default False in response to CVE-2019-6446.\n",
       "\n",
       "fix_imports : bool, optional\n",
       "    Only useful when loading Python 2 generated pickled files on Python 3,\n",
       "    which includes npy/npz files containing object arrays. If `fix_imports`\n",
       "    is True, pickle will try to map the old Python 2 names to the new names\n",
       "    used in Python 3.\n",
       "encoding : str, optional\n",
       "    What encoding to use when reading Python 2 strings. Only useful when\n",
       "    loading Python 2 generated pickled files in Python 3, which includes\n",
       "    npy/npz files containing object arrays. Values other than 'latin1',\n",
       "    'ASCII', and 'bytes' are not allowed, as they can corrupt numerical\n",
       "    data. Default: 'ASCII'\n",
       "\n",
       "Returns\n",
       "-------\n",
       "result : array, tuple, dict, etc.\n",
       "    Data stored in the file. For ``.npz`` files, the returned instance\n",
       "    of NpzFile class must be closed to avoid leaking file descriptors.\n",
       "\n",
       "Raises\n",
       "------\n",
       "IOError\n",
       "    If the input file does not exist or cannot be read.\n",
       "ValueError\n",
       "    The file contains an object array, but allow_pickle=False given.\n",
       "\n",
       "See Also\n",
       "--------\n",
       "save, savez, savez_compressed, loadtxt\n",
       "memmap : Create a memory-map to an array stored in a file on disk.\n",
       "lib.format.open_memmap : Create or load a memory-mapped ``.npy`` file.\n",
       "\n",
       "Notes\n",
       "-----\n",
       "- If the file contains pickle data, then whatever object is stored\n",
       "  in the pickle is returned.\n",
       "- If the file is a ``.npy`` file, then a single array is returned.\n",
       "- If the file is a ``.npz`` file, then a dictionary-like object is\n",
       "  returned, containing ``{filename: array}`` key-value pairs, one for\n",
       "  each file in the archive.\n",
       "- If the file is a ``.npz`` file, the returned value supports the\n",
       "  context manager protocol in a similar fashion to the open function::\n",
       "\n",
       "    with load('foo.npz') as data:\n",
       "        a = data['a']\n",
       "\n",
       "  The underlying file descriptor is closed when exiting the 'with'\n",
       "  block.\n",
       "\n",
       "Examples\n",
       "--------\n",
       "Store data to disk, and load it again:\n",
       "\n",
       ">>> np.save('/tmp/123', np.array([[1, 2, 3], [4, 5, 6]]))\n",
       ">>> np.load('/tmp/123.npy')\n",
       "array([[1, 2, 3],\n",
       "       [4, 5, 6]])\n",
       "\n",
       "Store compressed data to disk, and load it again:\n",
       "\n",
       ">>> a=np.array([[1, 2, 3], [4, 5, 6]])\n",
       ">>> b=np.array([1, 2])\n",
       ">>> np.savez('/tmp/123.npz', a=a, b=b)\n",
       ">>> data = np.load('/tmp/123.npz')\n",
       ">>> data['a']\n",
       "array([[1, 2, 3],\n",
       "       [4, 5, 6]])\n",
       ">>> data['b']\n",
       "array([1, 2])\n",
       ">>> data.close()\n",
       "\n",
       "Mem-map the stored array, and then access the second row\n",
       "directly from disk:\n",
       "\n",
       ">>> X = np.load('/tmp/123.npy', mmap_mode='r')\n",
       ">>> X[1, :]\n",
       "memmap([4, 5, 6])\n",
       "\u001b[0;31mFile:\u001b[0m      /usr/lib/python3/dist-packages/numpy/lib/npyio.py\n",
       "\u001b[0;31mType:\u001b[0m      function\n"
      ]
     },
     "metadata": {},
     "output_type": "display_data"
    }
   ],
   "source": [
    "a=np.load?"
   ]
  },
  {
   "cell_type": "code",
   "execution_count": null,
   "id": "static-banking",
   "metadata": {},
   "outputs": [],
   "source": [
    "a=np.load"
   ]
  },
  {
   "cell_type": "code",
   "execution_count": 129,
   "id": "found-distinction",
   "metadata": {},
   "outputs": [
    {
     "data": {
      "text/plain": [
       "\u001b[0;31mSignature:\u001b[0m\n",
       "\u001b[0mnp\u001b[0m\u001b[0;34m.\u001b[0m\u001b[0mgenfromtxt\u001b[0m\u001b[0;34m(\u001b[0m\u001b[0;34m\u001b[0m\n",
       "\u001b[0;34m\u001b[0m    \u001b[0mfname\u001b[0m\u001b[0;34m,\u001b[0m\u001b[0;34m\u001b[0m\n",
       "\u001b[0;34m\u001b[0m    \u001b[0mdtype\u001b[0m\u001b[0;34m=\u001b[0m\u001b[0;34m<\u001b[0m\u001b[0;32mclass\u001b[0m \u001b[0;34m'float'\u001b[0m\u001b[0;34m>\u001b[0m\u001b[0;34m,\u001b[0m\u001b[0;34m\u001b[0m\n",
       "\u001b[0;34m\u001b[0m    \u001b[0mcomments\u001b[0m\u001b[0;34m=\u001b[0m\u001b[0;34m'#'\u001b[0m\u001b[0;34m,\u001b[0m\u001b[0;34m\u001b[0m\n",
       "\u001b[0;34m\u001b[0m    \u001b[0mdelimiter\u001b[0m\u001b[0;34m=\u001b[0m\u001b[0;32mNone\u001b[0m\u001b[0;34m,\u001b[0m\u001b[0;34m\u001b[0m\n",
       "\u001b[0;34m\u001b[0m    \u001b[0mskip_header\u001b[0m\u001b[0;34m=\u001b[0m\u001b[0;36m0\u001b[0m\u001b[0;34m,\u001b[0m\u001b[0;34m\u001b[0m\n",
       "\u001b[0;34m\u001b[0m    \u001b[0mskip_footer\u001b[0m\u001b[0;34m=\u001b[0m\u001b[0;36m0\u001b[0m\u001b[0;34m,\u001b[0m\u001b[0;34m\u001b[0m\n",
       "\u001b[0;34m\u001b[0m    \u001b[0mconverters\u001b[0m\u001b[0;34m=\u001b[0m\u001b[0;32mNone\u001b[0m\u001b[0;34m,\u001b[0m\u001b[0;34m\u001b[0m\n",
       "\u001b[0;34m\u001b[0m    \u001b[0mmissing_values\u001b[0m\u001b[0;34m=\u001b[0m\u001b[0;32mNone\u001b[0m\u001b[0;34m,\u001b[0m\u001b[0;34m\u001b[0m\n",
       "\u001b[0;34m\u001b[0m    \u001b[0mfilling_values\u001b[0m\u001b[0;34m=\u001b[0m\u001b[0;32mNone\u001b[0m\u001b[0;34m,\u001b[0m\u001b[0;34m\u001b[0m\n",
       "\u001b[0;34m\u001b[0m    \u001b[0musecols\u001b[0m\u001b[0;34m=\u001b[0m\u001b[0;32mNone\u001b[0m\u001b[0;34m,\u001b[0m\u001b[0;34m\u001b[0m\n",
       "\u001b[0;34m\u001b[0m    \u001b[0mnames\u001b[0m\u001b[0;34m=\u001b[0m\u001b[0;32mNone\u001b[0m\u001b[0;34m,\u001b[0m\u001b[0;34m\u001b[0m\n",
       "\u001b[0;34m\u001b[0m    \u001b[0mexcludelist\u001b[0m\u001b[0;34m=\u001b[0m\u001b[0;32mNone\u001b[0m\u001b[0;34m,\u001b[0m\u001b[0;34m\u001b[0m\n",
       "\u001b[0;34m\u001b[0m    \u001b[0mdeletechars\u001b[0m\u001b[0;34m=\u001b[0m\u001b[0;34m\" !#$%&'()*+,-./:;<=>?@[\\\\]^{|}~\"\u001b[0m\u001b[0;34m,\u001b[0m\u001b[0;34m\u001b[0m\n",
       "\u001b[0;34m\u001b[0m    \u001b[0mreplace_space\u001b[0m\u001b[0;34m=\u001b[0m\u001b[0;34m'_'\u001b[0m\u001b[0;34m,\u001b[0m\u001b[0;34m\u001b[0m\n",
       "\u001b[0;34m\u001b[0m    \u001b[0mautostrip\u001b[0m\u001b[0;34m=\u001b[0m\u001b[0;32mFalse\u001b[0m\u001b[0;34m,\u001b[0m\u001b[0;34m\u001b[0m\n",
       "\u001b[0;34m\u001b[0m    \u001b[0mcase_sensitive\u001b[0m\u001b[0;34m=\u001b[0m\u001b[0;32mTrue\u001b[0m\u001b[0;34m,\u001b[0m\u001b[0;34m\u001b[0m\n",
       "\u001b[0;34m\u001b[0m    \u001b[0mdefaultfmt\u001b[0m\u001b[0;34m=\u001b[0m\u001b[0;34m'f%i'\u001b[0m\u001b[0;34m,\u001b[0m\u001b[0;34m\u001b[0m\n",
       "\u001b[0;34m\u001b[0m    \u001b[0munpack\u001b[0m\u001b[0;34m=\u001b[0m\u001b[0;32mNone\u001b[0m\u001b[0;34m,\u001b[0m\u001b[0;34m\u001b[0m\n",
       "\u001b[0;34m\u001b[0m    \u001b[0musemask\u001b[0m\u001b[0;34m=\u001b[0m\u001b[0;32mFalse\u001b[0m\u001b[0;34m,\u001b[0m\u001b[0;34m\u001b[0m\n",
       "\u001b[0;34m\u001b[0m    \u001b[0mloose\u001b[0m\u001b[0;34m=\u001b[0m\u001b[0;32mTrue\u001b[0m\u001b[0;34m,\u001b[0m\u001b[0;34m\u001b[0m\n",
       "\u001b[0;34m\u001b[0m    \u001b[0minvalid_raise\u001b[0m\u001b[0;34m=\u001b[0m\u001b[0;32mTrue\u001b[0m\u001b[0;34m,\u001b[0m\u001b[0;34m\u001b[0m\n",
       "\u001b[0;34m\u001b[0m    \u001b[0mmax_rows\u001b[0m\u001b[0;34m=\u001b[0m\u001b[0;32mNone\u001b[0m\u001b[0;34m,\u001b[0m\u001b[0;34m\u001b[0m\n",
       "\u001b[0;34m\u001b[0m    \u001b[0mencoding\u001b[0m\u001b[0;34m=\u001b[0m\u001b[0;34m'bytes'\u001b[0m\u001b[0;34m,\u001b[0m\u001b[0;34m\u001b[0m\n",
       "\u001b[0;34m\u001b[0m\u001b[0;34m)\u001b[0m\u001b[0;34m\u001b[0m\u001b[0;34m\u001b[0m\u001b[0m\n",
       "\u001b[0;31mDocstring:\u001b[0m\n",
       "Load data from a text file, with missing values handled as specified.\n",
       "\n",
       "Each line past the first `skip_header` lines is split at the `delimiter`\n",
       "character, and characters following the `comments` character are discarded.\n",
       "\n",
       "Parameters\n",
       "----------\n",
       "fname : file, str, pathlib.Path, list of str, generator\n",
       "    File, filename, list, or generator to read.  If the filename\n",
       "    extension is `.gz` or `.bz2`, the file is first decompressed. Note\n",
       "    that generators must return byte strings. The strings\n",
       "    in a list or produced by a generator are treated as lines.\n",
       "dtype : dtype, optional\n",
       "    Data type of the resulting array.\n",
       "    If None, the dtypes will be determined by the contents of each\n",
       "    column, individually.\n",
       "comments : str, optional\n",
       "    The character used to indicate the start of a comment.\n",
       "    All the characters occurring on a line after a comment are discarded\n",
       "delimiter : str, int, or sequence, optional\n",
       "    The string used to separate values.  By default, any consecutive\n",
       "    whitespaces act as delimiter.  An integer or sequence of integers\n",
       "    can also be provided as width(s) of each field.\n",
       "skiprows : int, optional\n",
       "    `skiprows` was removed in numpy 1.10. Please use `skip_header` instead.\n",
       "skip_header : int, optional\n",
       "    The number of lines to skip at the beginning of the file.\n",
       "skip_footer : int, optional\n",
       "    The number of lines to skip at the end of the file.\n",
       "converters : variable, optional\n",
       "    The set of functions that convert the data of a column to a value.\n",
       "    The converters can also be used to provide a default value\n",
       "    for missing data: ``converters = {3: lambda s: float(s or 0)}``.\n",
       "missing : variable, optional\n",
       "    `missing` was removed in numpy 1.10. Please use `missing_values`\n",
       "    instead.\n",
       "missing_values : variable, optional\n",
       "    The set of strings corresponding to missing data.\n",
       "filling_values : variable, optional\n",
       "    The set of values to be used as default when the data are missing.\n",
       "usecols : sequence, optional\n",
       "    Which columns to read, with 0 being the first.  For example,\n",
       "    ``usecols = (1, 4, 5)`` will extract the 2nd, 5th and 6th columns.\n",
       "names : {None, True, str, sequence}, optional\n",
       "    If `names` is True, the field names are read from the first line after\n",
       "    the first `skip_header` lines.  This line can optionally be proceeded\n",
       "    by a comment delimiter. If `names` is a sequence or a single-string of\n",
       "    comma-separated names, the names will be used to define the field names\n",
       "    in a structured dtype. If `names` is None, the names of the dtype\n",
       "    fields will be used, if any.\n",
       "excludelist : sequence, optional\n",
       "    A list of names to exclude. This list is appended to the default list\n",
       "    ['return','file','print']. Excluded names are appended an underscore:\n",
       "    for example, `file` would become `file_`.\n",
       "deletechars : str, optional\n",
       "    A string combining invalid characters that must be deleted from the\n",
       "    names.\n",
       "defaultfmt : str, optional\n",
       "    A format used to define default field names, such as \"f%i\" or \"f_%02i\".\n",
       "autostrip : bool, optional\n",
       "    Whether to automatically strip white spaces from the variables.\n",
       "replace_space : char, optional\n",
       "    Character(s) used in replacement of white spaces in the variables\n",
       "    names. By default, use a '_'.\n",
       "case_sensitive : {True, False, 'upper', 'lower'}, optional\n",
       "    If True, field names are case sensitive.\n",
       "    If False or 'upper', field names are converted to upper case.\n",
       "    If 'lower', field names are converted to lower case.\n",
       "unpack : bool, optional\n",
       "    If True, the returned array is transposed, so that arguments may be\n",
       "    unpacked using ``x, y, z = loadtxt(...)``\n",
       "usemask : bool, optional\n",
       "    If True, return a masked array.\n",
       "    If False, return a regular array.\n",
       "loose : bool, optional\n",
       "    If True, do not raise errors for invalid values.\n",
       "invalid_raise : bool, optional\n",
       "    If True, an exception is raised if an inconsistency is detected in the\n",
       "    number of columns.\n",
       "    If False, a warning is emitted and the offending lines are skipped.\n",
       "max_rows : int,  optional\n",
       "    The maximum number of rows to read. Must not be used with skip_footer\n",
       "    at the same time.  If given, the value must be at least 1. Default is\n",
       "    to read the entire file.\n",
       "\n",
       "    .. versionadded:: 1.10.0\n",
       "encoding : str, optional\n",
       "    Encoding used to decode the inputfile. Does not apply when `fname` is\n",
       "    a file object.  The special value 'bytes' enables backward compatibility\n",
       "    workarounds that ensure that you receive byte arrays when possible\n",
       "    and passes latin1 encoded strings to converters. Override this value to\n",
       "    receive unicode arrays and pass strings as input to converters.  If set\n",
       "    to None the system default is used. The default value is 'bytes'.\n",
       "\n",
       "    .. versionadded:: 1.14.0\n",
       "\n",
       "Returns\n",
       "-------\n",
       "out : ndarray\n",
       "    Data read from the text file. If `usemask` is True, this is a\n",
       "    masked array.\n",
       "\n",
       "See Also\n",
       "--------\n",
       "numpy.loadtxt : equivalent function when no data is missing.\n",
       "\n",
       "Notes\n",
       "-----\n",
       "* When spaces are used as delimiters, or when no delimiter has been given\n",
       "  as input, there should not be any missing data between two fields.\n",
       "* When the variables are named (either by a flexible dtype or with `names`),\n",
       "  there must not be any header in the file (else a ValueError\n",
       "  exception is raised).\n",
       "* Individual values are not stripped of spaces by default.\n",
       "  When using a custom converter, make sure the function does remove spaces.\n",
       "\n",
       "References\n",
       "----------\n",
       ".. [1] NumPy User Guide, section `I/O with NumPy\n",
       "       <https://docs.scipy.org/doc/numpy/user/basics.io.genfromtxt.html>`_.\n",
       "\n",
       "Examples\n",
       "---------\n",
       ">>> from io import StringIO\n",
       ">>> import numpy as np\n",
       "\n",
       "Comma delimited file with mixed dtype\n",
       "\n",
       ">>> s = StringIO(u\"1,1.3,abcde\")\n",
       ">>> data = np.genfromtxt(s, dtype=[('myint','i8'),('myfloat','f8'),\n",
       "... ('mystring','S5')], delimiter=\",\")\n",
       ">>> data\n",
       "array((1, 1.3, b'abcde'),\n",
       "      dtype=[('myint', '<i8'), ('myfloat', '<f8'), ('mystring', 'S5')])\n",
       "\n",
       "Using dtype = None\n",
       "\n",
       ">>> _ = s.seek(0) # needed for StringIO example only\n",
       ">>> data = np.genfromtxt(s, dtype=None,\n",
       "... names = ['myint','myfloat','mystring'], delimiter=\",\")\n",
       ">>> data\n",
       "array((1, 1.3, b'abcde'),\n",
       "      dtype=[('myint', '<i8'), ('myfloat', '<f8'), ('mystring', 'S5')])\n",
       "\n",
       "Specifying dtype and names\n",
       "\n",
       ">>> _ = s.seek(0)\n",
       ">>> data = np.genfromtxt(s, dtype=\"i8,f8,S5\",\n",
       "... names=['myint','myfloat','mystring'], delimiter=\",\")\n",
       ">>> data\n",
       "array((1, 1.3, b'abcde'),\n",
       "      dtype=[('myint', '<i8'), ('myfloat', '<f8'), ('mystring', 'S5')])\n",
       "\n",
       "An example with fixed-width columns\n",
       "\n",
       ">>> s = StringIO(u\"11.3abcde\")\n",
       ">>> data = np.genfromtxt(s, dtype=None, names=['intvar','fltvar','strvar'],\n",
       "...     delimiter=[1,3,5])\n",
       ">>> data\n",
       "array((1, 1.3, b'abcde'),\n",
       "      dtype=[('intvar', '<i8'), ('fltvar', '<f8'), ('strvar', 'S5')])\n",
       "\n",
       "An example to show comments\n",
       "\n",
       ">>> f = StringIO('''\n",
       "... text,# of chars\n",
       "... hello world,11\n",
       "... numpy,5''')\n",
       ">>> np.genfromtxt(f, dtype='S12,S12', delimiter=',')\n",
       "array([(b'text', b''), (b'hello world', b'11'), (b'numpy', b'5')],\n",
       "  dtype=[('f0', 'S12'), ('f1', 'S12')])\n",
       "\u001b[0;31mFile:\u001b[0m      /usr/lib/python3/dist-packages/numpy/lib/npyio.py\n",
       "\u001b[0;31mType:\u001b[0m      function\n"
      ]
     },
     "metadata": {},
     "output_type": "display_data"
    }
   ],
   "source": [
    "np.genfromtxt?"
   ]
  },
  {
   "cell_type": "code",
   "execution_count": 130,
   "id": "legitimate-choice",
   "metadata": {},
   "outputs": [],
   "source": [
    "from io import StringIO"
   ]
  },
  {
   "cell_type": "code",
   "execution_count": 131,
   "id": "conceptual-screw",
   "metadata": {},
   "outputs": [],
   "source": [
    "f=StringIO(u\"1,1.3,abcd\")"
   ]
  },
  {
   "cell_type": "code",
   "execution_count": 135,
   "id": "prospective-korea",
   "metadata": {},
   "outputs": [],
   "source": [
    "data=np.genfromtxt(f,dtype=[('myint','i8'),('myfloat','f8'),('mychar','a5')],delimiter=',')"
   ]
  },
  {
   "cell_type": "code",
   "execution_count": 136,
   "id": "veterinary-mills",
   "metadata": {},
   "outputs": [
    {
     "data": {
      "text/plain": [
       "array((1, 1.3, b'abcd'),\n",
       "      dtype=[('myint', '<i8'), ('myfloat', '<f8'), ('mychar', 'S5')])"
      ]
     },
     "execution_count": 136,
     "metadata": {},
     "output_type": "execute_result"
    }
   ],
   "source": [
    "data"
   ]
  },
  {
   "cell_type": "code",
   "execution_count": 137,
   "id": "broadband-frost",
   "metadata": {},
   "outputs": [
    {
     "data": {
      "text/plain": [
       "\u001b[0;31mSignature:\u001b[0m \u001b[0mnp\u001b[0m\u001b[0;34m.\u001b[0m\u001b[0meye\u001b[0m\u001b[0;34m(\u001b[0m\u001b[0mN\u001b[0m\u001b[0;34m,\u001b[0m \u001b[0mM\u001b[0m\u001b[0;34m=\u001b[0m\u001b[0;32mNone\u001b[0m\u001b[0;34m,\u001b[0m \u001b[0mk\u001b[0m\u001b[0;34m=\u001b[0m\u001b[0;36m0\u001b[0m\u001b[0;34m,\u001b[0m \u001b[0mdtype\u001b[0m\u001b[0;34m=\u001b[0m\u001b[0;34m<\u001b[0m\u001b[0;32mclass\u001b[0m \u001b[0;34m'float'\u001b[0m\u001b[0;34m>\u001b[0m\u001b[0;34m,\u001b[0m \u001b[0morder\u001b[0m\u001b[0;34m=\u001b[0m\u001b[0;34m'C'\u001b[0m\u001b[0;34m)\u001b[0m\u001b[0;34m\u001b[0m\u001b[0;34m\u001b[0m\u001b[0m\n",
       "\u001b[0;31mDocstring:\u001b[0m\n",
       "Return a 2-D array with ones on the diagonal and zeros elsewhere.\n",
       "\n",
       "Parameters\n",
       "----------\n",
       "N : int\n",
       "  Number of rows in the output.\n",
       "M : int, optional\n",
       "  Number of columns in the output. If None, defaults to `N`.\n",
       "k : int, optional\n",
       "  Index of the diagonal: 0 (the default) refers to the main diagonal,\n",
       "  a positive value refers to an upper diagonal, and a negative value\n",
       "  to a lower diagonal.\n",
       "dtype : data-type, optional\n",
       "  Data-type of the returned array.\n",
       "order : {'C', 'F'}, optional\n",
       "    Whether the output should be stored in row-major (C-style) or\n",
       "    column-major (Fortran-style) order in memory.\n",
       "\n",
       "    .. versionadded:: 1.14.0\n",
       "\n",
       "Returns\n",
       "-------\n",
       "I : ndarray of shape (N,M)\n",
       "  An array where all elements are equal to zero, except for the `k`-th\n",
       "  diagonal, whose values are equal to one.\n",
       "\n",
       "See Also\n",
       "--------\n",
       "identity : (almost) equivalent function\n",
       "diag : diagonal 2-D array from a 1-D array specified by the user.\n",
       "\n",
       "Examples\n",
       "--------\n",
       ">>> np.eye(2, dtype=int)\n",
       "array([[1, 0],\n",
       "       [0, 1]])\n",
       ">>> np.eye(3, k=1)\n",
       "array([[0.,  1.,  0.],\n",
       "       [0.,  0.,  1.],\n",
       "       [0.,  0.,  0.]])\n",
       "\u001b[0;31mFile:\u001b[0m      /usr/lib/python3/dist-packages/numpy/lib/twodim_base.py\n",
       "\u001b[0;31mType:\u001b[0m      function\n"
      ]
     },
     "metadata": {},
     "output_type": "display_data"
    }
   ],
   "source": [
    "np.eye?np"
   ]
  },
  {
   "cell_type": "code",
   "execution_count": 138,
   "id": "martial-removal",
   "metadata": {},
   "outputs": [
    {
     "data": {
      "text/plain": [
       "array([[1., 0., 0.],\n",
       "       [0., 1., 0.]])"
      ]
     },
     "execution_count": 138,
     "metadata": {},
     "output_type": "execute_result"
    }
   ],
   "source": [
    "np.eye(2,3)"
   ]
  },
  {
   "cell_type": "code",
   "execution_count": 139,
   "id": "external-kitchen",
   "metadata": {},
   "outputs": [
    {
     "data": {
      "text/plain": [
       "array([[1., 0., 0.],\n",
       "       [0., 1., 0.],\n",
       "       [0., 0., 1.]])"
      ]
     },
     "execution_count": 139,
     "metadata": {},
     "output_type": "execute_result"
    }
   ],
   "source": [
    "np.eye(3,3)"
   ]
  },
  {
   "cell_type": "code",
   "execution_count": 140,
   "id": "spare-sharp",
   "metadata": {},
   "outputs": [
    {
     "data": {
      "text/plain": [
       "array([[1, 0, 0],\n",
       "       [0, 1, 0],\n",
       "       [0, 0, 1]], dtype=int32)"
      ]
     },
     "execution_count": 140,
     "metadata": {},
     "output_type": "execute_result"
    }
   ],
   "source": [
    "np.eye(3,3,dtype='int32')"
   ]
  },
  {
   "cell_type": "code",
   "execution_count": 141,
   "id": "arabic-atmosphere",
   "metadata": {},
   "outputs": [
    {
     "data": {
      "text/plain": [
       "array([[0, 0, 0],\n",
       "       [1, 0, 0],\n",
       "       [0, 1, 0]], dtype=int32)"
      ]
     },
     "execution_count": 141,
     "metadata": {},
     "output_type": "execute_result"
    }
   ],
   "source": [
    "np.eye(3,3,dtype='int32',k=-1)"
   ]
  },
  {
   "cell_type": "code",
   "execution_count": 142,
   "id": "czech-encoding",
   "metadata": {},
   "outputs": [
    {
     "data": {
      "text/plain": [
       "array([[0, 1, 0],\n",
       "       [0, 0, 1],\n",
       "       [0, 0, 0]], dtype=int32)"
      ]
     },
     "execution_count": 142,
     "metadata": {},
     "output_type": "execute_result"
    }
   ],
   "source": [
    "np.eye(3,3,dtype='int32',k=1)"
   ]
  },
  {
   "cell_type": "code",
   "execution_count": 143,
   "id": "silver-experiment",
   "metadata": {},
   "outputs": [
    {
     "data": {
      "text/plain": [
       "array([[0, 0, 0],\n",
       "       [1, 0, 0],\n",
       "       [0, 1, 0]], dtype=int32)"
      ]
     },
     "execution_count": 143,
     "metadata": {},
     "output_type": "execute_result"
    }
   ],
   "source": [
    "np.eye(3,3,dtype='int32',k=-1)"
   ]
  },
  {
   "cell_type": "code",
   "execution_count": 144,
   "id": "dutch-minister",
   "metadata": {},
   "outputs": [
    {
     "ename": "TypeError",
     "evalue": "empty() missing required argument 'shape' (pos 1)",
     "output_type": "error",
     "traceback": [
      "\u001b[0;31m---------------------------------------------------------------------------\u001b[0m",
      "\u001b[0;31mTypeError\u001b[0m                                 Traceback (most recent call last)",
      "\u001b[0;32m<ipython-input-144-d18d581e1fd9>\u001b[0m in \u001b[0;36m<module>\u001b[0;34m\u001b[0m\n\u001b[0;32m----> 1\u001b[0;31m \u001b[0mnp\u001b[0m\u001b[0;34m.\u001b[0m\u001b[0mempty\u001b[0m\u001b[0;34m(\u001b[0m\u001b[0;34m)\u001b[0m\u001b[0;34m\u001b[0m\u001b[0;34m\u001b[0m\u001b[0m\n\u001b[0m",
      "\u001b[0;31mTypeError\u001b[0m: empty() missing required argument 'shape' (pos 1)"
     ]
    }
   ],
   "source": [
    "np.empty()"
   ]
  },
  {
   "cell_type": "code",
   "execution_count": 146,
   "id": "russian-chorus",
   "metadata": {},
   "outputs": [
    {
     "data": {
      "text/plain": [
       "array([[1., 0., 0.],\n",
       "       [0., 1., 0.],\n",
       "       [0., 0., 1.]])"
      ]
     },
     "execution_count": 146,
     "metadata": {},
     "output_type": "execute_result"
    }
   ],
   "source": [
    "np.empty((3,3))"
   ]
  },
  {
   "cell_type": "code",
   "execution_count": 147,
   "id": "bored-jonathan",
   "metadata": {},
   "outputs": [
    {
     "data": {
      "text/plain": [
       "array([22.  ,  4.25,  4.5 ,  4.75,  5.  ])"
      ]
     },
     "execution_count": 147,
     "metadata": {},
     "output_type": "execute_result"
    }
   ],
   "source": [
    "b"
   ]
  },
  {
   "cell_type": "code",
   "execution_count": 148,
   "id": "unlimited-column",
   "metadata": {},
   "outputs": [
    {
     "data": {
      "text/plain": [
       "array([(54,  8.5, 5. +4.3j, b'sanjay'), (45, 56.5, 8. +3.5j, b'swapnil'),\n",
       "       (98,  6.2, 9.3+3.j , b'chaitanya')],\n",
       "      dtype=[('f0', '<i4'), ('f1', '<f4'), ('f2', '<c8'), ('f3', 'S10')])"
      ]
     },
     "execution_count": 148,
     "metadata": {},
     "output_type": "execute_result"
    }
   ],
   "source": [
    "a"
   ]
  },
  {
   "cell_type": "code",
   "execution_count": 149,
   "id": "prerequisite-renewal",
   "metadata": {},
   "outputs": [
    {
     "data": {
      "text/plain": [
       "array([( 46974096, 0.0000000e+00, 0.00000000e+00+0.0000000e+00j, b''),\n",
       "       (        0, 0.0000000e+00, 5.60196527e-39+8.3819032e-07j, b'a339a9-ef0'),\n",
       "       (808725817, 4.1341762e-05, 1.00154095e-11+1.7186333e-04j, b'0af74434\\x94\\x7f')],\n",
       "      dtype=[('f0', '<i4'), ('f1', '<f4'), ('f2', '<c8'), ('f3', 'S10')])"
      ]
     },
     "execution_count": 149,
     "metadata": {},
     "output_type": "execute_result"
    }
   ],
   "source": [
    "np.empty_like(a)"
   ]
  },
  {
   "cell_type": "code",
   "execution_count": 150,
   "id": "conscious-filling",
   "metadata": {},
   "outputs": [],
   "source": [
    "a=np.linspace(4,20,9).reshape(3,3)"
   ]
  },
  {
   "cell_type": "code",
   "execution_count": 151,
   "id": "composite-innocent",
   "metadata": {},
   "outputs": [
    {
     "data": {
      "text/plain": [
       "array([[ 4.,  6.,  8.],\n",
       "       [10., 12., 14.],\n",
       "       [16., 18., 20.]])"
      ]
     },
     "execution_count": 151,
     "metadata": {},
     "output_type": "execute_result"
    }
   ],
   "source": [
    "a"
   ]
  },
  {
   "cell_type": "code",
   "execution_count": 152,
   "id": "completed-arena",
   "metadata": {},
   "outputs": [
    {
     "data": {
      "text/plain": [
       "array([[ 4., 10., 18.],\n",
       "       [10., 22., 36.],\n",
       "       [16., 34., 54.]])"
      ]
     },
     "execution_count": 152,
     "metadata": {},
     "output_type": "execute_result"
    }
   ],
   "source": [
    "a.cumsum(axis=1)"
   ]
  },
  {
   "cell_type": "code",
   "execution_count": 153,
   "id": "appropriate-decision",
   "metadata": {},
   "outputs": [
    {
     "data": {
      "text/plain": [
       "array([[ 4.,  6.,  8.],\n",
       "       [14., 18., 22.],\n",
       "       [30., 36., 42.]])"
      ]
     },
     "execution_count": 153,
     "metadata": {},
     "output_type": "execute_result"
    }
   ],
   "source": [
    "a.cumsum(axis=0)"
   ]
  },
  {
   "cell_type": "code",
   "execution_count": 154,
   "id": "simplified-wallet",
   "metadata": {},
   "outputs": [
    {
     "data": {
      "text/plain": [
       "array([[4.00e+00, 2.40e+01, 1.92e+02],\n",
       "       [1.00e+01, 1.20e+02, 1.68e+03],\n",
       "       [1.60e+01, 2.88e+02, 5.76e+03]])"
      ]
     },
     "execution_count": 154,
     "metadata": {},
     "output_type": "execute_result"
    }
   ],
   "source": [
    "a.cumprod(axis=1)"
   ]
  },
  {
   "cell_type": "code",
   "execution_count": 155,
   "id": "heard-talent",
   "metadata": {},
   "outputs": [
    {
     "data": {
      "text/plain": [
       "array([ 4., 12., 20.])"
      ]
     },
     "execution_count": 155,
     "metadata": {},
     "output_type": "execute_result"
    }
   ],
   "source": [
    "a.diagonal()"
   ]
  },
  {
   "cell_type": "code",
   "execution_count": 156,
   "id": "practical-policy",
   "metadata": {},
   "outputs": [
    {
     "ename": "TypeError",
     "evalue": "repeat() missing required argument 'repeats' (pos 1)",
     "output_type": "error",
     "traceback": [
      "\u001b[0;31m---------------------------------------------------------------------------\u001b[0m",
      "\u001b[0;31mTypeError\u001b[0m                                 Traceback (most recent call last)",
      "\u001b[0;32m<ipython-input-156-c40da1cf869a>\u001b[0m in \u001b[0;36m<module>\u001b[0;34m\u001b[0m\n\u001b[0;32m----> 1\u001b[0;31m \u001b[0ma\u001b[0m\u001b[0;34m.\u001b[0m\u001b[0mrepeat\u001b[0m\u001b[0;34m(\u001b[0m\u001b[0;34m)\u001b[0m\u001b[0;34m\u001b[0m\u001b[0;34m\u001b[0m\u001b[0m\n\u001b[0m",
      "\u001b[0;31mTypeError\u001b[0m: repeat() missing required argument 'repeats' (pos 1)"
     ]
    }
   ],
   "source": [
    "a.repeat()"
   ]
  },
  {
   "cell_type": "code",
   "execution_count": 157,
   "id": "unavailable-light",
   "metadata": {},
   "outputs": [
    {
     "data": {
      "text/plain": [
       "\u001b[0;31mDocstring:\u001b[0m\n",
       "a.repeat(repeats, axis=None)\n",
       "\n",
       "Repeat elements of an array.\n",
       "\n",
       "Refer to `numpy.repeat` for full documentation.\n",
       "\n",
       "See Also\n",
       "--------\n",
       "numpy.repeat : equivalent function\n",
       "\u001b[0;31mType:\u001b[0m      builtin_function_or_method\n"
      ]
     },
     "metadata": {},
     "output_type": "display_data"
    }
   ],
   "source": [
    "a.repeat?"
   ]
  },
  {
   "cell_type": "code",
   "execution_count": 158,
   "id": "educated-transportation",
   "metadata": {},
   "outputs": [],
   "source": [
    "a.sort()"
   ]
  },
  {
   "cell_type": "code",
   "execution_count": 159,
   "id": "vietnamese-single",
   "metadata": {},
   "outputs": [
    {
     "data": {
      "text/plain": [
       "array([[ 4.,  6.,  8.],\n",
       "       [10., 12., 14.],\n",
       "       [16., 18., 20.]])"
      ]
     },
     "execution_count": 159,
     "metadata": {},
     "output_type": "execute_result"
    }
   ],
   "source": [
    "a"
   ]
  },
  {
   "cell_type": "code",
   "execution_count": 163,
   "id": "professional-welsh",
   "metadata": {},
   "outputs": [],
   "source": [
    "a=np.random.random((4,4))"
   ]
  },
  {
   "cell_type": "code",
   "execution_count": 164,
   "id": "falling-sperm",
   "metadata": {},
   "outputs": [
    {
     "data": {
      "text/plain": [
       "array([[0.39090563, 0.20737405, 0.61614507, 0.24824791],\n",
       "       [0.27998186, 0.73233469, 0.23315761, 0.31483316],\n",
       "       [0.93608818, 0.75575135, 0.49098425, 0.77231997],\n",
       "       [0.85150051, 0.60284958, 0.09659496, 0.17940232]])"
      ]
     },
     "execution_count": 164,
     "metadata": {},
     "output_type": "execute_result"
    }
   ],
   "source": [
    "a"
   ]
  },
  {
   "cell_type": "code",
   "execution_count": 165,
   "id": "moving-friday",
   "metadata": {},
   "outputs": [],
   "source": [
    "a.sort()"
   ]
  },
  {
   "cell_type": "code",
   "execution_count": 166,
   "id": "vocational-update",
   "metadata": {},
   "outputs": [],
   "source": [
    "a.sort(axis=1)"
   ]
  },
  {
   "cell_type": "code",
   "execution_count": 167,
   "id": "elementary-republican",
   "metadata": {},
   "outputs": [
    {
     "data": {
      "text/plain": [
       "array([0.09659496, 0.17940232, 0.20737405, 0.23315761, 0.24824791,\n",
       "       0.27998186, 0.31483316, 0.39090563, 0.49098425, 0.60284958,\n",
       "       0.61614507, 0.73233469, 0.75575135, 0.77231997, 0.85150051,\n",
       "       0.93608818])"
      ]
     },
     "execution_count": 167,
     "metadata": {},
     "output_type": "execute_result"
    }
   ],
   "source": [
    "np.unique(a)"
   ]
  },
  {
   "cell_type": "code",
   "execution_count": 168,
   "id": "isolated-meeting",
   "metadata": {},
   "outputs": [
    {
     "data": {
      "text/plain": [
       "array([[4, 4, 4],\n",
       "       [4, 4, 4],\n",
       "       [4, 4, 4]])"
      ]
     },
     "execution_count": 168,
     "metadata": {},
     "output_type": "execute_result"
    }
   ],
   "source": [
    "np.full((3,3),4)"
   ]
  },
  {
   "cell_type": "code",
   "execution_count": 170,
   "id": "academic-franchise",
   "metadata": {},
   "outputs": [],
   "source": [
    "a=np.array([[4,5,3],[5,3,5]])"
   ]
  },
  {
   "cell_type": "code",
   "execution_count": null,
   "id": "executive-plate",
   "metadata": {},
   "outputs": [],
   "source": []
  },
  {
   "cell_type": "code",
   "execution_count": 171,
   "id": "small-giant",
   "metadata": {},
   "outputs": [
    {
     "data": {
      "text/plain": [
       "array([[4, 5, 3],\n",
       "       [5, 3, 5]])"
      ]
     },
     "execution_count": 171,
     "metadata": {},
     "output_type": "execute_result"
    }
   ],
   "source": [
    "a"
   ]
  },
  {
   "cell_type": "code",
   "execution_count": 172,
   "id": "integrated-crown",
   "metadata": {},
   "outputs": [
    {
     "data": {
      "text/plain": [
       "array([[4, 5, 3],\n",
       "       [5, 3, 5],\n",
       "       [4, 5, 3],\n",
       "       [5, 3, 5]])"
      ]
     },
     "execution_count": 172,
     "metadata": {},
     "output_type": "execute_result"
    }
   ],
   "source": [
    "np.tile(a,(2,1))"
   ]
  },
  {
   "cell_type": "code",
   "execution_count": 173,
   "id": "resident-cornell",
   "metadata": {},
   "outputs": [
    {
     "data": {
      "text/plain": [
       "array([[4, 5, 3, 4, 5, 3],\n",
       "       [5, 3, 5, 5, 3, 5]])"
      ]
     },
     "execution_count": 173,
     "metadata": {},
     "output_type": "execute_result"
    }
   ],
   "source": [
    "np.tile(a,(1,2))"
   ]
  },
  {
   "cell_type": "code",
   "execution_count": 174,
   "id": "french-devil",
   "metadata": {},
   "outputs": [
    {
     "data": {
      "text/plain": [
       "array([[4, 5, 3],\n",
       "       [5, 3, 5]])"
      ]
     },
     "execution_count": 174,
     "metadata": {},
     "output_type": "execute_result"
    }
   ],
   "source": [
    "a"
   ]
  },
  {
   "cell_type": "code",
   "execution_count": 175,
   "id": "enhanced-nudist",
   "metadata": {},
   "outputs": [
    {
     "ename": "AttributeError",
     "evalue": "'numpy.ndarray' object has no attribute 'describe'",
     "output_type": "error",
     "traceback": [
      "\u001b[0;31m---------------------------------------------------------------------------\u001b[0m",
      "\u001b[0;31mAttributeError\u001b[0m                            Traceback (most recent call last)",
      "\u001b[0;32m<ipython-input-175-aad08ddc3c82>\u001b[0m in \u001b[0;36m<module>\u001b[0;34m\u001b[0m\n\u001b[0;32m----> 1\u001b[0;31m \u001b[0ma\u001b[0m\u001b[0;34m.\u001b[0m\u001b[0mdescribe\u001b[0m\u001b[0;34m(\u001b[0m\u001b[0;34m)\u001b[0m\u001b[0;34m\u001b[0m\u001b[0;34m\u001b[0m\u001b[0m\n\u001b[0m",
      "\u001b[0;31mAttributeError\u001b[0m: 'numpy.ndarray' object has no attribute 'describe'"
     ]
    }
   ],
   "source": [
    "a.describe()"
   ]
  },
  {
   "cell_type": "code",
   "execution_count": null,
   "id": "asian-senate",
   "metadata": {},
   "outputs": [],
   "source": []
  }
 ],
 "metadata": {
  "kernelspec": {
   "display_name": "Python 3",
   "language": "python",
   "name": "python3"
  },
  "language_info": {
   "codemirror_mode": {
    "name": "ipython",
    "version": 3
   },
   "file_extension": ".py",
   "mimetype": "text/x-python",
   "name": "python",
   "nbconvert_exporter": "python",
   "pygments_lexer": "ipython3",
   "version": "3.9.1"
  }
 },
 "nbformat": 4,
 "nbformat_minor": 5
}
